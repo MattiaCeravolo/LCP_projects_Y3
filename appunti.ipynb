{
 "metadata": {
  "language_info": {
   "codemirror_mode": {
    "name": "ipython",
    "version": 3
   },
   "file_extension": ".py",
   "mimetype": "text/x-python",
   "name": "python",
   "nbconvert_exporter": "python",
   "pygments_lexer": "ipython3",
   "version": 3
  },
  "orig_nbformat": 2
 },
 "nbformat": 4,
 "nbformat_minor": 2,
 "cells": [
  {
   "source": [
    "## Fast track reconstruction in drift tube detectors\n"
   ],
   "cell_type": "markdown",
   "metadata": {}
  },
  {
   "source": [
    "### Descrizione dell'apparato e funzionamento\n",
    "\n",
    "I dati che abbiamo provengono da quattro rivelatori diversi. Essi sono disposti in punti diversi dello spazio per ricoprire un'area maggiore e selezionare dunque un maggior numero di particelle durante la rivelazione. Ogni detector è costituito da quattro layers di celle, ciascuna misura il tempo necessario al segnale elettronico per muoversi dal punto in cui la particella viene rivelata fino al bordo della cella stessa. La particella ionizza un gas, produce così elettroni di drift che si diriggono con velocità circa costante verso l'estremo anodico al centro della cella. Al passaggio della singola particella non sappiamo se essa provenga da destra o da sinistra rispetto al centro della cella, quello che misuriamo infatti è soltanto il tempo necesario al segnale (elettroni) di spostarsi dal punto di ionizzazione fino al centro dove si trova il filo connesso all'elettronica del rivelatore. "
   ],
   "cell_type": "markdown",
   "metadata": {}
  },
  {
   "source": [
    "![alt text](./meantimer.png)\n",
    "\n",
    "\n",
    "Nell'immagine è presente parte dell'apparato sperimentale schematizzato. Vi sono quattro layers ma in ognuno di questi sono rappresentate due celle mentre nella realtà sono 16 per ogni piano. Il tempo in cui gli elettroni si spostano dal punto fino al filo centrale rappresentato con un punto nero nell'immagine è calcolato rispetto ad un \"counter\". A causa della simmetria dell'apparato esiste un'ambiguità destra-sinistra a proposito di dove la particella è passata rispetto al centro della cella. \n",
    "\n",
    "Quando la particella passa attraverso una cella sono prodotti elettroni che dopo un certo tempo raggiungono il centro della cella. L'elettronica misura il tempo, a partire da un counter iniziale, necessario alla particella per attraversare il rivelatore fino al punto di ionizzazione e  agli elettroni per raggiungere l'anodo, $t$. Chiamiamo invece il tempo di drift:\n",
    "\\begin{equation}\n",
    "x=v_d(t-t_0)\n",
    "\\end{equation}\n",
    "proporzionale alla distanza percorsa dagli elettroni dentro la cella stessa fino al centro. Il tempo $t_0$ (time pedestral) invece è da determinare e corrisponde all'istante in cui la particella è rivelata da una certa cella in un preciso layer. "
   ],
   "cell_type": "markdown",
   "metadata": {}
  },
  {
   "source": [
    "## Dataset\n",
    "\n"
   ],
   "cell_type": "markdown",
   "metadata": {}
  },
  {
   "source": [
    "Ogni dato è stato encoded in un file csv con sei colonne corrispondenti alle caratteristiche della misura:\n",
    "* *HEAD*: sempre 1 (useless)\n",
    "* *FPGA*: 0 o 1\n",
    "* *TDC_CHANNEL*: nell'intervallo 1-128, ci sono anche valori speciali (137, 138, 139) \n",
    "* *ORB_CNT*: nell'intervallo $0-2^{32}$\n",
    "* *BX*: nell'intervallo $0-3564$\n",
    "* *TDC_MEAS*: nell'intervallo $1-30$\n",
    "\n",
    "i canali \"TDC_CHANNEL\" mappano i quattro rivelatori in questo modo:\n",
    "\n",
    "* Detector 1 $\\rightarrow$ FPGA 0, TDC_CHANNEL in [1-64]\n",
    "* Detector 2 $\\rightarrow$ FPGA 0, TDC_CHANNEL in [65-128]\n",
    "* Detector 3 $\\rightarrow$ FPGA 1, TDC_CHANNEL in [1-64]\n",
    "* Detector 4 $\\rightarrow$ FPGA 1, TDC_CHANNEL in [65-128]\n",
    "\n",
    "le misure di tempo sono rappresentate similarmente allo standard ore-minuti-secondi e il tempo in nanosecondi è dato dalla seguente conversione:\n",
    "\n",
    "$$\n",
    "t=ORB\\_CNT*3564*25+BX*25+TDC\\_MEAS*25/30\n",
    "$$\n",
    "\n",
    "Vedremo successivamente che il valore in \"ORBIT\" influenza soltanto il modo in cui raggruppiamo i dati ma non le loro misure temporali. Ogni riga nel dataset corrisponde ad un HIT cioè il potenziale passaggio di una particella, nell'immagine una croce blu o verde. "
   ],
   "cell_type": "markdown",
   "metadata": {}
  },
  {
   "source": [
    "#### Trigger \n",
    "Il sistema di acquisizione dei dati non funziona tramite trigger esterni che comunicano quando una particella ha realmente attraversato il rivelatore bensì acquisisce dati con una certa frequenza di campionamento. E' come una videocamera che registra a 30 fps, essa \"apre\" il proprio obiettivo trenta volte al secondo e cattura tutto ciò che vede durante l'apertura dell'obiettivo. Nel nostro caso l'elettronica è in grado di distinguere quando durante un'acquisizione non si rivela alcun segnale ed elimina queste misure automaticamente. \n",
    "Tuttavia sono stati posti due trigger esterni all'apparato che segnalano quando:\n",
    "\n",
    "* passa una particella e segnano come TDC_CHANNEL=137 e 138\n",
    "* quando più hit si trovano in celle allineate allora TDC_CHANNEL=139\n"
   ],
   "cell_type": "markdown",
   "metadata": {}
  },
  {
   "cell_type": "code",
   "execution_count": null,
   "metadata": {},
   "outputs": [],
   "source": []
  }
 ]
}