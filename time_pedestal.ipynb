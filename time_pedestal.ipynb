{
 "metadata": {
  "language_info": {
   "codemirror_mode": {
    "name": "ipython",
    "version": 3
   },
   "file_extension": ".py",
   "mimetype": "text/x-python",
   "name": "python",
   "nbconvert_exporter": "python",
   "pygments_lexer": "ipython3",
   "version": "3.8.6-final"
  },
  "orig_nbformat": 2,
  "kernelspec": {
   "name": "python3",
   "display_name": "Python 3",
   "language": "python"
  }
 },
 "nbformat": 4,
 "nbformat_minor": 2,
 "cells": [
  {
   "cell_type": "code",
   "execution_count": 1,
   "metadata": {},
   "outputs": [],
   "source": [
    "import numpy as np \n",
    "import pandas as pd\n",
    "import time "
   ]
  },
  {
   "cell_type": "code",
   "execution_count": 2,
   "metadata": {},
   "outputs": [
    {
     "output_type": "display_data",
     "data": {
      "text/plain": "        TDC_CHANNEL     ORBIT_CNT  BX_COUNTER  TDC_MEAS          TIME  \\\n0              13.0  1.897417e+09       445.0      24.0  11145.000000   \n1              14.0  1.897417e+09       450.0       9.0  11257.500000   \n2              16.0  1.897417e+09       452.0      17.0  11314.166667   \n3             139.0  1.897417e+09       454.0       0.0  11350.000000   \n4              15.0  1.897417e+09       458.0       9.0  11457.500000   \n...             ...           ...         ...       ...           ...   \n122545         55.0  1.920940e+09       325.0       4.0   8128.333333   \n122546         56.0  1.920940e+09       327.0      22.0   8193.333333   \n122547        139.0  1.920940e+09       329.0       0.0   8225.000000   \n122548         54.0  1.920940e+09       331.0      20.0   8291.666667   \n122549         53.0  1.920940e+09       334.0      15.0   8362.500000   \n\n        DETECTOR  LAYER  \n0            3.0    4.0  \n1            3.0    2.0  \n2            3.0    1.0  \n3            0.0    0.0  \n4            3.0    3.0  \n...          ...    ...  \n122545       3.0    3.0  \n122546       3.0    1.0  \n122547       0.0    0.0  \n122548       3.0    2.0  \n122549       3.0    4.0  \n\n[122550 rows x 7 columns]",
      "text/html": "<div>\n<style scoped>\n    .dataframe tbody tr th:only-of-type {\n        vertical-align: middle;\n    }\n\n    .dataframe tbody tr th {\n        vertical-align: top;\n    }\n\n    .dataframe thead th {\n        text-align: right;\n    }\n</style>\n<table border=\"1\" class=\"dataframe\">\n  <thead>\n    <tr style=\"text-align: right;\">\n      <th></th>\n      <th>TDC_CHANNEL</th>\n      <th>ORBIT_CNT</th>\n      <th>BX_COUNTER</th>\n      <th>TDC_MEAS</th>\n      <th>TIME</th>\n      <th>DETECTOR</th>\n      <th>LAYER</th>\n    </tr>\n  </thead>\n  <tbody>\n    <tr>\n      <th>0</th>\n      <td>13.0</td>\n      <td>1.897417e+09</td>\n      <td>445.0</td>\n      <td>24.0</td>\n      <td>11145.000000</td>\n      <td>3.0</td>\n      <td>4.0</td>\n    </tr>\n    <tr>\n      <th>1</th>\n      <td>14.0</td>\n      <td>1.897417e+09</td>\n      <td>450.0</td>\n      <td>9.0</td>\n      <td>11257.500000</td>\n      <td>3.0</td>\n      <td>2.0</td>\n    </tr>\n    <tr>\n      <th>2</th>\n      <td>16.0</td>\n      <td>1.897417e+09</td>\n      <td>452.0</td>\n      <td>17.0</td>\n      <td>11314.166667</td>\n      <td>3.0</td>\n      <td>1.0</td>\n    </tr>\n    <tr>\n      <th>3</th>\n      <td>139.0</td>\n      <td>1.897417e+09</td>\n      <td>454.0</td>\n      <td>0.0</td>\n      <td>11350.000000</td>\n      <td>0.0</td>\n      <td>0.0</td>\n    </tr>\n    <tr>\n      <th>4</th>\n      <td>15.0</td>\n      <td>1.897417e+09</td>\n      <td>458.0</td>\n      <td>9.0</td>\n      <td>11457.500000</td>\n      <td>3.0</td>\n      <td>3.0</td>\n    </tr>\n    <tr>\n      <th>...</th>\n      <td>...</td>\n      <td>...</td>\n      <td>...</td>\n      <td>...</td>\n      <td>...</td>\n      <td>...</td>\n      <td>...</td>\n    </tr>\n    <tr>\n      <th>122545</th>\n      <td>55.0</td>\n      <td>1.920940e+09</td>\n      <td>325.0</td>\n      <td>4.0</td>\n      <td>8128.333333</td>\n      <td>3.0</td>\n      <td>3.0</td>\n    </tr>\n    <tr>\n      <th>122546</th>\n      <td>56.0</td>\n      <td>1.920940e+09</td>\n      <td>327.0</td>\n      <td>22.0</td>\n      <td>8193.333333</td>\n      <td>3.0</td>\n      <td>1.0</td>\n    </tr>\n    <tr>\n      <th>122547</th>\n      <td>139.0</td>\n      <td>1.920940e+09</td>\n      <td>329.0</td>\n      <td>0.0</td>\n      <td>8225.000000</td>\n      <td>0.0</td>\n      <td>0.0</td>\n    </tr>\n    <tr>\n      <th>122548</th>\n      <td>54.0</td>\n      <td>1.920940e+09</td>\n      <td>331.0</td>\n      <td>20.0</td>\n      <td>8291.666667</td>\n      <td>3.0</td>\n      <td>2.0</td>\n    </tr>\n    <tr>\n      <th>122549</th>\n      <td>53.0</td>\n      <td>1.920940e+09</td>\n      <td>334.0</td>\n      <td>15.0</td>\n      <td>8362.500000</td>\n      <td>3.0</td>\n      <td>4.0</td>\n    </tr>\n  </tbody>\n</table>\n<p>122550 rows × 7 columns</p>\n</div>"
     },
     "metadata": {}
    }
   ],
   "source": [
    "# il dataset è direttamente quello ottenuto dal notebook preprocessing tramite i filtri che abbiamo implementato \n",
    "dataset = pd.read_csv(\"dati_LS.csv\")\n",
    "display(dataset)"
   ]
  },
  {
   "cell_type": "code",
   "execution_count": 12,
   "metadata": {},
   "outputs": [
    {
     "output_type": "execute_result",
     "data": {
      "text/plain": [
       "        TDC_CHANNEL     ORBIT_CNT  BX_COUNTER  TDC_MEAS          TIME  \\\n",
       "0              13.0  1.897417e+09       445.0      24.0  11145.000000   \n",
       "1              14.0  1.897417e+09       450.0       9.0  11257.500000   \n",
       "2              16.0  1.897417e+09       452.0      17.0  11314.166667   \n",
       "3             139.0  1.897417e+09       454.0       0.0  11350.000000   \n",
       "4              15.0  1.897417e+09       458.0       9.0  11457.500000   \n",
       "...             ...           ...         ...       ...           ...   \n",
       "122545         55.0  1.920940e+09       325.0       4.0   8128.333333   \n",
       "122546         56.0  1.920940e+09       327.0      22.0   8193.333333   \n",
       "122547        139.0  1.920940e+09       329.0       0.0   8225.000000   \n",
       "122548         54.0  1.920940e+09       331.0      20.0   8291.666667   \n",
       "122549         53.0  1.920940e+09       334.0      15.0   8362.500000   \n",
       "\n",
       "        DETECTOR  LAYER  DRIFT_TIME  HOR_AMBIG_COORD  \n",
       "0            3.0    4.0         0.0              0.0  \n",
       "1            3.0    2.0         0.0              0.0  \n",
       "2            3.0    1.0         0.0              0.0  \n",
       "3            0.0    0.0         0.0              0.0  \n",
       "4            3.0    3.0         0.0              0.0  \n",
       "...          ...    ...         ...              ...  \n",
       "122545       3.0    3.0         0.0              0.0  \n",
       "122546       3.0    1.0         0.0              0.0  \n",
       "122547       0.0    0.0         0.0              0.0  \n",
       "122548       3.0    2.0         0.0              0.0  \n",
       "122549       3.0    4.0         0.0              0.0  \n",
       "\n",
       "[122550 rows x 9 columns]"
      ],
      "text/html": "<div>\n<style scoped>\n    .dataframe tbody tr th:only-of-type {\n        vertical-align: middle;\n    }\n\n    .dataframe tbody tr th {\n        vertical-align: top;\n    }\n\n    .dataframe thead th {\n        text-align: right;\n    }\n</style>\n<table border=\"1\" class=\"dataframe\">\n  <thead>\n    <tr style=\"text-align: right;\">\n      <th></th>\n      <th>TDC_CHANNEL</th>\n      <th>ORBIT_CNT</th>\n      <th>BX_COUNTER</th>\n      <th>TDC_MEAS</th>\n      <th>TIME</th>\n      <th>DETECTOR</th>\n      <th>LAYER</th>\n      <th>DRIFT_TIME</th>\n      <th>HOR_AMBIG_COORD</th>\n    </tr>\n  </thead>\n  <tbody>\n    <tr>\n      <th>0</th>\n      <td>13.0</td>\n      <td>1.897417e+09</td>\n      <td>445.0</td>\n      <td>24.0</td>\n      <td>11145.000000</td>\n      <td>3.0</td>\n      <td>4.0</td>\n      <td>0.0</td>\n      <td>0.0</td>\n    </tr>\n    <tr>\n      <th>1</th>\n      <td>14.0</td>\n      <td>1.897417e+09</td>\n      <td>450.0</td>\n      <td>9.0</td>\n      <td>11257.500000</td>\n      <td>3.0</td>\n      <td>2.0</td>\n      <td>0.0</td>\n      <td>0.0</td>\n    </tr>\n    <tr>\n      <th>2</th>\n      <td>16.0</td>\n      <td>1.897417e+09</td>\n      <td>452.0</td>\n      <td>17.0</td>\n      <td>11314.166667</td>\n      <td>3.0</td>\n      <td>1.0</td>\n      <td>0.0</td>\n      <td>0.0</td>\n    </tr>\n    <tr>\n      <th>3</th>\n      <td>139.0</td>\n      <td>1.897417e+09</td>\n      <td>454.0</td>\n      <td>0.0</td>\n      <td>11350.000000</td>\n      <td>0.0</td>\n      <td>0.0</td>\n      <td>0.0</td>\n      <td>0.0</td>\n    </tr>\n    <tr>\n      <th>4</th>\n      <td>15.0</td>\n      <td>1.897417e+09</td>\n      <td>458.0</td>\n      <td>9.0</td>\n      <td>11457.500000</td>\n      <td>3.0</td>\n      <td>3.0</td>\n      <td>0.0</td>\n      <td>0.0</td>\n    </tr>\n    <tr>\n      <th>...</th>\n      <td>...</td>\n      <td>...</td>\n      <td>...</td>\n      <td>...</td>\n      <td>...</td>\n      <td>...</td>\n      <td>...</td>\n      <td>...</td>\n      <td>...</td>\n    </tr>\n    <tr>\n      <th>122545</th>\n      <td>55.0</td>\n      <td>1.920940e+09</td>\n      <td>325.0</td>\n      <td>4.0</td>\n      <td>8128.333333</td>\n      <td>3.0</td>\n      <td>3.0</td>\n      <td>0.0</td>\n      <td>0.0</td>\n    </tr>\n    <tr>\n      <th>122546</th>\n      <td>56.0</td>\n      <td>1.920940e+09</td>\n      <td>327.0</td>\n      <td>22.0</td>\n      <td>8193.333333</td>\n      <td>3.0</td>\n      <td>1.0</td>\n      <td>0.0</td>\n      <td>0.0</td>\n    </tr>\n    <tr>\n      <th>122547</th>\n      <td>139.0</td>\n      <td>1.920940e+09</td>\n      <td>329.0</td>\n      <td>0.0</td>\n      <td>8225.000000</td>\n      <td>0.0</td>\n      <td>0.0</td>\n      <td>0.0</td>\n      <td>0.0</td>\n    </tr>\n    <tr>\n      <th>122548</th>\n      <td>54.0</td>\n      <td>1.920940e+09</td>\n      <td>331.0</td>\n      <td>20.0</td>\n      <td>8291.666667</td>\n      <td>3.0</td>\n      <td>2.0</td>\n      <td>0.0</td>\n      <td>0.0</td>\n    </tr>\n    <tr>\n      <th>122549</th>\n      <td>53.0</td>\n      <td>1.920940e+09</td>\n      <td>334.0</td>\n      <td>15.0</td>\n      <td>8362.500000</td>\n      <td>3.0</td>\n      <td>4.0</td>\n      <td>0.0</td>\n      <td>0.0</td>\n    </tr>\n  </tbody>\n</table>\n<p>122550 rows × 9 columns</p>\n</div>"
     },
     "metadata": {},
     "execution_count": 12
    }
   ],
   "source": [
    "#per qualche motivo non funziona\n",
    "df = dataset.copy()\n",
    "df[\"DRIFT_TIME\"] = np.zeros(len(df))\n",
    "df[\"HOR_AMBIG_COORD\"] = np.zeros(len(df))\n",
    "#display(df)\n",
    "#df.dtypes\n",
    "\n",
    "def compute_drift_time(x) :\n",
    "    v = 42/(2*390) #drift velocity in mm/ns\n",
    "    t0 = x.TIME[x[x['DETECTOR'] == 0].index]\n",
    "    l = (x[x['DETECTOR'] != 0]).index \n",
    "    # abbandono l'idea di nan assegnando array di zeri alle colonne drift time e hor_ambig_coord\n",
    "    x.loc[l, 'DRIFT_TIME'] = np.abs(np.array(x.loc[l, 'TIME'])-np.array(t0))\n",
    "    x.HOR_AMBIG_COORD[l] = v*np.abs(x.TIME[l] - t0)\n",
    "    return x\n",
    "\n",
    "df = df.groupby(['ORBIT_CNT'],group_keys=False)\\\n",
    "                     .apply(compute_drift_time)\\\n",
    "                     .reset_index()\\\n",
    "                     .drop(['index'],axis=1) #niente dropna per non perdere i trigger\n",
    "df"
   ]
  },
  {
   "cell_type": "code",
   "execution_count": 38,
   "metadata": {},
   "outputs": [
    {
     "output_type": "execute_result",
     "data": {
      "text/plain": [
       "   TDC_CHANNEL     ORBIT_CNT  BX_COUNTER  TDC_MEAS          TIME  DETECTOR  \\\n",
       "0         13.0  1.897417e+09       445.0      24.0  11145.000000       3.0   \n",
       "1         14.0  1.897417e+09       450.0       9.0  11257.500000       3.0   \n",
       "2         16.0  1.897417e+09       452.0      17.0  11314.166667       3.0   \n",
       "3        139.0  1.897417e+09       454.0       0.0  11350.000000       0.0   \n",
       "4         15.0  1.897417e+09       458.0       9.0  11457.500000       3.0   \n",
       "\n",
       "   LAYER  DRIFT_TIME  HOR_AMBIG_COORD  \n",
       "0    4.0  205.000000              0.0  \n",
       "1    2.0   92.500000              0.0  \n",
       "2    1.0   35.833333              0.0  \n",
       "3    0.0    0.000000              0.0  \n",
       "4    3.0  107.500000              0.0  "
      ],
      "text/html": "<div>\n<style scoped>\n    .dataframe tbody tr th:only-of-type {\n        vertical-align: middle;\n    }\n\n    .dataframe tbody tr th {\n        vertical-align: top;\n    }\n\n    .dataframe thead th {\n        text-align: right;\n    }\n</style>\n<table border=\"1\" class=\"dataframe\">\n  <thead>\n    <tr style=\"text-align: right;\">\n      <th></th>\n      <th>TDC_CHANNEL</th>\n      <th>ORBIT_CNT</th>\n      <th>BX_COUNTER</th>\n      <th>TDC_MEAS</th>\n      <th>TIME</th>\n      <th>DETECTOR</th>\n      <th>LAYER</th>\n      <th>DRIFT_TIME</th>\n      <th>HOR_AMBIG_COORD</th>\n    </tr>\n  </thead>\n  <tbody>\n    <tr>\n      <th>0</th>\n      <td>13.0</td>\n      <td>1.897417e+09</td>\n      <td>445.0</td>\n      <td>24.0</td>\n      <td>11145.000000</td>\n      <td>3.0</td>\n      <td>4.0</td>\n      <td>205.000000</td>\n      <td>0.0</td>\n    </tr>\n    <tr>\n      <th>1</th>\n      <td>14.0</td>\n      <td>1.897417e+09</td>\n      <td>450.0</td>\n      <td>9.0</td>\n      <td>11257.500000</td>\n      <td>3.0</td>\n      <td>2.0</td>\n      <td>92.500000</td>\n      <td>0.0</td>\n    </tr>\n    <tr>\n      <th>2</th>\n      <td>16.0</td>\n      <td>1.897417e+09</td>\n      <td>452.0</td>\n      <td>17.0</td>\n      <td>11314.166667</td>\n      <td>3.0</td>\n      <td>1.0</td>\n      <td>35.833333</td>\n      <td>0.0</td>\n    </tr>\n    <tr>\n      <th>3</th>\n      <td>139.0</td>\n      <td>1.897417e+09</td>\n      <td>454.0</td>\n      <td>0.0</td>\n      <td>11350.000000</td>\n      <td>0.0</td>\n      <td>0.0</td>\n      <td>0.000000</td>\n      <td>0.0</td>\n    </tr>\n    <tr>\n      <th>4</th>\n      <td>15.0</td>\n      <td>1.897417e+09</td>\n      <td>458.0</td>\n      <td>9.0</td>\n      <td>11457.500000</td>\n      <td>3.0</td>\n      <td>3.0</td>\n      <td>107.500000</td>\n      <td>0.0</td>\n    </tr>\n  </tbody>\n</table>\n</div>"
     },
     "metadata": {},
     "execution_count": 38
    }
   ],
   "source": [
    "dfprova = df.loc[df.groupby(['ORBIT_CNT']).groups.get(1897417007.0)]\n",
    "v = 42/(2*390)\n",
    "trigger_index = dfprova[dfprova['DETECTOR'] == 0].index # indice del trigger \n",
    "t0 = dfprova.TIME[trigger_index]\n",
    "l = (dfprova[dfprova['DETECTOR'] != 0]).index \n",
    "dfprova.loc[l, 'DRIFT_TIME'] = np.abs(np.array(dfprova.loc[l, 'TIME'])-np.array(t0))\n",
    "dfprova "
   ]
  },
  {
   "cell_type": "code",
   "execution_count": 11,
   "metadata": {
    "tags": []
   },
   "outputs": [
    {
     "output_type": "execute_result",
     "data": {
      "text/plain": [
       "        TDC_CHANNEL     ORBIT_CNT  BX_COUNTER  TDC_MEAS          TIME  \\\n",
       "0              13.0  1.897417e+09       445.0      24.0  11145.000000   \n",
       "1              14.0  1.897417e+09       450.0       9.0  11257.500000   \n",
       "2              16.0  1.897417e+09       452.0      17.0  11314.166667   \n",
       "3             139.0  1.897417e+09       454.0       0.0  11350.000000   \n",
       "4              15.0  1.897417e+09       458.0       9.0  11457.500000   \n",
       "...             ...           ...         ...       ...           ...   \n",
       "122545         55.0  1.920940e+09       325.0       4.0   8128.333333   \n",
       "122546         56.0  1.920940e+09       327.0      22.0   8193.333333   \n",
       "122547        139.0  1.920940e+09       329.0       0.0   8225.000000   \n",
       "122548         54.0  1.920940e+09       331.0      20.0   8291.666667   \n",
       "122549         53.0  1.920940e+09       334.0      15.0   8362.500000   \n",
       "\n",
       "        DETECTOR  LAYER  DRIFT_TIME  HOR_AMBIG_COORD  TIME_PEDESTAL  \n",
       "0            3.0    4.0         NaN              NaN            NaN  \n",
       "1            3.0    2.0         NaN              NaN            NaN  \n",
       "2            3.0    1.0         NaN              NaN            NaN  \n",
       "3            0.0    0.0         NaN              NaN        11350.0  \n",
       "4            3.0    3.0         NaN              NaN            NaN  \n",
       "...          ...    ...         ...              ...            ...  \n",
       "122545       3.0    3.0         NaN              NaN            NaN  \n",
       "122546       3.0    1.0         NaN              NaN            NaN  \n",
       "122547       0.0    0.0         NaN              NaN         8225.0  \n",
       "122548       3.0    2.0         NaN              NaN            NaN  \n",
       "122549       3.0    4.0         NaN              NaN            NaN  \n",
       "\n",
       "[122550 rows x 10 columns]"
      ],
      "text/html": "<div>\n<style scoped>\n    .dataframe tbody tr th:only-of-type {\n        vertical-align: middle;\n    }\n\n    .dataframe tbody tr th {\n        vertical-align: top;\n    }\n\n    .dataframe thead th {\n        text-align: right;\n    }\n</style>\n<table border=\"1\" class=\"dataframe\">\n  <thead>\n    <tr style=\"text-align: right;\">\n      <th></th>\n      <th>TDC_CHANNEL</th>\n      <th>ORBIT_CNT</th>\n      <th>BX_COUNTER</th>\n      <th>TDC_MEAS</th>\n      <th>TIME</th>\n      <th>DETECTOR</th>\n      <th>LAYER</th>\n      <th>DRIFT_TIME</th>\n      <th>HOR_AMBIG_COORD</th>\n      <th>TIME_PEDESTAL</th>\n    </tr>\n  </thead>\n  <tbody>\n    <tr>\n      <th>0</th>\n      <td>13.0</td>\n      <td>1.897417e+09</td>\n      <td>445.0</td>\n      <td>24.0</td>\n      <td>11145.000000</td>\n      <td>3.0</td>\n      <td>4.0</td>\n      <td>NaN</td>\n      <td>NaN</td>\n      <td>NaN</td>\n    </tr>\n    <tr>\n      <th>1</th>\n      <td>14.0</td>\n      <td>1.897417e+09</td>\n      <td>450.0</td>\n      <td>9.0</td>\n      <td>11257.500000</td>\n      <td>3.0</td>\n      <td>2.0</td>\n      <td>NaN</td>\n      <td>NaN</td>\n      <td>NaN</td>\n    </tr>\n    <tr>\n      <th>2</th>\n      <td>16.0</td>\n      <td>1.897417e+09</td>\n      <td>452.0</td>\n      <td>17.0</td>\n      <td>11314.166667</td>\n      <td>3.0</td>\n      <td>1.0</td>\n      <td>NaN</td>\n      <td>NaN</td>\n      <td>NaN</td>\n    </tr>\n    <tr>\n      <th>3</th>\n      <td>139.0</td>\n      <td>1.897417e+09</td>\n      <td>454.0</td>\n      <td>0.0</td>\n      <td>11350.000000</td>\n      <td>0.0</td>\n      <td>0.0</td>\n      <td>NaN</td>\n      <td>NaN</td>\n      <td>11350.0</td>\n    </tr>\n    <tr>\n      <th>4</th>\n      <td>15.0</td>\n      <td>1.897417e+09</td>\n      <td>458.0</td>\n      <td>9.0</td>\n      <td>11457.500000</td>\n      <td>3.0</td>\n      <td>3.0</td>\n      <td>NaN</td>\n      <td>NaN</td>\n      <td>NaN</td>\n    </tr>\n    <tr>\n      <th>...</th>\n      <td>...</td>\n      <td>...</td>\n      <td>...</td>\n      <td>...</td>\n      <td>...</td>\n      <td>...</td>\n      <td>...</td>\n      <td>...</td>\n      <td>...</td>\n      <td>...</td>\n    </tr>\n    <tr>\n      <th>122545</th>\n      <td>55.0</td>\n      <td>1.920940e+09</td>\n      <td>325.0</td>\n      <td>4.0</td>\n      <td>8128.333333</td>\n      <td>3.0</td>\n      <td>3.0</td>\n      <td>NaN</td>\n      <td>NaN</td>\n      <td>NaN</td>\n    </tr>\n    <tr>\n      <th>122546</th>\n      <td>56.0</td>\n      <td>1.920940e+09</td>\n      <td>327.0</td>\n      <td>22.0</td>\n      <td>8193.333333</td>\n      <td>3.0</td>\n      <td>1.0</td>\n      <td>NaN</td>\n      <td>NaN</td>\n      <td>NaN</td>\n    </tr>\n    <tr>\n      <th>122547</th>\n      <td>139.0</td>\n      <td>1.920940e+09</td>\n      <td>329.0</td>\n      <td>0.0</td>\n      <td>8225.000000</td>\n      <td>0.0</td>\n      <td>0.0</td>\n      <td>NaN</td>\n      <td>NaN</td>\n      <td>8225.0</td>\n    </tr>\n    <tr>\n      <th>122548</th>\n      <td>54.0</td>\n      <td>1.920940e+09</td>\n      <td>331.0</td>\n      <td>20.0</td>\n      <td>8291.666667</td>\n      <td>3.0</td>\n      <td>2.0</td>\n      <td>NaN</td>\n      <td>NaN</td>\n      <td>NaN</td>\n    </tr>\n    <tr>\n      <th>122549</th>\n      <td>53.0</td>\n      <td>1.920940e+09</td>\n      <td>334.0</td>\n      <td>15.0</td>\n      <td>8362.500000</td>\n      <td>3.0</td>\n      <td>4.0</td>\n      <td>NaN</td>\n      <td>NaN</td>\n      <td>NaN</td>\n    </tr>\n  </tbody>\n</table>\n<p>122550 rows × 10 columns</p>\n</div>"
     },
     "metadata": {},
     "execution_count": 11
    }
   ],
   "source": [
    "#non capisco!!\n",
    "df = dataset.copy()\n",
    "df[\"DRIFT_TIME\"] = np.nan\n",
    "df[\"HOR_AMBIG_COORD\"] = np.nan\n",
    "#display(df)\n",
    "#df.dtypes\n",
    "\n",
    "def assign_time_pedestal(group) :\n",
    "    t0 = group[\"TIME\"][group.DETECTOR == 0] #.astype(float)\n",
    "    #print(type(t0))\n",
    "    group1 = group#.copy() #è colpa di view vs copy? non sembra\n",
    "    group1[\"TIME_PEDESTAL\"] = t0 \n",
    "    return group1\n",
    "\n",
    "df = df.groupby(['ORBIT_CNT'],group_keys=False)\\\n",
    "                     .apply(assign_time_pedestal)\\\n",
    "                     .reset_index()\\\n",
    "                     .drop(['index'],axis=1) #niente dropna per non perdere i trigger\n",
    "df"
   ]
  },
  {
   "cell_type": "code",
   "execution_count": 15,
   "metadata": {},
   "outputs": [
    {
     "output_type": "execute_result",
     "data": {
      "text/plain": [
       "        TDC_CHANNEL     ORBIT_CNT  BX_COUNTER  TDC_MEAS          TIME  \\\n",
       "0              13.0  1.897417e+09       445.0      24.0  11145.000000   \n",
       "1              14.0  1.897417e+09       450.0       9.0  11257.500000   \n",
       "2              16.0  1.897417e+09       452.0      17.0  11314.166667   \n",
       "3             139.0  1.897417e+09       454.0       0.0  11350.000000   \n",
       "4              15.0  1.897417e+09       458.0       9.0  11457.500000   \n",
       "...             ...           ...         ...       ...           ...   \n",
       "122545         55.0  1.920940e+09       325.0       4.0   8128.333333   \n",
       "122546         56.0  1.920940e+09       327.0      22.0   8193.333333   \n",
       "122547        139.0  1.920940e+09       329.0       0.0   8225.000000   \n",
       "122548         54.0  1.920940e+09       331.0      20.0   8291.666667   \n",
       "122549         53.0  1.920940e+09       334.0      15.0   8362.500000   \n",
       "\n",
       "        DETECTOR  LAYER  \n",
       "0            3.0    4.0  \n",
       "1            3.0    2.0  \n",
       "2            3.0    1.0  \n",
       "3            0.0    0.0  \n",
       "4            3.0    3.0  \n",
       "...          ...    ...  \n",
       "122545       3.0    3.0  \n",
       "122546       3.0    1.0  \n",
       "122547       0.0    0.0  \n",
       "122548       3.0    2.0  \n",
       "122549       3.0    4.0  \n",
       "\n",
       "[122550 rows x 7 columns]"
      ],
      "text/html": "<div>\n<style scoped>\n    .dataframe tbody tr th:only-of-type {\n        vertical-align: middle;\n    }\n\n    .dataframe tbody tr th {\n        vertical-align: top;\n    }\n\n    .dataframe thead th {\n        text-align: right;\n    }\n</style>\n<table border=\"1\" class=\"dataframe\">\n  <thead>\n    <tr style=\"text-align: right;\">\n      <th></th>\n      <th>TDC_CHANNEL</th>\n      <th>ORBIT_CNT</th>\n      <th>BX_COUNTER</th>\n      <th>TDC_MEAS</th>\n      <th>TIME</th>\n      <th>DETECTOR</th>\n      <th>LAYER</th>\n    </tr>\n  </thead>\n  <tbody>\n    <tr>\n      <th>0</th>\n      <td>13.0</td>\n      <td>1.897417e+09</td>\n      <td>445.0</td>\n      <td>24.0</td>\n      <td>11145.000000</td>\n      <td>3.0</td>\n      <td>4.0</td>\n    </tr>\n    <tr>\n      <th>1</th>\n      <td>14.0</td>\n      <td>1.897417e+09</td>\n      <td>450.0</td>\n      <td>9.0</td>\n      <td>11257.500000</td>\n      <td>3.0</td>\n      <td>2.0</td>\n    </tr>\n    <tr>\n      <th>2</th>\n      <td>16.0</td>\n      <td>1.897417e+09</td>\n      <td>452.0</td>\n      <td>17.0</td>\n      <td>11314.166667</td>\n      <td>3.0</td>\n      <td>1.0</td>\n    </tr>\n    <tr>\n      <th>3</th>\n      <td>139.0</td>\n      <td>1.897417e+09</td>\n      <td>454.0</td>\n      <td>0.0</td>\n      <td>11350.000000</td>\n      <td>0.0</td>\n      <td>0.0</td>\n    </tr>\n    <tr>\n      <th>4</th>\n      <td>15.0</td>\n      <td>1.897417e+09</td>\n      <td>458.0</td>\n      <td>9.0</td>\n      <td>11457.500000</td>\n      <td>3.0</td>\n      <td>3.0</td>\n    </tr>\n    <tr>\n      <th>...</th>\n      <td>...</td>\n      <td>...</td>\n      <td>...</td>\n      <td>...</td>\n      <td>...</td>\n      <td>...</td>\n      <td>...</td>\n    </tr>\n    <tr>\n      <th>122545</th>\n      <td>55.0</td>\n      <td>1.920940e+09</td>\n      <td>325.0</td>\n      <td>4.0</td>\n      <td>8128.333333</td>\n      <td>3.0</td>\n      <td>3.0</td>\n    </tr>\n    <tr>\n      <th>122546</th>\n      <td>56.0</td>\n      <td>1.920940e+09</td>\n      <td>327.0</td>\n      <td>22.0</td>\n      <td>8193.333333</td>\n      <td>3.0</td>\n      <td>1.0</td>\n    </tr>\n    <tr>\n      <th>122547</th>\n      <td>139.0</td>\n      <td>1.920940e+09</td>\n      <td>329.0</td>\n      <td>0.0</td>\n      <td>8225.000000</td>\n      <td>0.0</td>\n      <td>0.0</td>\n    </tr>\n    <tr>\n      <th>122548</th>\n      <td>54.0</td>\n      <td>1.920940e+09</td>\n      <td>331.0</td>\n      <td>20.0</td>\n      <td>8291.666667</td>\n      <td>3.0</td>\n      <td>2.0</td>\n    </tr>\n    <tr>\n      <th>122549</th>\n      <td>53.0</td>\n      <td>1.920940e+09</td>\n      <td>334.0</td>\n      <td>15.0</td>\n      <td>8362.500000</td>\n      <td>3.0</td>\n      <td>4.0</td>\n    </tr>\n  </tbody>\n</table>\n<p>122550 rows × 7 columns</p>\n</div>"
     },
     "metadata": {},
     "execution_count": 15
    }
   ],
   "source": [
    "# df = dataset.copy()\n",
    "# df[\"DRIFT_TIME\"] = np.nan #nota: grazie ai filtri precedenti so che ogni orbita ha esattamente un trigger (ordine 0)\n",
    "# t0 = df.TIME[df.DETECTOR == 0]\n",
    "# df[\"DRIFT_TIME\"] = np.nan\n"
   ]
  },
  {
   "cell_type": "code",
   "execution_count": null,
   "metadata": {},
   "outputs": [],
   "source": [
    "#Da Mattia\n",
    "def event_plot(event):\n",
    "    \n",
    "    fig,ax1 = plt.subplots(figsize=(1.5*4.2*17,1.5*1.3*6))\n",
    "    \n",
    "    #dimensions of cells\n",
    "    dx=42\n",
    "    dy=13\n",
    "    \n",
    "    x = []\n",
    "    y = []\n",
    "    for i in range(len(event)):\n",
    "        hit = event.iloc[i]\n",
    "        y1 = dy * (4 - hit.LAYER + 1/2)\n",
    "        y.append(y1)\n",
    "        y.append(y1)\n",
    "        if hit.LAYER%2 == 0:\n",
    "            x1 = dx * (hit.COLUMN - 1/2) + hit.X \n",
    "            x2 = dx * (hit.COLUMN - 1/2) - hit.X \n",
    "            x.append(x1)\n",
    "            x.append(x2)\n",
    "        else:\n",
    "            x1 = dx * hit.COLUMN + hit.X \n",
    "            x2 = dx * hit.COLUMN - hit.X \n",
    "            x.append(x1)\n",
    "            x.append(x2)\n",
    "            \n",
    "\n",
    "    #draw the detector\n",
    "    ax1.set_xlim(0,42*16 + 42)\n",
    "    ax1.set_ylim(-13,13*4 + 13)\n",
    "\n",
    "\n",
    "    #coordinates of layer 4\n",
    "    x_1=np.arange(1,17)*42-dx\n",
    "    y_1=0\n",
    "    \n",
    "    #coordinates of layer 3\n",
    "    x_2=x_1+dx/2\n",
    "    y_2=dy\n",
    "    \n",
    "    #coordinates of layer 2\n",
    "    x_3=x_1\n",
    "    y_3=2*dy\n",
    "    \n",
    "    #coordinates of layer 1\n",
    "    x_4=x_2\n",
    "    y_4=3*dy\n",
    "    \n",
    "    for i in range(16):\n",
    "        rect = patches.Rectangle((x_1[i],y_1),dx,dy,linewidth=10,edgecolor='black',facecolor='none')\n",
    "        ax1.add_patch(rect)\n",
    "    \n",
    "        rect = patches.Rectangle((x_2[i],y_2),dx,dy,linewidth=10,edgecolor='black',facecolor='none')\n",
    "        ax1.add_patch(rect)\n",
    "    \n",
    "        rect = patches.Rectangle((x_3[i],y_3),dx,dy,linewidth=10,edgecolor='black',facecolor='none')\n",
    "        ax1.add_patch(rect)\n",
    "        \n",
    "        rect = patches.Rectangle((x_4[i],y_4),dx,dy,linewidth=10,edgecolor='black',facecolor='none')\n",
    "        ax1.add_patch(rect)\n",
    "        \n",
    "        ax1.axis('off')\n",
    "        \n",
    "    ax1.scatter(x,y, marker = 'x', c = 'red', s = 500, linewidth = 7)\n",
    "    return ax1"
   ]
  },
  {
   "cell_type": "code",
   "execution_count": null,
   "metadata": {},
   "outputs": [],
   "source": [
    "#da Mattia. Nota: dovrebbe essere solido sia all'ordine 0 che 2\n",
    "for i in np.unique(data_139prova.ORBIT_CNT.values)[:10]:\n",
    "    try:\n",
    "        event = data_139prova.groupby(['ORBIT_CNT','EVENT']).get_group((i,1))\n",
    "        event_plot(event)\n",
    "    except:\n",
    "        event = data_139prova.groupby(['ORBIT_CNT']).get_group(i)\n",
    "        event_plot(event)"
   ]
  }
 ]
}