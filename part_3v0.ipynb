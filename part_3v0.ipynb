{
 "metadata": {
  "language_info": {
   "codemirror_mode": {
    "name": "ipython",
    "version": 3
   },
   "file_extension": ".py",
   "mimetype": "text/x-python",
   "name": "python",
   "nbconvert_exporter": "python",
   "pygments_lexer": "ipython3",
   "version": "3.8.6-final"
  },
  "orig_nbformat": 2,
  "kernelspec": {
   "name": "python3",
   "display_name": "Python 3",
   "language": "python"
  }
 },
 "nbformat": 4,
 "nbformat_minor": 2,
 "cells": [
  {
   "source": [
    "# Parte 0"
   ],
   "cell_type": "markdown",
   "metadata": {}
  },
  {
   "cell_type": "code",
   "execution_count": 1,
   "metadata": {},
   "outputs": [],
   "source": [
    "import numpy as np \n",
    "import pandas as pd \n",
    "import numba \n",
    "import matplotlib.pyplot as plt\n",
    "import matplotlib.patches as patches\n",
    "from scipy import interpolate\n",
    "from scipy.stats import linregress\n",
    "from itertools import product"
   ]
  },
  {
   "source": [
    "conviene castare la maggior parte degli elementi nel dataframe a tipi più bassi tipo u_int8. L'unica difficoltà è che non esiste un nan int, solo float "
   ],
   "cell_type": "markdown",
   "metadata": {}
  },
  {
   "source": [
    "Strategia diversa: elimino le orbite senza trigger e con poche hits, calcolo subito il time pedestal e raggruppo gli eventi per vicinanza usando broadcasting e paralellizzazione.\n",
    "Nota: siccome numba non supporta il fancy indexing multidimensionale dovrei mollare il broadcasting e usare cicli e pertanto riscrivere la funzione, vediamo se ce n'è bisogno...\n",
    "è facile usare multiprocessing senza modificare la funzione ma poiché non posso costruire intervalli per tutti (orbit>>tdc meas e bx, perdo informazione) devo comunque ciclare sulle orbite e gestire al più decine di punti/intervalli, quindi magari l'overhead introdotto dall'aprire una pool non mi aiuta. Vediamo! In caso si può usare dask/dask+numba"
   ],
   "cell_type": "markdown",
   "metadata": {}
  },
  {
   "cell_type": "code",
   "execution_count": 2,
   "metadata": {},
   "outputs": [
    {
     "output_type": "execute_result",
     "data": {
      "text/plain": [
       "         TDC_CHANNEL   ORBIT_CNT  BX_COUNTER  TDC_MEAS          TIME  \\\n",
       "0                116  1897414884      1533.0      24.0  38345.000000   \n",
       "1                 71  1897414887      1650.0      21.0  41267.500000   \n",
       "2                 67  1897414914       980.0       8.0  24506.666667   \n",
       "3                 70  1897414922      1287.0       8.0  32181.666667   \n",
       "4                 57  1897414922      2162.0      22.0  54068.333333   \n",
       "...              ...         ...         ...       ...           ...   \n",
       "1292121          139  1920940255      2514.0       0.0  62850.000000   \n",
       "1292122           35  1920940255      2512.0      16.0  62813.333333   \n",
       "1292123           37  1920940255      2513.0       5.0  62829.166667   \n",
       "1292124          105  1920940255      2510.0      17.0  62764.166667   \n",
       "1292125           36         192         NaN       NaN           NaN   \n",
       "\n",
       "         DETECTOR  LAYER  \n",
       "0             4.0      1  \n",
       "1             4.0      3  \n",
       "2             4.0      3  \n",
       "3             4.0      2  \n",
       "4             1.0      4  \n",
       "...           ...    ...  \n",
       "1292121       0.0      0  \n",
       "1292122       3.0      3  \n",
       "1292123       3.0      4  \n",
       "1292124       4.0      4  \n",
       "1292125       3.0      1  \n",
       "\n",
       "[1292126 rows x 7 columns]"
      ],
      "text/html": "<div>\n<style scoped>\n    .dataframe tbody tr th:only-of-type {\n        vertical-align: middle;\n    }\n\n    .dataframe tbody tr th {\n        vertical-align: top;\n    }\n\n    .dataframe thead th {\n        text-align: right;\n    }\n</style>\n<table border=\"1\" class=\"dataframe\">\n  <thead>\n    <tr style=\"text-align: right;\">\n      <th></th>\n      <th>TDC_CHANNEL</th>\n      <th>ORBIT_CNT</th>\n      <th>BX_COUNTER</th>\n      <th>TDC_MEAS</th>\n      <th>TIME</th>\n      <th>DETECTOR</th>\n      <th>LAYER</th>\n    </tr>\n  </thead>\n  <tbody>\n    <tr>\n      <th>0</th>\n      <td>116</td>\n      <td>1897414884</td>\n      <td>1533.0</td>\n      <td>24.0</td>\n      <td>38345.000000</td>\n      <td>4.0</td>\n      <td>1</td>\n    </tr>\n    <tr>\n      <th>1</th>\n      <td>71</td>\n      <td>1897414887</td>\n      <td>1650.0</td>\n      <td>21.0</td>\n      <td>41267.500000</td>\n      <td>4.0</td>\n      <td>3</td>\n    </tr>\n    <tr>\n      <th>2</th>\n      <td>67</td>\n      <td>1897414914</td>\n      <td>980.0</td>\n      <td>8.0</td>\n      <td>24506.666667</td>\n      <td>4.0</td>\n      <td>3</td>\n    </tr>\n    <tr>\n      <th>3</th>\n      <td>70</td>\n      <td>1897414922</td>\n      <td>1287.0</td>\n      <td>8.0</td>\n      <td>32181.666667</td>\n      <td>4.0</td>\n      <td>2</td>\n    </tr>\n    <tr>\n      <th>4</th>\n      <td>57</td>\n      <td>1897414922</td>\n      <td>2162.0</td>\n      <td>22.0</td>\n      <td>54068.333333</td>\n      <td>1.0</td>\n      <td>4</td>\n    </tr>\n    <tr>\n      <th>...</th>\n      <td>...</td>\n      <td>...</td>\n      <td>...</td>\n      <td>...</td>\n      <td>...</td>\n      <td>...</td>\n      <td>...</td>\n    </tr>\n    <tr>\n      <th>1292121</th>\n      <td>139</td>\n      <td>1920940255</td>\n      <td>2514.0</td>\n      <td>0.0</td>\n      <td>62850.000000</td>\n      <td>0.0</td>\n      <td>0</td>\n    </tr>\n    <tr>\n      <th>1292122</th>\n      <td>35</td>\n      <td>1920940255</td>\n      <td>2512.0</td>\n      <td>16.0</td>\n      <td>62813.333333</td>\n      <td>3.0</td>\n      <td>3</td>\n    </tr>\n    <tr>\n      <th>1292123</th>\n      <td>37</td>\n      <td>1920940255</td>\n      <td>2513.0</td>\n      <td>5.0</td>\n      <td>62829.166667</td>\n      <td>3.0</td>\n      <td>4</td>\n    </tr>\n    <tr>\n      <th>1292124</th>\n      <td>105</td>\n      <td>1920940255</td>\n      <td>2510.0</td>\n      <td>17.0</td>\n      <td>62764.166667</td>\n      <td>4.0</td>\n      <td>4</td>\n    </tr>\n    <tr>\n      <th>1292125</th>\n      <td>36</td>\n      <td>192</td>\n      <td>NaN</td>\n      <td>NaN</td>\n      <td>NaN</td>\n      <td>3.0</td>\n      <td>1</td>\n    </tr>\n  </tbody>\n</table>\n<p>1292126 rows × 7 columns</p>\n</div>"
     },
     "metadata": {},
     "execution_count": 2
    }
   ],
   "source": [
    "#preparazione\n",
    "#DATA AQUISITION\n",
    "dataset = pd.read_csv(\"data_000000.txt\")\n",
    "\n",
    "ntriggers = dataset[(dataset['TDC_CHANNEL'] == 137) | (dataset['TDC_CHANNEL'] == 138)].shape[0]\n",
    "triggers = dataset[dataset['TDC_CHANNEL'] == 139].shape[0]\n",
    "total_orbits = dataset['ORBIT_CNT'].nunique()\n",
    "\n",
    "dataset['TIME'] = dataset['BX_COUNTER']*25 + dataset['TDC_MEAS']*25/30\n",
    "\n",
    "fpga = dataset['FPGA'] == 1 \n",
    "channel = (dataset['TDC_CHANNEL'] > 64) & (dataset['TDC_CHANNEL'] <= 128) \n",
    "trigger = dataset['TDC_CHANNEL'] == 139 \n",
    "\n",
    "detectors = [~fpga & ~channel, ~fpga & channel, fpga & ~channel, fpga & channel] \n",
    "for i in range(len(detectors)) : \n",
    "    dataset.loc[detectors[i],'DETECTOR'] = i+1 \n",
    "dataset.loc[trigger,'DETECTOR'] = 0 \n",
    "\n",
    "rest = dataset['TDC_CHANNEL'] % 4 \n",
    "dic_replace = {0:1, 2:2, 3:3, 1:4}\n",
    "dataset['LAYER'] = rest\n",
    "dataset['LAYER'].replace(dic_replace, inplace=True)\n",
    "dataset.loc[trigger,'LAYER'] = 0 \n",
    "dataset = dataset.drop(['HEAD','FPGA'],axis=1) \n",
    "\n",
    "dataset"
   ]
  },
  {
   "cell_type": "code",
   "execution_count": 3,
   "metadata": {},
   "outputs": [
    {
     "output_type": "execute_result",
     "data": {
      "text/plain": [
       "            TDC_CHANNEL  BX_COUNTER  TDC_MEAS          TIME  DETECTOR  LAYER\n",
       "ORBIT_CNT                                                                   \n",
       "1897414934           24      2014.0      13.0  50360.833333       1.0      1\n",
       "1897414934           26      2014.0      20.0  50366.666667       1.0      2\n",
       "1897414934           26      2026.0      13.0  50660.833333       1.0      2\n",
       "1897414934          139      2028.0       0.0  50700.000000       0.0      0\n",
       "1897414934           33      2026.0      14.0  50661.666667       1.0      4\n",
       "...                 ...         ...       ...           ...       ...    ...\n",
       "1920940255          101      2510.0      14.0  62761.666667       4.0      4\n",
       "1920940255          139      2514.0       0.0  62850.000000       0.0      0\n",
       "1920940255           35      2512.0      16.0  62813.333333       3.0      3\n",
       "1920940255           37      2513.0       5.0  62829.166667       3.0      4\n",
       "1920940255          105      2510.0      17.0  62764.166667       4.0      4\n",
       "\n",
       "[859585 rows x 6 columns]"
      ],
      "text/html": "<div>\n<style scoped>\n    .dataframe tbody tr th:only-of-type {\n        vertical-align: middle;\n    }\n\n    .dataframe tbody tr th {\n        vertical-align: top;\n    }\n\n    .dataframe thead th {\n        text-align: right;\n    }\n</style>\n<table border=\"1\" class=\"dataframe\">\n  <thead>\n    <tr style=\"text-align: right;\">\n      <th></th>\n      <th>TDC_CHANNEL</th>\n      <th>BX_COUNTER</th>\n      <th>TDC_MEAS</th>\n      <th>TIME</th>\n      <th>DETECTOR</th>\n      <th>LAYER</th>\n    </tr>\n    <tr>\n      <th>ORBIT_CNT</th>\n      <th></th>\n      <th></th>\n      <th></th>\n      <th></th>\n      <th></th>\n      <th></th>\n    </tr>\n  </thead>\n  <tbody>\n    <tr>\n      <th>1897414934</th>\n      <td>24</td>\n      <td>2014.0</td>\n      <td>13.0</td>\n      <td>50360.833333</td>\n      <td>1.0</td>\n      <td>1</td>\n    </tr>\n    <tr>\n      <th>1897414934</th>\n      <td>26</td>\n      <td>2014.0</td>\n      <td>20.0</td>\n      <td>50366.666667</td>\n      <td>1.0</td>\n      <td>2</td>\n    </tr>\n    <tr>\n      <th>1897414934</th>\n      <td>26</td>\n      <td>2026.0</td>\n      <td>13.0</td>\n      <td>50660.833333</td>\n      <td>1.0</td>\n      <td>2</td>\n    </tr>\n    <tr>\n      <th>1897414934</th>\n      <td>139</td>\n      <td>2028.0</td>\n      <td>0.0</td>\n      <td>50700.000000</td>\n      <td>0.0</td>\n      <td>0</td>\n    </tr>\n    <tr>\n      <th>1897414934</th>\n      <td>33</td>\n      <td>2026.0</td>\n      <td>14.0</td>\n      <td>50661.666667</td>\n      <td>1.0</td>\n      <td>4</td>\n    </tr>\n    <tr>\n      <th>...</th>\n      <td>...</td>\n      <td>...</td>\n      <td>...</td>\n      <td>...</td>\n      <td>...</td>\n      <td>...</td>\n    </tr>\n    <tr>\n      <th>1920940255</th>\n      <td>101</td>\n      <td>2510.0</td>\n      <td>14.0</td>\n      <td>62761.666667</td>\n      <td>4.0</td>\n      <td>4</td>\n    </tr>\n    <tr>\n      <th>1920940255</th>\n      <td>139</td>\n      <td>2514.0</td>\n      <td>0.0</td>\n      <td>62850.000000</td>\n      <td>0.0</td>\n      <td>0</td>\n    </tr>\n    <tr>\n      <th>1920940255</th>\n      <td>35</td>\n      <td>2512.0</td>\n      <td>16.0</td>\n      <td>62813.333333</td>\n      <td>3.0</td>\n      <td>3</td>\n    </tr>\n    <tr>\n      <th>1920940255</th>\n      <td>37</td>\n      <td>2513.0</td>\n      <td>5.0</td>\n      <td>62829.166667</td>\n      <td>3.0</td>\n      <td>4</td>\n    </tr>\n    <tr>\n      <th>1920940255</th>\n      <td>105</td>\n      <td>2510.0</td>\n      <td>17.0</td>\n      <td>62764.166667</td>\n      <td>4.0</td>\n      <td>4</td>\n    </tr>\n  </tbody>\n</table>\n<p>859585 rows × 6 columns</p>\n</div>"
     },
     "metadata": {},
     "execution_count": 3
    }
   ],
   "source": [
    "df = dataset.copy()\n",
    "# con df[df.TDC_CHANNEL == 139] ottengo le righe con channel = 139, se ne estraggo gli indici ottengo le orbite con trigger\n",
    "df = df.set_index(\"ORBIT_CNT\") #uso l'orbita stessa come indice\n",
    "df = df.loc[df[df.TDC_CHANNEL == 139].index] #rimuovo gli indici e pertanto le orbite senza trigger\n",
    "df"
   ]
  },
  {
   "cell_type": "code",
   "execution_count": 4,
   "metadata": {},
   "outputs": [
    {
     "output_type": "stream",
     "name": "stdout",
     "text": [
      "Wall time: 67.8 ms\n"
     ]
    },
    {
     "output_type": "execute_result",
     "data": {
      "text/plain": [
       "            TDC_CHANNEL  BX_COUNTER  TDC_MEAS          TIME  DETECTOR  LAYER\n",
       "ORBIT_CNT                                                                   \n",
       "1897414934           24      2014.0      13.0  50360.833333       1.0      1\n",
       "1897414934           26      2014.0      20.0  50366.666667       1.0      2\n",
       "1897414934           26      2026.0      13.0  50660.833333       1.0      2\n",
       "1897414934          139      2028.0       0.0  50700.000000       0.0      0\n",
       "1897414934           33      2026.0      14.0  50661.666667       1.0      4\n",
       "...                 ...         ...       ...           ...       ...    ...\n",
       "1920940255          101      2510.0      14.0  62761.666667       4.0      4\n",
       "1920940255          139      2514.0       0.0  62850.000000       0.0      0\n",
       "1920940255           35      2512.0      16.0  62813.333333       3.0      3\n",
       "1920940255           37      2513.0       5.0  62829.166667       3.0      4\n",
       "1920940255          105      2510.0      17.0  62764.166667       4.0      4\n",
       "\n",
       "[859534 rows x 6 columns]"
      ],
      "text/html": "<div>\n<style scoped>\n    .dataframe tbody tr th:only-of-type {\n        vertical-align: middle;\n    }\n\n    .dataframe tbody tr th {\n        vertical-align: top;\n    }\n\n    .dataframe thead th {\n        text-align: right;\n    }\n</style>\n<table border=\"1\" class=\"dataframe\">\n  <thead>\n    <tr style=\"text-align: right;\">\n      <th></th>\n      <th>TDC_CHANNEL</th>\n      <th>BX_COUNTER</th>\n      <th>TDC_MEAS</th>\n      <th>TIME</th>\n      <th>DETECTOR</th>\n      <th>LAYER</th>\n    </tr>\n    <tr>\n      <th>ORBIT_CNT</th>\n      <th></th>\n      <th></th>\n      <th></th>\n      <th></th>\n      <th></th>\n      <th></th>\n    </tr>\n  </thead>\n  <tbody>\n    <tr>\n      <th>1897414934</th>\n      <td>24</td>\n      <td>2014.0</td>\n      <td>13.0</td>\n      <td>50360.833333</td>\n      <td>1.0</td>\n      <td>1</td>\n    </tr>\n    <tr>\n      <th>1897414934</th>\n      <td>26</td>\n      <td>2014.0</td>\n      <td>20.0</td>\n      <td>50366.666667</td>\n      <td>1.0</td>\n      <td>2</td>\n    </tr>\n    <tr>\n      <th>1897414934</th>\n      <td>26</td>\n      <td>2026.0</td>\n      <td>13.0</td>\n      <td>50660.833333</td>\n      <td>1.0</td>\n      <td>2</td>\n    </tr>\n    <tr>\n      <th>1897414934</th>\n      <td>139</td>\n      <td>2028.0</td>\n      <td>0.0</td>\n      <td>50700.000000</td>\n      <td>0.0</td>\n      <td>0</td>\n    </tr>\n    <tr>\n      <th>1897414934</th>\n      <td>33</td>\n      <td>2026.0</td>\n      <td>14.0</td>\n      <td>50661.666667</td>\n      <td>1.0</td>\n      <td>4</td>\n    </tr>\n    <tr>\n      <th>...</th>\n      <td>...</td>\n      <td>...</td>\n      <td>...</td>\n      <td>...</td>\n      <td>...</td>\n      <td>...</td>\n    </tr>\n    <tr>\n      <th>1920940255</th>\n      <td>101</td>\n      <td>2510.0</td>\n      <td>14.0</td>\n      <td>62761.666667</td>\n      <td>4.0</td>\n      <td>4</td>\n    </tr>\n    <tr>\n      <th>1920940255</th>\n      <td>139</td>\n      <td>2514.0</td>\n      <td>0.0</td>\n      <td>62850.000000</td>\n      <td>0.0</td>\n      <td>0</td>\n    </tr>\n    <tr>\n      <th>1920940255</th>\n      <td>35</td>\n      <td>2512.0</td>\n      <td>16.0</td>\n      <td>62813.333333</td>\n      <td>3.0</td>\n      <td>3</td>\n    </tr>\n    <tr>\n      <th>1920940255</th>\n      <td>37</td>\n      <td>2513.0</td>\n      <td>5.0</td>\n      <td>62829.166667</td>\n      <td>3.0</td>\n      <td>4</td>\n    </tr>\n    <tr>\n      <th>1920940255</th>\n      <td>105</td>\n      <td>2510.0</td>\n      <td>17.0</td>\n      <td>62764.166667</td>\n      <td>4.0</td>\n      <td>4</td>\n    </tr>\n  </tbody>\n</table>\n<p>859534 rows × 6 columns</p>\n</div>"
     },
     "metadata": {},
     "execution_count": 4
    }
   ],
   "source": [
    "%%time\n",
    "#per eliminare le orbite con meno di 2 hits posso usare df1 = df1[df1.groupby([\"ORBIT_CNT\"],group_keys=False).size() > 2] (che mi dà un dataframe che su ogni riga ha il numero di eventi unici in corrispondenza di quell'indice, cioè il numero di hits per orbita). Già questa è una operazione molto efficiente che impiega decine di millisecondi, ma si può fare di meglio con una implementazione puramente basata su numpy!! Intanto metto questa prima implementazione. \n",
    "df1 = df[df.groupby([\"ORBIT_CNT\"],group_keys=False).size() > 2]\n",
    "df1"
   ]
  },
  {
   "cell_type": "code",
   "execution_count": 5,
   "metadata": {},
   "outputs": [
    {
     "output_type": "stream",
     "name": "stdout",
     "text": [
      "Wall time: 58.8 ms\n"
     ]
    },
    {
     "output_type": "execute_result",
     "data": {
      "text/plain": [
       "            TDC_CHANNEL  BX_COUNTER  TDC_MEAS          TIME  DETECTOR  LAYER\n",
       "ORBIT_CNT                                                                   \n",
       "1897414934           24      2014.0      13.0  50360.833333       1.0      1\n",
       "1897414934           26      2014.0      20.0  50366.666667       1.0      2\n",
       "1897414934           26      2026.0      13.0  50660.833333       1.0      2\n",
       "1897414934          139      2028.0       0.0  50700.000000       0.0      0\n",
       "1897414934           33      2026.0      14.0  50661.666667       1.0      4\n",
       "...                 ...         ...       ...           ...       ...    ...\n",
       "1920940255          101      2510.0      14.0  62761.666667       4.0      4\n",
       "1920940255          139      2514.0       0.0  62850.000000       0.0      0\n",
       "1920940255           35      2512.0      16.0  62813.333333       3.0      3\n",
       "1920940255           37      2513.0       5.0  62829.166667       3.0      4\n",
       "1920940255          105      2510.0      17.0  62764.166667       4.0      4\n",
       "\n",
       "[859534 rows x 6 columns]"
      ],
      "text/html": "<div>\n<style scoped>\n    .dataframe tbody tr th:only-of-type {\n        vertical-align: middle;\n    }\n\n    .dataframe tbody tr th {\n        vertical-align: top;\n    }\n\n    .dataframe thead th {\n        text-align: right;\n    }\n</style>\n<table border=\"1\" class=\"dataframe\">\n  <thead>\n    <tr style=\"text-align: right;\">\n      <th></th>\n      <th>TDC_CHANNEL</th>\n      <th>BX_COUNTER</th>\n      <th>TDC_MEAS</th>\n      <th>TIME</th>\n      <th>DETECTOR</th>\n      <th>LAYER</th>\n    </tr>\n    <tr>\n      <th>ORBIT_CNT</th>\n      <th></th>\n      <th></th>\n      <th></th>\n      <th></th>\n      <th></th>\n      <th></th>\n    </tr>\n  </thead>\n  <tbody>\n    <tr>\n      <th>1897414934</th>\n      <td>24</td>\n      <td>2014.0</td>\n      <td>13.0</td>\n      <td>50360.833333</td>\n      <td>1.0</td>\n      <td>1</td>\n    </tr>\n    <tr>\n      <th>1897414934</th>\n      <td>26</td>\n      <td>2014.0</td>\n      <td>20.0</td>\n      <td>50366.666667</td>\n      <td>1.0</td>\n      <td>2</td>\n    </tr>\n    <tr>\n      <th>1897414934</th>\n      <td>26</td>\n      <td>2026.0</td>\n      <td>13.0</td>\n      <td>50660.833333</td>\n      <td>1.0</td>\n      <td>2</td>\n    </tr>\n    <tr>\n      <th>1897414934</th>\n      <td>139</td>\n      <td>2028.0</td>\n      <td>0.0</td>\n      <td>50700.000000</td>\n      <td>0.0</td>\n      <td>0</td>\n    </tr>\n    <tr>\n      <th>1897414934</th>\n      <td>33</td>\n      <td>2026.0</td>\n      <td>14.0</td>\n      <td>50661.666667</td>\n      <td>1.0</td>\n      <td>4</td>\n    </tr>\n    <tr>\n      <th>...</th>\n      <td>...</td>\n      <td>...</td>\n      <td>...</td>\n      <td>...</td>\n      <td>...</td>\n      <td>...</td>\n    </tr>\n    <tr>\n      <th>1920940255</th>\n      <td>101</td>\n      <td>2510.0</td>\n      <td>14.0</td>\n      <td>62761.666667</td>\n      <td>4.0</td>\n      <td>4</td>\n    </tr>\n    <tr>\n      <th>1920940255</th>\n      <td>139</td>\n      <td>2514.0</td>\n      <td>0.0</td>\n      <td>62850.000000</td>\n      <td>0.0</td>\n      <td>0</td>\n    </tr>\n    <tr>\n      <th>1920940255</th>\n      <td>35</td>\n      <td>2512.0</td>\n      <td>16.0</td>\n      <td>62813.333333</td>\n      <td>3.0</td>\n      <td>3</td>\n    </tr>\n    <tr>\n      <th>1920940255</th>\n      <td>37</td>\n      <td>2513.0</td>\n      <td>5.0</td>\n      <td>62829.166667</td>\n      <td>3.0</td>\n      <td>4</td>\n    </tr>\n    <tr>\n      <th>1920940255</th>\n      <td>105</td>\n      <td>2510.0</td>\n      <td>17.0</td>\n      <td>62764.166667</td>\n      <td>4.0</td>\n      <td>4</td>\n    </tr>\n  </tbody>\n</table>\n<p>859534 rows × 6 columns</p>\n</div>"
     },
     "metadata": {},
     "execution_count": 5
    }
   ],
   "source": [
    "%%time\n",
    "#posso costruire a mano i group_keys del groupby in modo efficiente così. Se applico la funzione np.unique a df.index ottengo l'array delle orbite uniche; posso chiedere a np.unique di darmi inoltre l'array del numero di volte che un dato valore di ORBIT_CNT venga ripetuto (i.e. quante hits abbiano lo stesso ORBIT_CNT) e anche di dargli l'array che usato mediante fancy indexing sull'array dei valori unici restituisca l'array iniziale. Se effettuo fancy indexing mediante tale array dell'array counts recostruisco l'array iniziale, ma in ogni slot anziché avere l'orbita x ho il numero di volte che l'orbita x si presenta - cioè il numero di hits associate all'orbita x. A questo punto mi basta analogamente a sopra utilizzare l'array ...>2 per effettuare fancy indexing del dataframe e ho finito\n",
    "\n",
    "def remove_indexes_with_less_than_2_items(x) :\n",
    "    unq,unqtags,counts = np.unique(x.index,return_inverse=True,return_counts=True)\n",
    "    return x[counts[unqtags] > 2]\n",
    "\n",
    "def remove_indexes_with_less_than_2_items_groupby(x) : #metto anche l'alternativa basata su groupby, più o meno se la giocano come velocità\n",
    "    return x[x.groupby(x.index,group_keys=False).size() > 2]\n",
    "\n",
    "# unq,unqtags,counts = np.unique(df.index,return_inverse=True,return_counts=True)\n",
    "\n",
    "# df2[\"N_HITS\"] = counts[unqtags]\n",
    "# df2\n",
    "# df2[df2.N_HITS > 2]\n",
    "# df2\n",
    "# df2 = df[counts[unqtags] > 2]\n",
    "\n",
    "df2 = remove_indexes_with_less_than_2_items(df)\n",
    "df2"
   ]
  },
  {
   "cell_type": "code",
   "execution_count": 6,
   "metadata": {},
   "outputs": [
    {
     "output_type": "execute_result",
     "data": {
      "text/plain": [
       "True"
      ]
     },
     "metadata": {},
     "execution_count": 6
    }
   ],
   "source": [
    "np.allclose(df1,df2)"
   ]
  },
  {
   "source": [
    "Il guadagno è piccolissimo ora che lo misuro, quindi boh, magari non ne vale la pena  \n",
    "\n",
    "Lo lascio così perché in questo modo ho costruito una funzione riutilizzabile (a patto di aggiustare l'indice opportunamente)"
   ],
   "cell_type": "markdown",
   "metadata": {}
  },
  {
   "cell_type": "code",
   "execution_count": 7,
   "metadata": {},
   "outputs": [
    {
     "output_type": "stream",
     "name": "stdout",
     "text": [
      "ORBIT_CNT\n1897414934    [50700.0]\n1897415301    [70300.0]\n1897415425    [33375.0]\n1897415544    [30850.0]\n1897415674    [29950.0]\n                ...    \n1920940199    [84425.0]\n1920940234    [47725.0]\n1920940237      [350.0]\n1920940252    [13700.0]\n1920940255    [62850.0]\nName: TIME, Length: 90889, dtype: object\nWall time: 1.92 s\n"
     ]
    }
   ],
   "source": [
    "%%time\n",
    "#adesso calcolo il time pedestal e raggruppo gli eventi facendo così. Innanzitutto osservo che i valori possibili per i vari time pedestal altro non sono che l'array seguente:\n",
    "v = df2.loc[df2[\"TDC_CHANNEL\"] == 139,\"TIME\"].groupby(\"ORBIT_CNT\").apply(np.array)#.to_numpy() #senza quest'ultimo metodo ottengo una serie, che uso sotto\n",
    "print(v)\n",
    "#si noti che ogni slot di v è un array con potenzialmente più elementi; ad esempio v[22] contiene due trigger activations (4 elementi a 2 a 2 uguali, userò np.unique). Anche se vorrei evitare apply questa cella è comunque abbastanza veloce e mi aiuta molto per quello che segue (che al momento non so fare altrimenti)."
   ]
  },
  {
   "cell_type": "code",
   "execution_count": 8,
   "metadata": {},
   "outputs": [
    {
     "output_type": "stream",
     "name": "stdout",
     "text": [
      "[ 3300. 70975.  3300. 70975.]\n"
     ]
    }
   ],
   "source": [
    "#print(v[22])\n",
    "print(v.iloc[22]) #se no v.to_numpy()[22]"
   ]
  },
  {
   "cell_type": "code",
   "execution_count": 9,
   "metadata": {},
   "outputs": [
    {
     "output_type": "execute_result",
     "data": {
      "text/plain": [
       "            TDC_CHANNEL  BX_COUNTER  TDC_MEAS          TIME  DETECTOR  LAYER\n",
       "ORBIT_CNT                                                                   \n",
       "1897417363           97       129.0      17.0   3239.166667       4.0      4\n",
       "1897417363           93       130.0      10.0   3258.333333       4.0      4\n",
       "1897417363          139       132.0       0.0   3300.000000       0.0      0\n",
       "1897417363           99       130.0       3.0   3252.500000       4.0      3\n",
       "1897417363          112       128.0      25.0   3220.833333       4.0      1\n",
       "1897417363          106       129.0      23.0   3244.166667       4.0      2\n",
       "1897417363          101       130.0       7.0   3255.833333       4.0      4\n",
       "1897417363          108       129.0      24.0   3245.000000       4.0      1\n",
       "1897417363          103       138.0      25.0   3470.833333       4.0      3\n",
       "1897417363           62      2824.0      28.0  70623.333333       3.0      2\n",
       "1897417363           61      2826.0       5.0  70654.166667       3.0      4\n",
       "1897417363           63      2837.0      14.0  70936.666667       3.0      3\n",
       "1897417363          139      2839.0       0.0  70975.000000       0.0      0\n",
       "1897417363           29      2837.0       8.0  70931.666667       1.0      4\n",
       "1897417363           64      2837.0      27.0  70947.500000       3.0      1\n",
       "1897417363           97       129.0      17.0   3239.166667       4.0      4\n",
       "1897417363           93       130.0      10.0   3258.333333       4.0      4\n",
       "1897417363          139       132.0       0.0   3300.000000       0.0      0\n",
       "1897417363           99       130.0       3.0   3252.500000       4.0      3\n",
       "1897417363          112       128.0      25.0   3220.833333       4.0      1\n",
       "1897417363          106       129.0      23.0   3244.166667       4.0      2\n",
       "1897417363          101       130.0       7.0   3255.833333       4.0      4\n",
       "1897417363          108       129.0      24.0   3245.000000       4.0      1\n",
       "1897417363          103       138.0      25.0   3470.833333       4.0      3\n",
       "1897417363           62      2824.0      28.0  70623.333333       3.0      2\n",
       "1897417363           61      2826.0       5.0  70654.166667       3.0      4\n",
       "1897417363           63      2837.0      14.0  70936.666667       3.0      3\n",
       "1897417363          139      2839.0       0.0  70975.000000       0.0      0\n",
       "1897417363           29      2837.0       8.0  70931.666667       1.0      4\n",
       "1897417363           64      2837.0      27.0  70947.500000       3.0      1"
      ],
      "text/html": "<div>\n<style scoped>\n    .dataframe tbody tr th:only-of-type {\n        vertical-align: middle;\n    }\n\n    .dataframe tbody tr th {\n        vertical-align: top;\n    }\n\n    .dataframe thead th {\n        text-align: right;\n    }\n</style>\n<table border=\"1\" class=\"dataframe\">\n  <thead>\n    <tr style=\"text-align: right;\">\n      <th></th>\n      <th>TDC_CHANNEL</th>\n      <th>BX_COUNTER</th>\n      <th>TDC_MEAS</th>\n      <th>TIME</th>\n      <th>DETECTOR</th>\n      <th>LAYER</th>\n    </tr>\n    <tr>\n      <th>ORBIT_CNT</th>\n      <th></th>\n      <th></th>\n      <th></th>\n      <th></th>\n      <th></th>\n      <th></th>\n    </tr>\n  </thead>\n  <tbody>\n    <tr>\n      <th>1897417363</th>\n      <td>97</td>\n      <td>129.0</td>\n      <td>17.0</td>\n      <td>3239.166667</td>\n      <td>4.0</td>\n      <td>4</td>\n    </tr>\n    <tr>\n      <th>1897417363</th>\n      <td>93</td>\n      <td>130.0</td>\n      <td>10.0</td>\n      <td>3258.333333</td>\n      <td>4.0</td>\n      <td>4</td>\n    </tr>\n    <tr>\n      <th>1897417363</th>\n      <td>139</td>\n      <td>132.0</td>\n      <td>0.0</td>\n      <td>3300.000000</td>\n      <td>0.0</td>\n      <td>0</td>\n    </tr>\n    <tr>\n      <th>1897417363</th>\n      <td>99</td>\n      <td>130.0</td>\n      <td>3.0</td>\n      <td>3252.500000</td>\n      <td>4.0</td>\n      <td>3</td>\n    </tr>\n    <tr>\n      <th>1897417363</th>\n      <td>112</td>\n      <td>128.0</td>\n      <td>25.0</td>\n      <td>3220.833333</td>\n      <td>4.0</td>\n      <td>1</td>\n    </tr>\n    <tr>\n      <th>1897417363</th>\n      <td>106</td>\n      <td>129.0</td>\n      <td>23.0</td>\n      <td>3244.166667</td>\n      <td>4.0</td>\n      <td>2</td>\n    </tr>\n    <tr>\n      <th>1897417363</th>\n      <td>101</td>\n      <td>130.0</td>\n      <td>7.0</td>\n      <td>3255.833333</td>\n      <td>4.0</td>\n      <td>4</td>\n    </tr>\n    <tr>\n      <th>1897417363</th>\n      <td>108</td>\n      <td>129.0</td>\n      <td>24.0</td>\n      <td>3245.000000</td>\n      <td>4.0</td>\n      <td>1</td>\n    </tr>\n    <tr>\n      <th>1897417363</th>\n      <td>103</td>\n      <td>138.0</td>\n      <td>25.0</td>\n      <td>3470.833333</td>\n      <td>4.0</td>\n      <td>3</td>\n    </tr>\n    <tr>\n      <th>1897417363</th>\n      <td>62</td>\n      <td>2824.0</td>\n      <td>28.0</td>\n      <td>70623.333333</td>\n      <td>3.0</td>\n      <td>2</td>\n    </tr>\n    <tr>\n      <th>1897417363</th>\n      <td>61</td>\n      <td>2826.0</td>\n      <td>5.0</td>\n      <td>70654.166667</td>\n      <td>3.0</td>\n      <td>4</td>\n    </tr>\n    <tr>\n      <th>1897417363</th>\n      <td>63</td>\n      <td>2837.0</td>\n      <td>14.0</td>\n      <td>70936.666667</td>\n      <td>3.0</td>\n      <td>3</td>\n    </tr>\n    <tr>\n      <th>1897417363</th>\n      <td>139</td>\n      <td>2839.0</td>\n      <td>0.0</td>\n      <td>70975.000000</td>\n      <td>0.0</td>\n      <td>0</td>\n    </tr>\n    <tr>\n      <th>1897417363</th>\n      <td>29</td>\n      <td>2837.0</td>\n      <td>8.0</td>\n      <td>70931.666667</td>\n      <td>1.0</td>\n      <td>4</td>\n    </tr>\n    <tr>\n      <th>1897417363</th>\n      <td>64</td>\n      <td>2837.0</td>\n      <td>27.0</td>\n      <td>70947.500000</td>\n      <td>3.0</td>\n      <td>1</td>\n    </tr>\n    <tr>\n      <th>1897417363</th>\n      <td>97</td>\n      <td>129.0</td>\n      <td>17.0</td>\n      <td>3239.166667</td>\n      <td>4.0</td>\n      <td>4</td>\n    </tr>\n    <tr>\n      <th>1897417363</th>\n      <td>93</td>\n      <td>130.0</td>\n      <td>10.0</td>\n      <td>3258.333333</td>\n      <td>4.0</td>\n      <td>4</td>\n    </tr>\n    <tr>\n      <th>1897417363</th>\n      <td>139</td>\n      <td>132.0</td>\n      <td>0.0</td>\n      <td>3300.000000</td>\n      <td>0.0</td>\n      <td>0</td>\n    </tr>\n    <tr>\n      <th>1897417363</th>\n      <td>99</td>\n      <td>130.0</td>\n      <td>3.0</td>\n      <td>3252.500000</td>\n      <td>4.0</td>\n      <td>3</td>\n    </tr>\n    <tr>\n      <th>1897417363</th>\n      <td>112</td>\n      <td>128.0</td>\n      <td>25.0</td>\n      <td>3220.833333</td>\n      <td>4.0</td>\n      <td>1</td>\n    </tr>\n    <tr>\n      <th>1897417363</th>\n      <td>106</td>\n      <td>129.0</td>\n      <td>23.0</td>\n      <td>3244.166667</td>\n      <td>4.0</td>\n      <td>2</td>\n    </tr>\n    <tr>\n      <th>1897417363</th>\n      <td>101</td>\n      <td>130.0</td>\n      <td>7.0</td>\n      <td>3255.833333</td>\n      <td>4.0</td>\n      <td>4</td>\n    </tr>\n    <tr>\n      <th>1897417363</th>\n      <td>108</td>\n      <td>129.0</td>\n      <td>24.0</td>\n      <td>3245.000000</td>\n      <td>4.0</td>\n      <td>1</td>\n    </tr>\n    <tr>\n      <th>1897417363</th>\n      <td>103</td>\n      <td>138.0</td>\n      <td>25.0</td>\n      <td>3470.833333</td>\n      <td>4.0</td>\n      <td>3</td>\n    </tr>\n    <tr>\n      <th>1897417363</th>\n      <td>62</td>\n      <td>2824.0</td>\n      <td>28.0</td>\n      <td>70623.333333</td>\n      <td>3.0</td>\n      <td>2</td>\n    </tr>\n    <tr>\n      <th>1897417363</th>\n      <td>61</td>\n      <td>2826.0</td>\n      <td>5.0</td>\n      <td>70654.166667</td>\n      <td>3.0</td>\n      <td>4</td>\n    </tr>\n    <tr>\n      <th>1897417363</th>\n      <td>63</td>\n      <td>2837.0</td>\n      <td>14.0</td>\n      <td>70936.666667</td>\n      <td>3.0</td>\n      <td>3</td>\n    </tr>\n    <tr>\n      <th>1897417363</th>\n      <td>139</td>\n      <td>2839.0</td>\n      <td>0.0</td>\n      <td>70975.000000</td>\n      <td>0.0</td>\n      <td>0</td>\n    </tr>\n    <tr>\n      <th>1897417363</th>\n      <td>29</td>\n      <td>2837.0</td>\n      <td>8.0</td>\n      <td>70931.666667</td>\n      <td>1.0</td>\n      <td>4</td>\n    </tr>\n    <tr>\n      <th>1897417363</th>\n      <td>64</td>\n      <td>2837.0</td>\n      <td>27.0</td>\n      <td>70947.500000</td>\n      <td>3.0</td>\n      <td>1</td>\n    </tr>\n  </tbody>\n</table>\n</div>"
     },
     "metadata": {},
     "execution_count": 9
    }
   ],
   "source": [
    "df2.loc[v.index[22]]"
   ]
  },
  {
   "cell_type": "code",
   "execution_count": 10,
   "metadata": {},
   "outputs": [],
   "source": [
    "def findCells1d(points, bounds):\n",
    "    #points = points.reshape((-1,))\n",
    "\n",
    "    #controllo se i punti sono dentro i bounds\n",
    "    # dimensione 0 = bound\n",
    "    # dimensione 1 = point\n",
    "    allInBounds  = (points > bounds[:,None,0]) #broadcasting: vettore riga (con 1 elemento) > vettore colonna (spiegare meglio)\n",
    "    allInBounds &= (points < bounds[:,None,1])\n",
    "\n",
    "\n",
    "    # nz[0] = indici lungo dim 0 (bound)\n",
    "    # nz[1] = indici lungo dim 1 (point)\n",
    "    nz = np.nonzero(allInBounds)\n",
    "\n",
    "    # inizializzazione risultato\n",
    "    r = np.full(points.shape[0], np.nan) #così chi non appartiene a niente resta nan\n",
    "    # uso nz[1] per l'indexing della point position e nz[0] per dire a quale intervallo appartenga il punto\n",
    "    r[nz[1]] = nz[0]\n",
    "    return r #non esiste un nan intero, non posso castare il risultato direttamente ad int in ogni circostanza"
   ]
  },
  {
   "cell_type": "code",
   "execution_count": 11,
   "metadata": {},
   "outputs": [
    {
     "output_type": "stream",
     "name": "stdout",
     "text": [
      "[1 2 3 4]\n[[0.  1.5]\n [3.5 4.5]]\n"
     ]
    },
    {
     "output_type": "execute_result",
     "data": {
      "text/plain": [
       "array([ 0., nan, nan,  1.])"
      ]
     },
     "metadata": {},
     "execution_count": 11
    }
   ],
   "source": [
    "l = np.array([1,2,3,4])\n",
    "b = np.array([[0,1.5],[3.5,4.5]])\n",
    "print(l)\n",
    "print(b)\n",
    "findCells1d(l,b)"
   ]
  },
  {
   "cell_type": "code",
   "execution_count": 12,
   "metadata": {},
   "outputs": [
    {
     "output_type": "stream",
     "name": "stdout",
     "text": [
      "Wall time: 1min 42s\n"
     ]
    },
    {
     "output_type": "execute_result",
     "data": {
      "text/plain": [
       "            TDC_CHANNEL  BX_COUNTER  TDC_MEAS          TIME  DETECTOR  LAYER  \\\n",
       "ORBIT_CNT                                                                      \n",
       "1897414934           24      2014.0      13.0  50360.833333       1.0      1   \n",
       "1897414934           26      2014.0      20.0  50366.666667       1.0      2   \n",
       "1897414934           26      2026.0      13.0  50660.833333       1.0      2   \n",
       "1897414934          139      2028.0       0.0  50700.000000       0.0      0   \n",
       "1897414934           33      2026.0      14.0  50661.666667       1.0      4   \n",
       "...                 ...         ...       ...           ...       ...    ...   \n",
       "1920940255          101      2510.0      14.0  62761.666667       4.0      4   \n",
       "1920940255          139      2514.0       0.0  62850.000000       0.0      0   \n",
       "1920940255           35      2512.0      16.0  62813.333333       3.0      3   \n",
       "1920940255           37      2513.0       5.0  62829.166667       3.0      4   \n",
       "1920940255          105      2510.0      17.0  62764.166667       4.0      4   \n",
       "\n",
       "            EVENT  TIME_PEDESTAL  \n",
       "ORBIT_CNT                         \n",
       "1897414934    1.0        50700.0  \n",
       "1897414934    1.0        50700.0  \n",
       "1897414934    1.0        50700.0  \n",
       "1897414934    NaN            NaN  \n",
       "1897414934    1.0        50700.0  \n",
       "...           ...            ...  \n",
       "1920940255    1.0        62850.0  \n",
       "1920940255    NaN            NaN  \n",
       "1920940255    1.0        62850.0  \n",
       "1920940255    1.0        62850.0  \n",
       "1920940255    1.0        62850.0  \n",
       "\n",
       "[859534 rows x 8 columns]"
      ],
      "text/html": "<div>\n<style scoped>\n    .dataframe tbody tr th:only-of-type {\n        vertical-align: middle;\n    }\n\n    .dataframe tbody tr th {\n        vertical-align: top;\n    }\n\n    .dataframe thead th {\n        text-align: right;\n    }\n</style>\n<table border=\"1\" class=\"dataframe\">\n  <thead>\n    <tr style=\"text-align: right;\">\n      <th></th>\n      <th>TDC_CHANNEL</th>\n      <th>BX_COUNTER</th>\n      <th>TDC_MEAS</th>\n      <th>TIME</th>\n      <th>DETECTOR</th>\n      <th>LAYER</th>\n      <th>EVENT</th>\n      <th>TIME_PEDESTAL</th>\n    </tr>\n    <tr>\n      <th>ORBIT_CNT</th>\n      <th></th>\n      <th></th>\n      <th></th>\n      <th></th>\n      <th></th>\n      <th></th>\n      <th></th>\n      <th></th>\n    </tr>\n  </thead>\n  <tbody>\n    <tr>\n      <th>1897414934</th>\n      <td>24</td>\n      <td>2014.0</td>\n      <td>13.0</td>\n      <td>50360.833333</td>\n      <td>1.0</td>\n      <td>1</td>\n      <td>1.0</td>\n      <td>50700.0</td>\n    </tr>\n    <tr>\n      <th>1897414934</th>\n      <td>26</td>\n      <td>2014.0</td>\n      <td>20.0</td>\n      <td>50366.666667</td>\n      <td>1.0</td>\n      <td>2</td>\n      <td>1.0</td>\n      <td>50700.0</td>\n    </tr>\n    <tr>\n      <th>1897414934</th>\n      <td>26</td>\n      <td>2026.0</td>\n      <td>13.0</td>\n      <td>50660.833333</td>\n      <td>1.0</td>\n      <td>2</td>\n      <td>1.0</td>\n      <td>50700.0</td>\n    </tr>\n    <tr>\n      <th>1897414934</th>\n      <td>139</td>\n      <td>2028.0</td>\n      <td>0.0</td>\n      <td>50700.000000</td>\n      <td>0.0</td>\n      <td>0</td>\n      <td>NaN</td>\n      <td>NaN</td>\n    </tr>\n    <tr>\n      <th>1897414934</th>\n      <td>33</td>\n      <td>2026.0</td>\n      <td>14.0</td>\n      <td>50661.666667</td>\n      <td>1.0</td>\n      <td>4</td>\n      <td>1.0</td>\n      <td>50700.0</td>\n    </tr>\n    <tr>\n      <th>...</th>\n      <td>...</td>\n      <td>...</td>\n      <td>...</td>\n      <td>...</td>\n      <td>...</td>\n      <td>...</td>\n      <td>...</td>\n      <td>...</td>\n    </tr>\n    <tr>\n      <th>1920940255</th>\n      <td>101</td>\n      <td>2510.0</td>\n      <td>14.0</td>\n      <td>62761.666667</td>\n      <td>4.0</td>\n      <td>4</td>\n      <td>1.0</td>\n      <td>62850.0</td>\n    </tr>\n    <tr>\n      <th>1920940255</th>\n      <td>139</td>\n      <td>2514.0</td>\n      <td>0.0</td>\n      <td>62850.000000</td>\n      <td>0.0</td>\n      <td>0</td>\n      <td>NaN</td>\n      <td>NaN</td>\n    </tr>\n    <tr>\n      <th>1920940255</th>\n      <td>35</td>\n      <td>2512.0</td>\n      <td>16.0</td>\n      <td>62813.333333</td>\n      <td>3.0</td>\n      <td>3</td>\n      <td>1.0</td>\n      <td>62850.0</td>\n    </tr>\n    <tr>\n      <th>1920940255</th>\n      <td>37</td>\n      <td>2513.0</td>\n      <td>5.0</td>\n      <td>62829.166667</td>\n      <td>3.0</td>\n      <td>4</td>\n      <td>1.0</td>\n      <td>62850.0</td>\n    </tr>\n    <tr>\n      <th>1920940255</th>\n      <td>105</td>\n      <td>2510.0</td>\n      <td>17.0</td>\n      <td>62764.166667</td>\n      <td>4.0</td>\n      <td>4</td>\n      <td>1.0</td>\n      <td>62850.0</td>\n    </tr>\n  </tbody>\n</table>\n<p>859534 rows × 8 columns</p>\n</div>"
     },
     "metadata": {},
     "execution_count": 12
    }
   ],
   "source": [
    "%%time\n",
    "#qui numba non si può usare (numba non supporta pandas, ricorda)\n",
    "df2[\"EVENT\"] = np.nan #senza dà errore\n",
    "df2[\"TIME_PEDESTAL\"] = np.nan\n",
    "#ciclo sulle orbite; per ogni orbita estraggo i punti (tempi) da testare e li confronto con gli intervalli costruiti come t0 di quell'evento +- l'incertezza (430 è meglio ma per ora lascio 415)\n",
    "for index,subframe in df2.groupby(\"ORBIT_CNT\") : #ho già eliminato le orbite senza trigger, posso usare v[index] con impunità\n",
    "    t = np.unique(v.loc[index]) #importantissimo mettere unique ad esempio per sistemare v.iloc[22]; lì i 2 tempi sono raddoppiati e ho intervalli identici, dunque ambigui. Inoltre unique non rallenta le prestazioni di niente\n",
    "    t1, t2 = t - 415, t + 415\n",
    "    T = np.vstack((t1,t2)).T #array dove ogni riga è un array (intervallo) del tipo [t-,t+] -->array dei bounds\n",
    "    event = findCells1d(subframe.loc[subframe.DETECTOR != 0,\"TIME\"].to_numpy(),T) #se un dato tempo appartiene all'intervallo 0 vuol dire che si tratta dell'evento 0 (aggiungo in seguito 1 per avere una numerazione \"umana\", non subito così posso usarlo per il time pedestal). nan --> non appartiene a niente\n",
    "    df2.loc[index,\"EVENT\"].loc[subframe.DETECTOR != 0] = event+1\n",
    "    #una volta che so a quale evento appartiene posso usare l'evento stesso per effettuare l'indexing dell'array dei possibili t0 (cioè t) costruito sopra, che infatti determinano l'intervallo\n",
    "    try : #il nan non può essere castato ad int\n",
    "        df2.loc[index,\"TIME_PEDESTAL\"].loc[subframe.DETECTOR != 0] = t[event.astype(int)]\n",
    "    except :\n",
    "        continue\n",
    "df2\n",
    "#non esiste un nan intero, non posso castare event direttamente ad int in ogni circostanza\n",
    "\n",
    "#calcolando anche il time pedestal impiego 34-36 s in più tipicamente"
   ]
  },
  {
   "cell_type": "code",
   "execution_count": 13,
   "metadata": {},
   "outputs": [],
   "source": [
    "#TEST\n",
    "# for index,subframe in df2[:20].groupby(\"ORBIT_CNT\") :\n",
    "#     t = np.unique(v.loc[index])\n",
    "#     t1, t2 = t - 415, t + 415\n",
    "#     T = np.vstack((t1,t2)).T\n",
    "#     event = (findCells1d(subframe.loc[subframe.DETECTOR != 0,\"TIME\"].to_numpy(),T)+1).astype(int)\n",
    "#     print(event)\n",
    "#     print(type(event[0]))\n",
    "#     print(t[event-1])"
   ]
  },
  {
   "cell_type": "code",
   "execution_count": 14,
   "metadata": {},
   "outputs": [],
   "source": [
    "#TEST IN PICCOLO\n",
    "\n",
    "#%%timeit 4.26 ms ± 84.7 µs per loop (mean ± std. dev. of 7 runs, 100 loops each) \n",
    "# %%time\n",
    "# df2_mini = df2[:20]\n",
    "# df2_mini[\"EVENT\"] = np.nan\n",
    "# for index,subframe in df2_mini.groupby(\"ORBIT_CNT\") : #ho già eliminato le orbite senza trigger, posso usare v[index] con impunità\n",
    "#     t = v.loc[index]\n",
    "#     t1, t2 = t - 415, t + 415\n",
    "#     T = np.vstack((t1,t2)).T #array dove ogni riga è un array (intervallo) del tipo [t-,t+] -->array dei bounds\n",
    "#     #print(\"subframe['TIME']:\",subframe.TIME.to_numpy())\n",
    "#     #print(\"T:\",T)\n",
    "#     #print(\"findcells:\",findCells1d(subframe[\"TIME\"].to_numpy(),T)+1)\n",
    "#     #print(\"subframe.loc[subframe.DETECTOR != 0,'EVENT']:\",subframe.loc[subframe.DETECTOR != 0,\"EVENT\"])\n",
    "#     df2_mini.loc[index,\"EVENT\"].loc[subframe.DETECTOR != 0] = findCells1d(subframe.loc[subframe.DETECTOR != 0,\"TIME\"].to_numpy(),T)+1 #senza to numpy non funziona\n",
    "#     #df2.loc[index,\"EVENT\"] = findCells1d(subframe[\"TIME\"],T)+1 #se un dato tempo appartiene all'intervallo 0 vuol dire che si tratta dell'evento 0 (aggiungo 1 per avere una numerazione \"umana\"). nan --> non appartiene a niente\n",
    "\n",
    "# df2_mini"
   ]
  },
  {
   "cell_type": "code",
   "execution_count": 15,
   "metadata": {},
   "outputs": [
    {
     "output_type": "stream",
     "name": "stdout",
     "text": [
      "Wall time: 726 ms\n"
     ]
    },
    {
     "output_type": "execute_result",
     "data": {
      "text/plain": [
       "                  TDC_CHANNEL  BX_COUNTER  TDC_MEAS          TIME  DETECTOR  \\\n",
       "ORBIT_CNT  EVENT                                                              \n",
       "1897414934 1.0             24      2014.0      13.0  50360.833333       1.0   \n",
       "           1.0             26      2014.0      20.0  50366.666667       1.0   \n",
       "           1.0             26      2026.0      13.0  50660.833333       1.0   \n",
       "           1.0             33      2026.0      14.0  50661.666667       1.0   \n",
       "           1.0             27      2024.0      11.0  50609.166667       1.0   \n",
       "...                       ...         ...       ...           ...       ...   \n",
       "1920940255 1.0            106      2507.0      24.0  62695.000000       4.0   \n",
       "           1.0            101      2510.0      14.0  62761.666667       4.0   \n",
       "           1.0             35      2512.0      16.0  62813.333333       3.0   \n",
       "           1.0             37      2513.0       5.0  62829.166667       3.0   \n",
       "           1.0            105      2510.0      17.0  62764.166667       4.0   \n",
       "\n",
       "                  LAYER  TIME_PEDESTAL  \n",
       "ORBIT_CNT  EVENT                        \n",
       "1897414934 1.0        1        50700.0  \n",
       "           1.0        2        50700.0  \n",
       "           1.0        2        50700.0  \n",
       "           1.0        4        50700.0  \n",
       "           1.0        3        50700.0  \n",
       "...                 ...            ...  \n",
       "1920940255 1.0        2        62850.0  \n",
       "           1.0        4        62850.0  \n",
       "           1.0        3        62850.0  \n",
       "           1.0        4        62850.0  \n",
       "           1.0        4        62850.0  \n",
       "\n",
       "[604362 rows x 7 columns]"
      ],
      "text/html": "<div>\n<style scoped>\n    .dataframe tbody tr th:only-of-type {\n        vertical-align: middle;\n    }\n\n    .dataframe tbody tr th {\n        vertical-align: top;\n    }\n\n    .dataframe thead th {\n        text-align: right;\n    }\n</style>\n<table border=\"1\" class=\"dataframe\">\n  <thead>\n    <tr style=\"text-align: right;\">\n      <th></th>\n      <th></th>\n      <th>TDC_CHANNEL</th>\n      <th>BX_COUNTER</th>\n      <th>TDC_MEAS</th>\n      <th>TIME</th>\n      <th>DETECTOR</th>\n      <th>LAYER</th>\n      <th>TIME_PEDESTAL</th>\n    </tr>\n    <tr>\n      <th>ORBIT_CNT</th>\n      <th>EVENT</th>\n      <th></th>\n      <th></th>\n      <th></th>\n      <th></th>\n      <th></th>\n      <th></th>\n      <th></th>\n    </tr>\n  </thead>\n  <tbody>\n    <tr>\n      <th rowspan=\"5\" valign=\"top\">1897414934</th>\n      <th>1.0</th>\n      <td>24</td>\n      <td>2014.0</td>\n      <td>13.0</td>\n      <td>50360.833333</td>\n      <td>1.0</td>\n      <td>1</td>\n      <td>50700.0</td>\n    </tr>\n    <tr>\n      <th>1.0</th>\n      <td>26</td>\n      <td>2014.0</td>\n      <td>20.0</td>\n      <td>50366.666667</td>\n      <td>1.0</td>\n      <td>2</td>\n      <td>50700.0</td>\n    </tr>\n    <tr>\n      <th>1.0</th>\n      <td>26</td>\n      <td>2026.0</td>\n      <td>13.0</td>\n      <td>50660.833333</td>\n      <td>1.0</td>\n      <td>2</td>\n      <td>50700.0</td>\n    </tr>\n    <tr>\n      <th>1.0</th>\n      <td>33</td>\n      <td>2026.0</td>\n      <td>14.0</td>\n      <td>50661.666667</td>\n      <td>1.0</td>\n      <td>4</td>\n      <td>50700.0</td>\n    </tr>\n    <tr>\n      <th>1.0</th>\n      <td>27</td>\n      <td>2024.0</td>\n      <td>11.0</td>\n      <td>50609.166667</td>\n      <td>1.0</td>\n      <td>3</td>\n      <td>50700.0</td>\n    </tr>\n    <tr>\n      <th>...</th>\n      <th>...</th>\n      <td>...</td>\n      <td>...</td>\n      <td>...</td>\n      <td>...</td>\n      <td>...</td>\n      <td>...</td>\n      <td>...</td>\n    </tr>\n    <tr>\n      <th rowspan=\"5\" valign=\"top\">1920940255</th>\n      <th>1.0</th>\n      <td>106</td>\n      <td>2507.0</td>\n      <td>24.0</td>\n      <td>62695.000000</td>\n      <td>4.0</td>\n      <td>2</td>\n      <td>62850.0</td>\n    </tr>\n    <tr>\n      <th>1.0</th>\n      <td>101</td>\n      <td>2510.0</td>\n      <td>14.0</td>\n      <td>62761.666667</td>\n      <td>4.0</td>\n      <td>4</td>\n      <td>62850.0</td>\n    </tr>\n    <tr>\n      <th>1.0</th>\n      <td>35</td>\n      <td>2512.0</td>\n      <td>16.0</td>\n      <td>62813.333333</td>\n      <td>3.0</td>\n      <td>3</td>\n      <td>62850.0</td>\n    </tr>\n    <tr>\n      <th>1.0</th>\n      <td>37</td>\n      <td>2513.0</td>\n      <td>5.0</td>\n      <td>62829.166667</td>\n      <td>3.0</td>\n      <td>4</td>\n      <td>62850.0</td>\n    </tr>\n    <tr>\n      <th>1.0</th>\n      <td>105</td>\n      <td>2510.0</td>\n      <td>17.0</td>\n      <td>62764.166667</td>\n      <td>4.0</td>\n      <td>4</td>\n      <td>62850.0</td>\n    </tr>\n  </tbody>\n</table>\n<p>604362 rows × 7 columns</p>\n</div>"
     },
     "metadata": {},
     "execution_count": 15
    }
   ],
   "source": [
    "%%time\n",
    "#%%timeit #513 ms ± 9.6 ms per loop (mean ± std. dev. of 7 runs, 1 loop each)\n",
    "\n",
    "#a questo punto le uniche righe che contengono nan sono i trigger (ormai inutili perché ho già il time pedestal) e le hits non appartenenti a intervalli validi; con dropna elimino entrambe\n",
    "df3 = df2.copy().dropna().reset_index().set_index([\"ORBIT_CNT\",\"EVENT\"]) #ha senso costruire questo multiindice\n",
    "#df3 = df3.loc[(df3.EVENT != np.nan) | (df3.DETECTOR == 0)] \n",
    "#rimuovo gli EVENTI (non più solo le orbite) con meno di 3 hits\n",
    "#df3 = df3[df3.groupby([\"ORBIT_CNT\",\"EVENT\"],group_keys=False).size() > 2] #meglio usare index\n",
    "#df3 = df3[df3.groupby(df3.index,group_keys=False).size() > 2]\n",
    "df3 = remove_indexes_with_less_than_2_items_groupby(df3)\n",
    "df3"
   ]
  },
  {
   "cell_type": "code",
   "execution_count": 16,
   "metadata": {},
   "outputs": [
    {
     "output_type": "stream",
     "name": "stdout",
     "text": [
      "Wall time: 1.06 s\n"
     ]
    },
    {
     "output_type": "execute_result",
     "data": {
      "text/plain": [
       "                  TDC_CHANNEL  BX_COUNTER  TDC_MEAS          TIME  DETECTOR  \\\n",
       "ORBIT_CNT  EVENT                                                              \n",
       "1897414934 1.0             24      2014.0      13.0  50360.833333       1.0   \n",
       "           1.0             26      2014.0      20.0  50366.666667       1.0   \n",
       "           1.0             26      2026.0      13.0  50660.833333       1.0   \n",
       "           1.0             33      2026.0      14.0  50661.666667       1.0   \n",
       "           1.0             27      2024.0      11.0  50609.166667       1.0   \n",
       "...                       ...         ...       ...           ...       ...   \n",
       "1920940255 1.0            106      2507.0      24.0  62695.000000       4.0   \n",
       "           1.0            101      2510.0      14.0  62761.666667       4.0   \n",
       "           1.0             35      2512.0      16.0  62813.333333       3.0   \n",
       "           1.0             37      2513.0       5.0  62829.166667       3.0   \n",
       "           1.0            105      2510.0      17.0  62764.166667       4.0   \n",
       "\n",
       "                  LAYER  TIME_PEDESTAL  \n",
       "ORBIT_CNT  EVENT                        \n",
       "1897414934 1.0        1        50700.0  \n",
       "           1.0        2        50700.0  \n",
       "           1.0        2        50700.0  \n",
       "           1.0        4        50700.0  \n",
       "           1.0        3        50700.0  \n",
       "...                 ...            ...  \n",
       "1920940255 1.0        2        62850.0  \n",
       "           1.0        4        62850.0  \n",
       "           1.0        3        62850.0  \n",
       "           1.0        4        62850.0  \n",
       "           1.0        4        62850.0  \n",
       "\n",
       "[604362 rows x 7 columns]"
      ],
      "text/html": "<div>\n<style scoped>\n    .dataframe tbody tr th:only-of-type {\n        vertical-align: middle;\n    }\n\n    .dataframe tbody tr th {\n        vertical-align: top;\n    }\n\n    .dataframe thead th {\n        text-align: right;\n    }\n</style>\n<table border=\"1\" class=\"dataframe\">\n  <thead>\n    <tr style=\"text-align: right;\">\n      <th></th>\n      <th></th>\n      <th>TDC_CHANNEL</th>\n      <th>BX_COUNTER</th>\n      <th>TDC_MEAS</th>\n      <th>TIME</th>\n      <th>DETECTOR</th>\n      <th>LAYER</th>\n      <th>TIME_PEDESTAL</th>\n    </tr>\n    <tr>\n      <th>ORBIT_CNT</th>\n      <th>EVENT</th>\n      <th></th>\n      <th></th>\n      <th></th>\n      <th></th>\n      <th></th>\n      <th></th>\n      <th></th>\n    </tr>\n  </thead>\n  <tbody>\n    <tr>\n      <th rowspan=\"5\" valign=\"top\">1897414934</th>\n      <th>1.0</th>\n      <td>24</td>\n      <td>2014.0</td>\n      <td>13.0</td>\n      <td>50360.833333</td>\n      <td>1.0</td>\n      <td>1</td>\n      <td>50700.0</td>\n    </tr>\n    <tr>\n      <th>1.0</th>\n      <td>26</td>\n      <td>2014.0</td>\n      <td>20.0</td>\n      <td>50366.666667</td>\n      <td>1.0</td>\n      <td>2</td>\n      <td>50700.0</td>\n    </tr>\n    <tr>\n      <th>1.0</th>\n      <td>26</td>\n      <td>2026.0</td>\n      <td>13.0</td>\n      <td>50660.833333</td>\n      <td>1.0</td>\n      <td>2</td>\n      <td>50700.0</td>\n    </tr>\n    <tr>\n      <th>1.0</th>\n      <td>33</td>\n      <td>2026.0</td>\n      <td>14.0</td>\n      <td>50661.666667</td>\n      <td>1.0</td>\n      <td>4</td>\n      <td>50700.0</td>\n    </tr>\n    <tr>\n      <th>1.0</th>\n      <td>27</td>\n      <td>2024.0</td>\n      <td>11.0</td>\n      <td>50609.166667</td>\n      <td>1.0</td>\n      <td>3</td>\n      <td>50700.0</td>\n    </tr>\n    <tr>\n      <th>...</th>\n      <th>...</th>\n      <td>...</td>\n      <td>...</td>\n      <td>...</td>\n      <td>...</td>\n      <td>...</td>\n      <td>...</td>\n      <td>...</td>\n    </tr>\n    <tr>\n      <th rowspan=\"5\" valign=\"top\">1920940255</th>\n      <th>1.0</th>\n      <td>106</td>\n      <td>2507.0</td>\n      <td>24.0</td>\n      <td>62695.000000</td>\n      <td>4.0</td>\n      <td>2</td>\n      <td>62850.0</td>\n    </tr>\n    <tr>\n      <th>1.0</th>\n      <td>101</td>\n      <td>2510.0</td>\n      <td>14.0</td>\n      <td>62761.666667</td>\n      <td>4.0</td>\n      <td>4</td>\n      <td>62850.0</td>\n    </tr>\n    <tr>\n      <th>1.0</th>\n      <td>35</td>\n      <td>2512.0</td>\n      <td>16.0</td>\n      <td>62813.333333</td>\n      <td>3.0</td>\n      <td>3</td>\n      <td>62850.0</td>\n    </tr>\n    <tr>\n      <th>1.0</th>\n      <td>37</td>\n      <td>2513.0</td>\n      <td>5.0</td>\n      <td>62829.166667</td>\n      <td>3.0</td>\n      <td>4</td>\n      <td>62850.0</td>\n    </tr>\n    <tr>\n      <th>1.0</th>\n      <td>105</td>\n      <td>2510.0</td>\n      <td>17.0</td>\n      <td>62764.166667</td>\n      <td>4.0</td>\n      <td>4</td>\n      <td>62850.0</td>\n    </tr>\n  </tbody>\n</table>\n<p>604362 rows × 7 columns</p>\n</div>"
     },
     "metadata": {},
     "execution_count": 16
    }
   ],
   "source": [
    "%%time\n",
    "#%%timeit #663 ms ± 29.2 ms per loop (mean ± std. dev. of 7 runs, 1 loop each) #più lenta di circa 150 millisecondi?\n",
    "\n",
    "df50 = df2.copy().dropna().reset_index().set_index([\"ORBIT_CNT\",\"EVENT\"])\n",
    "df50 = remove_indexes_with_less_than_2_items(df50)\n",
    "df50"
   ]
  },
  {
   "cell_type": "code",
   "execution_count": 17,
   "metadata": {},
   "outputs": [
    {
     "output_type": "execute_result",
     "data": {
      "text/plain": [
       "True"
      ]
     },
     "metadata": {},
     "execution_count": 17
    }
   ],
   "source": [
    "np.allclose(df3,df50)"
   ]
  },
  {
   "cell_type": "code",
   "execution_count": 18,
   "metadata": {},
   "outputs": [],
   "source": [
    "#(df3.groupby([\"ORBIT_CNT\",\"EVENT\"]).size() > 2).all()#.iloc[62]"
   ]
  },
  {
   "cell_type": "code",
   "execution_count": 19,
   "metadata": {},
   "outputs": [],
   "source": [
    "# i = (df3.groupby([\"ORBIT_CNT\",\"EVENT\"]).size() > 2)[df3.groupby([\"ORBIT_CNT\",\"EVENT\"]).size() > 2].index\n",
    "# #df4 = df3.reset_index().set_index([\"ORBIT_CNT\",\"EVENT\"]).iloc[i]\n",
    "# #df4\n",
    "# #df3.reset_index().set_index([\"ORBIT_CNT\",\"EVENT\"]).iloc[i]\n",
    "# df4 = df3.reset_index().set_index([\"ORBIT_CNT\",\"EVENT\"])\n",
    "# df4.groupby(df4.index).size()"
   ]
  },
  {
   "cell_type": "code",
   "execution_count": 20,
   "metadata": {},
   "outputs": [],
   "source": [
    "# dati = pd.read_csv(\"dati_LS1.csv\")\n",
    "# dati[:20]\n",
    "# df3[:20]\n",
    "# dati.loc[dati[\"ORBIT_CNT\"]==1897417007]"
   ]
  },
  {
   "cell_type": "code",
   "execution_count": 21,
   "metadata": {},
   "outputs": [],
   "source": [
    "#df3.to_csv(\"df3_part_3.csv\")"
   ]
  },
  {
   "source": [
    "Da notare che nella assegnazione degli eventi ho anche automaticamente chiesto che fossero vicini ai time pedestal, quindi ho applicato anche uno dei filtri nel notebook sul time pedestal"
   ],
   "cell_type": "markdown",
   "metadata": {}
  },
  {
   "cell_type": "code",
   "execution_count": 22,
   "metadata": {},
   "outputs": [
    {
     "output_type": "stream",
     "name": "stdout",
     "text": [
      "Wall time: 1min 26s\n"
     ]
    },
    {
     "output_type": "execute_result",
     "data": {
      "text/plain": [
       "                  TDC_CHANNEL  BX_COUNTER  TDC_MEAS          TIME  DETECTOR  \\\n",
       "ORBIT_CNT  EVENT                                                              \n",
       "1897414934 1.0             24      2014.0      13.0  50360.833333       1.0   \n",
       "           1.0             26      2014.0      20.0  50366.666667       1.0   \n",
       "           1.0             26      2026.0      13.0  50660.833333       1.0   \n",
       "           1.0             33      2026.0      14.0  50661.666667       1.0   \n",
       "           1.0             27      2024.0      11.0  50609.166667       1.0   \n",
       "...                       ...         ...       ...           ...       ...   \n",
       "1920940252 1.0             24       550.0      20.0  13766.666667       3.0   \n",
       "1920940255 1.0            102      2510.0      22.0  62768.333333       4.0   \n",
       "           1.0            106      2507.0      24.0  62695.000000       4.0   \n",
       "           1.0            101      2510.0      14.0  62761.666667       4.0   \n",
       "           1.0            105      2510.0      17.0  62764.166667       4.0   \n",
       "\n",
       "                  LAYER  TIME_PEDESTAL  \n",
       "ORBIT_CNT  EVENT                        \n",
       "1897414934 1.0        1        50700.0  \n",
       "           1.0        2        50700.0  \n",
       "           1.0        2        50700.0  \n",
       "           1.0        4        50700.0  \n",
       "           1.0        3        50700.0  \n",
       "...                 ...            ...  \n",
       "1920940252 1.0        1        13700.0  \n",
       "1920940255 1.0        2        62850.0  \n",
       "           1.0        2        62850.0  \n",
       "           1.0        4        62850.0  \n",
       "           1.0        4        62850.0  \n",
       "\n",
       "[445420 rows x 7 columns]"
      ],
      "text/html": "<div>\n<style scoped>\n    .dataframe tbody tr th:only-of-type {\n        vertical-align: middle;\n    }\n\n    .dataframe tbody tr th {\n        vertical-align: top;\n    }\n\n    .dataframe thead th {\n        text-align: right;\n    }\n</style>\n<table border=\"1\" class=\"dataframe\">\n  <thead>\n    <tr style=\"text-align: right;\">\n      <th></th>\n      <th></th>\n      <th>TDC_CHANNEL</th>\n      <th>BX_COUNTER</th>\n      <th>TDC_MEAS</th>\n      <th>TIME</th>\n      <th>DETECTOR</th>\n      <th>LAYER</th>\n      <th>TIME_PEDESTAL</th>\n    </tr>\n    <tr>\n      <th>ORBIT_CNT</th>\n      <th>EVENT</th>\n      <th></th>\n      <th></th>\n      <th></th>\n      <th></th>\n      <th></th>\n      <th></th>\n      <th></th>\n    </tr>\n  </thead>\n  <tbody>\n    <tr>\n      <th rowspan=\"5\" valign=\"top\">1897414934</th>\n      <th>1.0</th>\n      <td>24</td>\n      <td>2014.0</td>\n      <td>13.0</td>\n      <td>50360.833333</td>\n      <td>1.0</td>\n      <td>1</td>\n      <td>50700.0</td>\n    </tr>\n    <tr>\n      <th>1.0</th>\n      <td>26</td>\n      <td>2014.0</td>\n      <td>20.0</td>\n      <td>50366.666667</td>\n      <td>1.0</td>\n      <td>2</td>\n      <td>50700.0</td>\n    </tr>\n    <tr>\n      <th>1.0</th>\n      <td>26</td>\n      <td>2026.0</td>\n      <td>13.0</td>\n      <td>50660.833333</td>\n      <td>1.0</td>\n      <td>2</td>\n      <td>50700.0</td>\n    </tr>\n    <tr>\n      <th>1.0</th>\n      <td>33</td>\n      <td>2026.0</td>\n      <td>14.0</td>\n      <td>50661.666667</td>\n      <td>1.0</td>\n      <td>4</td>\n      <td>50700.0</td>\n    </tr>\n    <tr>\n      <th>1.0</th>\n      <td>27</td>\n      <td>2024.0</td>\n      <td>11.0</td>\n      <td>50609.166667</td>\n      <td>1.0</td>\n      <td>3</td>\n      <td>50700.0</td>\n    </tr>\n    <tr>\n      <th>...</th>\n      <th>...</th>\n      <td>...</td>\n      <td>...</td>\n      <td>...</td>\n      <td>...</td>\n      <td>...</td>\n      <td>...</td>\n      <td>...</td>\n    </tr>\n    <tr>\n      <th>1920940252</th>\n      <th>1.0</th>\n      <td>24</td>\n      <td>550.0</td>\n      <td>20.0</td>\n      <td>13766.666667</td>\n      <td>3.0</td>\n      <td>1</td>\n      <td>13700.0</td>\n    </tr>\n    <tr>\n      <th rowspan=\"4\" valign=\"top\">1920940255</th>\n      <th>1.0</th>\n      <td>102</td>\n      <td>2510.0</td>\n      <td>22.0</td>\n      <td>62768.333333</td>\n      <td>4.0</td>\n      <td>2</td>\n      <td>62850.0</td>\n    </tr>\n    <tr>\n      <th>1.0</th>\n      <td>106</td>\n      <td>2507.0</td>\n      <td>24.0</td>\n      <td>62695.000000</td>\n      <td>4.0</td>\n      <td>2</td>\n      <td>62850.0</td>\n    </tr>\n    <tr>\n      <th>1.0</th>\n      <td>101</td>\n      <td>2510.0</td>\n      <td>14.0</td>\n      <td>62761.666667</td>\n      <td>4.0</td>\n      <td>4</td>\n      <td>62850.0</td>\n    </tr>\n    <tr>\n      <th>1.0</th>\n      <td>105</td>\n      <td>2510.0</td>\n      <td>17.0</td>\n      <td>62764.166667</td>\n      <td>4.0</td>\n      <td>4</td>\n      <td>62850.0</td>\n    </tr>\n  </tbody>\n</table>\n<p>445420 rows × 7 columns</p>\n</div>"
     },
     "metadata": {},
     "execution_count": 22
    }
   ],
   "source": [
    "%%time\n",
    "#adesso devo risolvere il problema di eliminare gli eventi spalmati su più detector!\n",
    "df4 = df3.copy()\n",
    "#df3.DETECTOR.loc[df3.DETECTOR == 1]\n",
    "for index,subframe in df3.groupby(df3.index) :\n",
    "    #most_common_detector = subframe.DETECTOR.mode()[0]\n",
    "    #df4.loc[index,\"DETECTOR\"].loc[subframe.DETECTOR != most_common_detector] = np.nan\n",
    "    df4.loc[index,\"DETECTOR\"].loc[subframe.DETECTOR != subframe.DETECTOR.mode()[0]] = np.nan\n",
    "\n",
    "df4 = df4.dropna()\n",
    "df4 = remove_indexes_with_less_than_2_items_groupby(df4)\n",
    "df4"
   ]
  },
  {
   "cell_type": "code",
   "execution_count": 23,
   "metadata": {},
   "outputs": [],
   "source": [
    "#se voglio contare quanti eventi hanno almeno 3 layer attivi mi basta raggruppare per indice e usare nunique(), che mi restituisce il numero unico di valori presenti in una data colonna in corrispondenza di un dato indice (non unico in quanto condiviso da più hits)\n",
    "#print(np.count_nonzero((df4.groupby(df4.index).nunique()[\"LAYER\"] > 2).to_numpy())/len(df4.groupby(df4.index).nunique())*100,\"%\") #99.83228670147032 %"
   ]
  },
  {
   "cell_type": "code",
   "execution_count": 24,
   "metadata": {},
   "outputs": [
    {
     "output_type": "stream",
     "name": "stdout",
     "text": [
      "Wall time: 1 s\n"
     ]
    },
    {
     "output_type": "execute_result",
     "data": {
      "text/plain": [
       "                  TDC_CHANNEL  BX_COUNTER  TDC_MEAS          TIME  DETECTOR  \\\n",
       "ORBIT_CNT  EVENT                                                              \n",
       "1897414934 1.0             24      2014.0      13.0  50360.833333       1.0   \n",
       "           1.0             26      2014.0      20.0  50366.666667       1.0   \n",
       "           1.0             26      2026.0      13.0  50660.833333       1.0   \n",
       "           1.0             33      2026.0      14.0  50661.666667       1.0   \n",
       "           1.0             27      2024.0      11.0  50609.166667       1.0   \n",
       "...                       ...         ...       ...           ...       ...   \n",
       "1920940237 1.0            118        12.0      11.0    309.166667       2.0   \n",
       "1920940252 1.0             25       546.0       2.0  13651.666667       3.0   \n",
       "           1.0             23       550.0      26.0  13771.666667       3.0   \n",
       "           1.0             26       545.0      21.0  13642.500000       3.0   \n",
       "           1.0             24       550.0      20.0  13766.666667       3.0   \n",
       "\n",
       "                  LAYER  TIME_PEDESTAL  \n",
       "ORBIT_CNT  EVENT                        \n",
       "1897414934 1.0        1        50700.0  \n",
       "           1.0        2        50700.0  \n",
       "           1.0        2        50700.0  \n",
       "           1.0        4        50700.0  \n",
       "           1.0        3        50700.0  \n",
       "...                 ...            ...  \n",
       "1920940237 1.0        2          350.0  \n",
       "1920940252 1.0        4        13700.0  \n",
       "           1.0        3        13700.0  \n",
       "           1.0        2        13700.0  \n",
       "           1.0        1        13700.0  \n",
       "\n",
       "[444606 rows x 7 columns]"
      ],
      "text/html": "<div>\n<style scoped>\n    .dataframe tbody tr th:only-of-type {\n        vertical-align: middle;\n    }\n\n    .dataframe tbody tr th {\n        vertical-align: top;\n    }\n\n    .dataframe thead th {\n        text-align: right;\n    }\n</style>\n<table border=\"1\" class=\"dataframe\">\n  <thead>\n    <tr style=\"text-align: right;\">\n      <th></th>\n      <th></th>\n      <th>TDC_CHANNEL</th>\n      <th>BX_COUNTER</th>\n      <th>TDC_MEAS</th>\n      <th>TIME</th>\n      <th>DETECTOR</th>\n      <th>LAYER</th>\n      <th>TIME_PEDESTAL</th>\n    </tr>\n    <tr>\n      <th>ORBIT_CNT</th>\n      <th>EVENT</th>\n      <th></th>\n      <th></th>\n      <th></th>\n      <th></th>\n      <th></th>\n      <th></th>\n      <th></th>\n    </tr>\n  </thead>\n  <tbody>\n    <tr>\n      <th rowspan=\"5\" valign=\"top\">1897414934</th>\n      <th>1.0</th>\n      <td>24</td>\n      <td>2014.0</td>\n      <td>13.0</td>\n      <td>50360.833333</td>\n      <td>1.0</td>\n      <td>1</td>\n      <td>50700.0</td>\n    </tr>\n    <tr>\n      <th>1.0</th>\n      <td>26</td>\n      <td>2014.0</td>\n      <td>20.0</td>\n      <td>50366.666667</td>\n      <td>1.0</td>\n      <td>2</td>\n      <td>50700.0</td>\n    </tr>\n    <tr>\n      <th>1.0</th>\n      <td>26</td>\n      <td>2026.0</td>\n      <td>13.0</td>\n      <td>50660.833333</td>\n      <td>1.0</td>\n      <td>2</td>\n      <td>50700.0</td>\n    </tr>\n    <tr>\n      <th>1.0</th>\n      <td>33</td>\n      <td>2026.0</td>\n      <td>14.0</td>\n      <td>50661.666667</td>\n      <td>1.0</td>\n      <td>4</td>\n      <td>50700.0</td>\n    </tr>\n    <tr>\n      <th>1.0</th>\n      <td>27</td>\n      <td>2024.0</td>\n      <td>11.0</td>\n      <td>50609.166667</td>\n      <td>1.0</td>\n      <td>3</td>\n      <td>50700.0</td>\n    </tr>\n    <tr>\n      <th>...</th>\n      <th>...</th>\n      <td>...</td>\n      <td>...</td>\n      <td>...</td>\n      <td>...</td>\n      <td>...</td>\n      <td>...</td>\n      <td>...</td>\n    </tr>\n    <tr>\n      <th>1920940237</th>\n      <th>1.0</th>\n      <td>118</td>\n      <td>12.0</td>\n      <td>11.0</td>\n      <td>309.166667</td>\n      <td>2.0</td>\n      <td>2</td>\n      <td>350.0</td>\n    </tr>\n    <tr>\n      <th rowspan=\"4\" valign=\"top\">1920940252</th>\n      <th>1.0</th>\n      <td>25</td>\n      <td>546.0</td>\n      <td>2.0</td>\n      <td>13651.666667</td>\n      <td>3.0</td>\n      <td>4</td>\n      <td>13700.0</td>\n    </tr>\n    <tr>\n      <th>1.0</th>\n      <td>23</td>\n      <td>550.0</td>\n      <td>26.0</td>\n      <td>13771.666667</td>\n      <td>3.0</td>\n      <td>3</td>\n      <td>13700.0</td>\n    </tr>\n    <tr>\n      <th>1.0</th>\n      <td>26</td>\n      <td>545.0</td>\n      <td>21.0</td>\n      <td>13642.500000</td>\n      <td>3.0</td>\n      <td>2</td>\n      <td>13700.0</td>\n    </tr>\n    <tr>\n      <th>1.0</th>\n      <td>24</td>\n      <td>550.0</td>\n      <td>20.0</td>\n      <td>13766.666667</td>\n      <td>3.0</td>\n      <td>1</td>\n      <td>13700.0</td>\n    </tr>\n  </tbody>\n</table>\n<p>444606 rows × 7 columns</p>\n</div>"
     },
     "metadata": {},
     "execution_count": 24
    }
   ],
   "source": [
    "%%time\n",
    "df4 = df4[df4.groupby(df4.index).nunique()[\"LAYER\"] > 2] #rimuovo gli indici (=orbite+eventi=eventi assoluti) che non hanno almeno 3 valori unici nella colonna layer\n",
    "df4"
   ]
  },
  {
   "cell_type": "code",
   "execution_count": 25,
   "metadata": {},
   "outputs": [
    {
     "output_type": "execute_result",
     "data": {
      "text/plain": [
       "                  TDC_CHANNEL  BX_COUNTER  TDC_MEAS          TIME  DETECTOR  \\\n",
       "ORBIT_CNT  EVENT                                                              \n",
       "1897415301 1.0             86      2802.0      27.0  70072.500000       2.0   \n",
       "           1.0             87      2798.0       9.0  69957.500000       2.0   \n",
       "           1.0             88      2810.0      24.0  70270.000000       2.0   \n",
       "           1.0             89      2807.0      27.0  70197.500000       2.0   \n",
       "1897415425 1.0             31      1323.0       2.0  33076.666667       3.0   \n",
       "...                       ...         ...       ...           ...       ...   \n",
       "1920940237 1.0            118        12.0      11.0    309.166667       2.0   \n",
       "1920940252 1.0             25       546.0       2.0  13651.666667       3.0   \n",
       "           1.0             23       550.0      26.0  13771.666667       3.0   \n",
       "           1.0             26       545.0      21.0  13642.500000       3.0   \n",
       "           1.0             24       550.0      20.0  13766.666667       3.0   \n",
       "\n",
       "                  LAYER  TIME_PEDESTAL  \n",
       "ORBIT_CNT  EVENT                        \n",
       "1897415301 1.0        2        70300.0  \n",
       "           1.0        3        70300.0  \n",
       "           1.0        1        70300.0  \n",
       "           1.0        4        70300.0  \n",
       "1897415425 1.0        3        33375.0  \n",
       "...                 ...            ...  \n",
       "1920940237 1.0        2          350.0  \n",
       "1920940252 1.0        4        13700.0  \n",
       "           1.0        3        13700.0  \n",
       "           1.0        2        13700.0  \n",
       "           1.0        1        13700.0  \n",
       "\n",
       "[214515 rows x 7 columns]"
      ],
      "text/html": "<div>\n<style scoped>\n    .dataframe tbody tr th:only-of-type {\n        vertical-align: middle;\n    }\n\n    .dataframe tbody tr th {\n        vertical-align: top;\n    }\n\n    .dataframe thead th {\n        text-align: right;\n    }\n</style>\n<table border=\"1\" class=\"dataframe\">\n  <thead>\n    <tr style=\"text-align: right;\">\n      <th></th>\n      <th></th>\n      <th>TDC_CHANNEL</th>\n      <th>BX_COUNTER</th>\n      <th>TDC_MEAS</th>\n      <th>TIME</th>\n      <th>DETECTOR</th>\n      <th>LAYER</th>\n      <th>TIME_PEDESTAL</th>\n    </tr>\n    <tr>\n      <th>ORBIT_CNT</th>\n      <th>EVENT</th>\n      <th></th>\n      <th></th>\n      <th></th>\n      <th></th>\n      <th></th>\n      <th></th>\n      <th></th>\n    </tr>\n  </thead>\n  <tbody>\n    <tr>\n      <th rowspan=\"4\" valign=\"top\">1897415301</th>\n      <th>1.0</th>\n      <td>86</td>\n      <td>2802.0</td>\n      <td>27.0</td>\n      <td>70072.500000</td>\n      <td>2.0</td>\n      <td>2</td>\n      <td>70300.0</td>\n    </tr>\n    <tr>\n      <th>1.0</th>\n      <td>87</td>\n      <td>2798.0</td>\n      <td>9.0</td>\n      <td>69957.500000</td>\n      <td>2.0</td>\n      <td>3</td>\n      <td>70300.0</td>\n    </tr>\n    <tr>\n      <th>1.0</th>\n      <td>88</td>\n      <td>2810.0</td>\n      <td>24.0</td>\n      <td>70270.000000</td>\n      <td>2.0</td>\n      <td>1</td>\n      <td>70300.0</td>\n    </tr>\n    <tr>\n      <th>1.0</th>\n      <td>89</td>\n      <td>2807.0</td>\n      <td>27.0</td>\n      <td>70197.500000</td>\n      <td>2.0</td>\n      <td>4</td>\n      <td>70300.0</td>\n    </tr>\n    <tr>\n      <th>1897415425</th>\n      <th>1.0</th>\n      <td>31</td>\n      <td>1323.0</td>\n      <td>2.0</td>\n      <td>33076.666667</td>\n      <td>3.0</td>\n      <td>3</td>\n      <td>33375.0</td>\n    </tr>\n    <tr>\n      <th>...</th>\n      <th>...</th>\n      <td>...</td>\n      <td>...</td>\n      <td>...</td>\n      <td>...</td>\n      <td>...</td>\n      <td>...</td>\n      <td>...</td>\n    </tr>\n    <tr>\n      <th>1920940237</th>\n      <th>1.0</th>\n      <td>118</td>\n      <td>12.0</td>\n      <td>11.0</td>\n      <td>309.166667</td>\n      <td>2.0</td>\n      <td>2</td>\n      <td>350.0</td>\n    </tr>\n    <tr>\n      <th rowspan=\"4\" valign=\"top\">1920940252</th>\n      <th>1.0</th>\n      <td>25</td>\n      <td>546.0</td>\n      <td>2.0</td>\n      <td>13651.666667</td>\n      <td>3.0</td>\n      <td>4</td>\n      <td>13700.0</td>\n    </tr>\n    <tr>\n      <th>1.0</th>\n      <td>23</td>\n      <td>550.0</td>\n      <td>26.0</td>\n      <td>13771.666667</td>\n      <td>3.0</td>\n      <td>3</td>\n      <td>13700.0</td>\n    </tr>\n    <tr>\n      <th>1.0</th>\n      <td>26</td>\n      <td>545.0</td>\n      <td>21.0</td>\n      <td>13642.500000</td>\n      <td>3.0</td>\n      <td>2</td>\n      <td>13700.0</td>\n    </tr>\n    <tr>\n      <th>1.0</th>\n      <td>24</td>\n      <td>550.0</td>\n      <td>20.0</td>\n      <td>13766.666667</td>\n      <td>3.0</td>\n      <td>1</td>\n      <td>13700.0</td>\n    </tr>\n  </tbody>\n</table>\n<p>214515 rows × 7 columns</p>\n</div>"
     },
     "metadata": {},
     "execution_count": 25
    }
   ],
   "source": [
    "#adesso rimuovo gli eventi con più celle attive nello stesso layer. df4.groupby(df4.index).size() mi dice quante hit sono associate allo stesso evento, mentre df4.groupby(df4.index).nunique()[\"LAYER\"] mi dice (analogamente a sopra) quanti valori unici del layer siano presenti in un dato evento. Confronto elemento per elemento; dove le due serie così costruite differiscono butto\n",
    "\n",
    "#df4.groupby(df4.index).size() #n hits per evento\n",
    "#df4.groupby(df4.index).nunique()[\"LAYER\"] #n layer unici per evento\n",
    "df4 = df4[df4.groupby(df4.index).size() == df4.groupby(df4.index).nunique()[\"LAYER\"]]\n",
    "df4"
   ]
  },
  {
   "source": [
    "adesso applico il criterio della vicinanza valido per 3 o 4 celle su layer consecutivi. Eventi che non appartengano a questa categoria non sono presenti in data_000000.txt (come già sappiamo), ma anche se ce ne fosse qualcuno questo verrà scartato dal filtro delle rette, quindi non perdo tempo ad implementare un closep vettorizzato.  \n",
    "Un modo di procedere è il seguente: \n",
    "- calcolo la colonna COLUMN visto che in ogni caso mi serve per trovare la posizione assoluta di una hit conoscendone il drift time; questo è facile perché il comando di Mattia per questa operazione è già vettorizzato (e il suo apply può essere facilmente rimosso)\n",
    "- costruisco un array contenente le coordinate assolute dei centri delle 16*4=64 celle. Lavorando in unità di dx/2 basta usare range a salti di 2\n",
    "- accedo di volta in volta a questo array con event.LAYER ed event.COLUMN (a meno di un -1 per contare da 0); così ad esempio l'evento di layer=1 (2) e column=0 (1) comporta un indice (1,0), che significa: secondo layer, prima colonna. Accedendo mediante questo indice a questo array ho le coordinate del centro della cella corrispondente in unità di dx/2\n",
    "\n",
    "Opero così anziché costruendo una colonna \"centro della cella associata\" perché sarebbe inutile, preferisco accedere ad un array di 64 elementi."
   ],
   "cell_type": "markdown",
   "metadata": {}
  },
  {
   "source": [
    "Cambio di programma: uso column solo per trovare le coordinate del centro della cella associata, così xr e xl sono banalmente questa +-v*(TIME - TIME_PEDESTAL).  \n",
    "Creare e poi scartare subito una colonna è un po' uno spreco, ma lascio tutto così per evitare di rendere troppo illegibile il codice e per potere immediatamente valutare se la colonna CENTER sia corretta"
   ],
   "cell_type": "markdown",
   "metadata": {}
  },
  {
   "cell_type": "code",
   "execution_count": 26,
   "metadata": {},
   "outputs": [
    {
     "output_type": "execute_result",
     "data": {
      "text/plain": [
       "                  TDC_CHANNEL  BX_COUNTER  TDC_MEAS          TIME  DETECTOR  \\\n",
       "ORBIT_CNT  EVENT                                                              \n",
       "1897415301 1.0             22      2802.0      27.0  70072.500000       2.0   \n",
       "           1.0             23      2798.0       9.0  69957.500000       2.0   \n",
       "           1.0             24      2810.0      24.0  70270.000000       2.0   \n",
       "           1.0             25      2807.0      27.0  70197.500000       2.0   \n",
       "1897415425 1.0             31      1323.0       2.0  33076.666667       3.0   \n",
       "...                       ...         ...       ...           ...       ...   \n",
       "1920940237 1.0             54        12.0      11.0    309.166667       2.0   \n",
       "1920940252 1.0             25       546.0       2.0  13651.666667       3.0   \n",
       "           1.0             23       550.0      26.0  13771.666667       3.0   \n",
       "           1.0             26       545.0      21.0  13642.500000       3.0   \n",
       "           1.0             24       550.0      20.0  13766.666667       3.0   \n",
       "\n",
       "                  LAYER  TIME_PEDESTAL  COLUMN  \n",
       "ORBIT_CNT  EVENT                                \n",
       "1897415301 1.0        2        70300.0       6  \n",
       "           1.0        3        70300.0       6  \n",
       "           1.0        1        70300.0       6  \n",
       "           1.0        4        70300.0       7  \n",
       "1897415425 1.0        3        33375.0       8  \n",
       "...                 ...            ...     ...  \n",
       "1920940237 1.0        2          350.0      14  \n",
       "1920940252 1.0        4        13700.0       7  \n",
       "           1.0        3        13700.0       6  \n",
       "           1.0        2        13700.0       7  \n",
       "           1.0        1        13700.0       6  \n",
       "\n",
       "[214515 rows x 8 columns]"
      ],
      "text/html": "<div>\n<style scoped>\n    .dataframe tbody tr th:only-of-type {\n        vertical-align: middle;\n    }\n\n    .dataframe tbody tr th {\n        vertical-align: top;\n    }\n\n    .dataframe thead th {\n        text-align: right;\n    }\n</style>\n<table border=\"1\" class=\"dataframe\">\n  <thead>\n    <tr style=\"text-align: right;\">\n      <th></th>\n      <th></th>\n      <th>TDC_CHANNEL</th>\n      <th>BX_COUNTER</th>\n      <th>TDC_MEAS</th>\n      <th>TIME</th>\n      <th>DETECTOR</th>\n      <th>LAYER</th>\n      <th>TIME_PEDESTAL</th>\n      <th>COLUMN</th>\n    </tr>\n    <tr>\n      <th>ORBIT_CNT</th>\n      <th>EVENT</th>\n      <th></th>\n      <th></th>\n      <th></th>\n      <th></th>\n      <th></th>\n      <th></th>\n      <th></th>\n      <th></th>\n    </tr>\n  </thead>\n  <tbody>\n    <tr>\n      <th rowspan=\"4\" valign=\"top\">1897415301</th>\n      <th>1.0</th>\n      <td>22</td>\n      <td>2802.0</td>\n      <td>27.0</td>\n      <td>70072.500000</td>\n      <td>2.0</td>\n      <td>2</td>\n      <td>70300.0</td>\n      <td>6</td>\n    </tr>\n    <tr>\n      <th>1.0</th>\n      <td>23</td>\n      <td>2798.0</td>\n      <td>9.0</td>\n      <td>69957.500000</td>\n      <td>2.0</td>\n      <td>3</td>\n      <td>70300.0</td>\n      <td>6</td>\n    </tr>\n    <tr>\n      <th>1.0</th>\n      <td>24</td>\n      <td>2810.0</td>\n      <td>24.0</td>\n      <td>70270.000000</td>\n      <td>2.0</td>\n      <td>1</td>\n      <td>70300.0</td>\n      <td>6</td>\n    </tr>\n    <tr>\n      <th>1.0</th>\n      <td>25</td>\n      <td>2807.0</td>\n      <td>27.0</td>\n      <td>70197.500000</td>\n      <td>2.0</td>\n      <td>4</td>\n      <td>70300.0</td>\n      <td>7</td>\n    </tr>\n    <tr>\n      <th>1897415425</th>\n      <th>1.0</th>\n      <td>31</td>\n      <td>1323.0</td>\n      <td>2.0</td>\n      <td>33076.666667</td>\n      <td>3.0</td>\n      <td>3</td>\n      <td>33375.0</td>\n      <td>8</td>\n    </tr>\n    <tr>\n      <th>...</th>\n      <th>...</th>\n      <td>...</td>\n      <td>...</td>\n      <td>...</td>\n      <td>...</td>\n      <td>...</td>\n      <td>...</td>\n      <td>...</td>\n      <td>...</td>\n    </tr>\n    <tr>\n      <th>1920940237</th>\n      <th>1.0</th>\n      <td>54</td>\n      <td>12.0</td>\n      <td>11.0</td>\n      <td>309.166667</td>\n      <td>2.0</td>\n      <td>2</td>\n      <td>350.0</td>\n      <td>14</td>\n    </tr>\n    <tr>\n      <th rowspan=\"4\" valign=\"top\">1920940252</th>\n      <th>1.0</th>\n      <td>25</td>\n      <td>546.0</td>\n      <td>2.0</td>\n      <td>13651.666667</td>\n      <td>3.0</td>\n      <td>4</td>\n      <td>13700.0</td>\n      <td>7</td>\n    </tr>\n    <tr>\n      <th>1.0</th>\n      <td>23</td>\n      <td>550.0</td>\n      <td>26.0</td>\n      <td>13771.666667</td>\n      <td>3.0</td>\n      <td>3</td>\n      <td>13700.0</td>\n      <td>6</td>\n    </tr>\n    <tr>\n      <th>1.0</th>\n      <td>26</td>\n      <td>545.0</td>\n      <td>21.0</td>\n      <td>13642.500000</td>\n      <td>3.0</td>\n      <td>2</td>\n      <td>13700.0</td>\n      <td>7</td>\n    </tr>\n    <tr>\n      <th>1.0</th>\n      <td>24</td>\n      <td>550.0</td>\n      <td>20.0</td>\n      <td>13766.666667</td>\n      <td>3.0</td>\n      <td>1</td>\n      <td>13700.0</td>\n      <td>6</td>\n    </tr>\n  </tbody>\n</table>\n<p>214515 rows × 8 columns</p>\n</div>"
     },
     "metadata": {},
     "execution_count": 26
    }
   ],
   "source": [
    "#colonna COLUMN\n",
    "df5 = df4.copy()\n",
    "\n",
    "df5.loc[df5[\"TDC_CHANNEL\"] > 64,\"TDC_CHANNEL\"] -= 64\n",
    "\n",
    "df5[\"COLUMN\"] = ((df5['TDC_CHANNEL'] + interpolate.BarycentricInterpolator([1,2,3,4],[0,2,1,3])(df5[\"LAYER\"])) / 4).astype(int)\n",
    "df5"
   ]
  },
  {
   "cell_type": "code",
   "execution_count": 27,
   "metadata": {},
   "outputs": [
    {
     "output_type": "execute_result",
     "data": {
      "text/plain": [
       "                  TDC_CHANNEL  BX_COUNTER  TDC_MEAS          TIME  DETECTOR  \\\n",
       "ORBIT_CNT  EVENT                                                              \n",
       "1897415301 1.0             22      2802.0      27.0  70072.500000       2.0   \n",
       "           1.0             23      2798.0       9.0  69957.500000       2.0   \n",
       "           1.0             24      2810.0      24.0  70270.000000       2.0   \n",
       "           1.0             25      2807.0      27.0  70197.500000       2.0   \n",
       "1897415425 1.0             31      1323.0       2.0  33076.666667       3.0   \n",
       "...                       ...         ...       ...           ...       ...   \n",
       "1920940237 1.0             54        12.0      11.0    309.166667       2.0   \n",
       "1920940252 1.0             25       546.0       2.0  13651.666667       3.0   \n",
       "           1.0             23       550.0      26.0  13771.666667       3.0   \n",
       "           1.0             26       545.0      21.0  13642.500000       3.0   \n",
       "           1.0             24       550.0      20.0  13766.666667       3.0   \n",
       "\n",
       "                  LAYER  TIME_PEDESTAL  COLUMN  CENTER  \n",
       "ORBIT_CNT  EVENT                                        \n",
       "1897415301 1.0        2        70300.0       6      12  \n",
       "           1.0        3        70300.0       6      11  \n",
       "           1.0        1        70300.0       6      11  \n",
       "           1.0        4        70300.0       7      14  \n",
       "1897415425 1.0        3        33375.0       8      15  \n",
       "...                 ...            ...     ...     ...  \n",
       "1920940237 1.0        2          350.0      14      28  \n",
       "1920940252 1.0        4        13700.0       7      14  \n",
       "           1.0        3        13700.0       6      11  \n",
       "           1.0        2        13700.0       7      14  \n",
       "           1.0        1        13700.0       6      11  \n",
       "\n",
       "[214515 rows x 9 columns]"
      ],
      "text/html": "<div>\n<style scoped>\n    .dataframe tbody tr th:only-of-type {\n        vertical-align: middle;\n    }\n\n    .dataframe tbody tr th {\n        vertical-align: top;\n    }\n\n    .dataframe thead th {\n        text-align: right;\n    }\n</style>\n<table border=\"1\" class=\"dataframe\">\n  <thead>\n    <tr style=\"text-align: right;\">\n      <th></th>\n      <th></th>\n      <th>TDC_CHANNEL</th>\n      <th>BX_COUNTER</th>\n      <th>TDC_MEAS</th>\n      <th>TIME</th>\n      <th>DETECTOR</th>\n      <th>LAYER</th>\n      <th>TIME_PEDESTAL</th>\n      <th>COLUMN</th>\n      <th>CENTER</th>\n    </tr>\n    <tr>\n      <th>ORBIT_CNT</th>\n      <th>EVENT</th>\n      <th></th>\n      <th></th>\n      <th></th>\n      <th></th>\n      <th></th>\n      <th></th>\n      <th></th>\n      <th></th>\n      <th></th>\n    </tr>\n  </thead>\n  <tbody>\n    <tr>\n      <th rowspan=\"4\" valign=\"top\">1897415301</th>\n      <th>1.0</th>\n      <td>22</td>\n      <td>2802.0</td>\n      <td>27.0</td>\n      <td>70072.500000</td>\n      <td>2.0</td>\n      <td>2</td>\n      <td>70300.0</td>\n      <td>6</td>\n      <td>12</td>\n    </tr>\n    <tr>\n      <th>1.0</th>\n      <td>23</td>\n      <td>2798.0</td>\n      <td>9.0</td>\n      <td>69957.500000</td>\n      <td>2.0</td>\n      <td>3</td>\n      <td>70300.0</td>\n      <td>6</td>\n      <td>11</td>\n    </tr>\n    <tr>\n      <th>1.0</th>\n      <td>24</td>\n      <td>2810.0</td>\n      <td>24.0</td>\n      <td>70270.000000</td>\n      <td>2.0</td>\n      <td>1</td>\n      <td>70300.0</td>\n      <td>6</td>\n      <td>11</td>\n    </tr>\n    <tr>\n      <th>1.0</th>\n      <td>25</td>\n      <td>2807.0</td>\n      <td>27.0</td>\n      <td>70197.500000</td>\n      <td>2.0</td>\n      <td>4</td>\n      <td>70300.0</td>\n      <td>7</td>\n      <td>14</td>\n    </tr>\n    <tr>\n      <th>1897415425</th>\n      <th>1.0</th>\n      <td>31</td>\n      <td>1323.0</td>\n      <td>2.0</td>\n      <td>33076.666667</td>\n      <td>3.0</td>\n      <td>3</td>\n      <td>33375.0</td>\n      <td>8</td>\n      <td>15</td>\n    </tr>\n    <tr>\n      <th>...</th>\n      <th>...</th>\n      <td>...</td>\n      <td>...</td>\n      <td>...</td>\n      <td>...</td>\n      <td>...</td>\n      <td>...</td>\n      <td>...</td>\n      <td>...</td>\n      <td>...</td>\n    </tr>\n    <tr>\n      <th>1920940237</th>\n      <th>1.0</th>\n      <td>54</td>\n      <td>12.0</td>\n      <td>11.0</td>\n      <td>309.166667</td>\n      <td>2.0</td>\n      <td>2</td>\n      <td>350.0</td>\n      <td>14</td>\n      <td>28</td>\n    </tr>\n    <tr>\n      <th rowspan=\"4\" valign=\"top\">1920940252</th>\n      <th>1.0</th>\n      <td>25</td>\n      <td>546.0</td>\n      <td>2.0</td>\n      <td>13651.666667</td>\n      <td>3.0</td>\n      <td>4</td>\n      <td>13700.0</td>\n      <td>7</td>\n      <td>14</td>\n    </tr>\n    <tr>\n      <th>1.0</th>\n      <td>23</td>\n      <td>550.0</td>\n      <td>26.0</td>\n      <td>13771.666667</td>\n      <td>3.0</td>\n      <td>3</td>\n      <td>13700.0</td>\n      <td>6</td>\n      <td>11</td>\n    </tr>\n    <tr>\n      <th>1.0</th>\n      <td>26</td>\n      <td>545.0</td>\n      <td>21.0</td>\n      <td>13642.500000</td>\n      <td>3.0</td>\n      <td>2</td>\n      <td>13700.0</td>\n      <td>7</td>\n      <td>14</td>\n    </tr>\n    <tr>\n      <th>1.0</th>\n      <td>24</td>\n      <td>550.0</td>\n      <td>20.0</td>\n      <td>13766.666667</td>\n      <td>3.0</td>\n      <td>1</td>\n      <td>13700.0</td>\n      <td>6</td>\n      <td>11</td>\n    </tr>\n  </tbody>\n</table>\n<p>214515 rows × 9 columns</p>\n</div>"
     },
     "metadata": {},
     "execution_count": 27
    }
   ],
   "source": [
    "#ARRAY DELLE POSIZIONI DEI CENTRI\n",
    "\n",
    "#np.arange(1,33,2): il primo layer ha centri di coordinate dx*1/2, dx+dx*1/2=dx*3/2, dx+dx*3/2=dx*5/2... Quindi in unità di dx/2 le coordinate sono: 1,3,5,... cioè i numeri dispari - fino a (16-1/2)*dx=31*(dx/2), quindi arrivo fino a 33 perché lo stop non è incluso.\n",
    "#np.arange(2,34,2): il secondo layer è uguale al primo ma traslato di dx/2, cioè di 1 nelle nostre unità. Posso equivalentemente considerare np.arange(1,33,2)+1; lo lascio così perché sì\n",
    "\n",
    "centers_coords = np.vstack((np.arange(1,33,2),np.arange(2,34,2)))\n",
    "centers_coords = np.vstack((centers_coords,centers_coords)) #gli ultimi due layer sono una copia dei primi due\n",
    "#print(centers_coords)\n",
    "#centers_coords[1,0]\n",
    "#print(centers_coords[df5.LAYER-1,df5.COLUMN-1].shape)\n",
    "df5[\"CENTER\"] = centers_coords[df5.LAYER-1,df5.COLUMN-1]\n",
    "df5 #giusto, se layer è pari center = column*2, altrimenti è column*2-1"
   ]
  },
  {
   "cell_type": "code",
   "execution_count": 28,
   "metadata": {},
   "outputs": [],
   "source": [
    "#test in piccolo\n",
    "# h = df5.loc[df5.index[0]]\n",
    "# display(h)\n",
    "# print(centers_coords[h.LAYER-1,h.COLUMN-1].reshape((-1,1)))"
   ]
  },
  {
   "cell_type": "code",
   "execution_count": 75,
   "metadata": {},
   "outputs": [
    {
     "output_type": "stream",
     "name": "stdout",
     "text": [
      "Wall time: 42.3 s\n"
     ]
    }
   ],
   "source": [
    "#IGNORA QUESTA CELLA\n",
    "\n",
    "# %%time\n",
    "# #NOTA: il modo più onesto di procedere probabilmente sarebbe controllare se un dato subframe contenga una violazione della nostra condizione (metodo any, ecc.) e in caso scartarlo. Poiché però cose tipo il metodo isin non funzionano con i groupby non mi sta venendo una implementazione vettorizzata (senza if) che non comporti sprechi... Quindi faccio così. Quando trovo un elemento che viola la condizione mi salvo il suo indice (i.e. orbita+evento), dopodiché uso la lista così costruita per buttare le righe del dataframe.\n",
    "\n",
    "# df6 = df5.drop(\"COLUMN\",axis=1)\n",
    "\n",
    "# indices_to_drop = []\n",
    "# for index,subframe in df6.groupby(df6.index) :\n",
    "#     #indices_to_drop.append((subframe.loc[subframe.CENTER.diff().abs() > 1].index).to_flat_index()) #il multiindex dà problemi, lo salvo già \"piatto\"\n",
    "#     indices_to_drop.append((subframe.loc[subframe.CENTER.diff().abs() > 1].index).to_numpy()) # un numpy array sembra più veloce ma non può essere usato direttamente con .loc[]\n",
    "\n",
    "# #pd.concat([df6.loc[i] for i in indices_to_drop]) è il dataframe costruito concatenando gli eventi da buttare; ne estraggo gli indici e li uso per drop. Serve questo stratagemma perché non posso usare direttamente la lista dei multiindici con loc o simili, dà errore\n",
    "# #df6 = df6.drop(pd.concat([df6.loc[i] for i in indices_to_drop]).index)\n",
    "# #df6"
   ]
  },
  {
   "cell_type": "code",
   "execution_count": 31,
   "metadata": {},
   "outputs": [],
   "source": [
    "#test in piccolo\n",
    "# indices_to_drop = []\n",
    "# for index,subframe in df6[:20].groupby(df6[:20].index) :\n",
    "#     indices_to_drop.append(subframe.loc[subframe.CENTER.diff().abs() > 1].index)\n",
    "#     #df4.loc[index,\"DETECTOR\"].loc[subframe.DETECTOR != subframe.DETECTOR.mode()[0]] = np.nan\n",
    "\n",
    "# #print(indices_to_drop)\n",
    "# display(pd.concat([df6.loc[i] for i in indices_to_drop])) #un po' un trucco... lol\n",
    "# display(pd.concat([df6.loc[i] for i in indices_to_drop]).index)\n",
    "# display(df6[:20].drop(pd.concat([df6.loc[i] for i in indices_to_drop]).index))\n",
    "# #display(df6[:20].loc[indices_to_drop]) #non funziona con una lista di multiindex, ce ne vuole uno solo\n",
    "# #display(df6[:20].loc[~indices_to_drop])"
   ]
  },
  {
   "cell_type": "code",
   "execution_count": 113,
   "metadata": {},
   "outputs": [
    {
     "output_type": "stream",
     "name": "stdout",
     "text": [
      "Wall time: 26.9 s\n"
     ]
    },
    {
     "output_type": "execute_result",
     "data": {
      "text/plain": [
       "                  TDC_CHANNEL  BX_COUNTER  TDC_MEAS          TIME  DETECTOR  \\\n",
       "ORBIT_CNT  EVENT                                                              \n",
       "1897417007 1.0           13.0       445.0      24.0  11145.000000       3.0   \n",
       "           1.0           14.0       450.0       9.0  11257.500000       3.0   \n",
       "           1.0           16.0       452.0      17.0  11314.166667       3.0   \n",
       "           1.0           15.0       458.0       9.0  11457.500000       3.0   \n",
       "1897417267 1.0           25.0       300.0      27.0   7522.500000       2.0   \n",
       "...                       ...         ...       ...           ...       ...   \n",
       "1920940163 1.0           20.0      1448.0      25.0  36220.833333       3.0   \n",
       "1920940194 1.0           55.0       325.0       4.0   8128.333333       3.0   \n",
       "           1.0           54.0       331.0      20.0   8291.666667       3.0   \n",
       "           1.0           56.0       327.0      22.0   8193.333333       3.0   \n",
       "           1.0           53.0       334.0      15.0   8362.500000       3.0   \n",
       "\n",
       "                  LAYER  TIME_PEDESTAL  CENTER  \n",
       "ORBIT_CNT  EVENT                                \n",
       "1897417007 1.0      4.0        11350.0     8.0  \n",
       "           1.0      2.0        11350.0     8.0  \n",
       "           1.0      1.0        11350.0     7.0  \n",
       "           1.0      3.0        11350.0     7.0  \n",
       "1897417267 1.0      4.0         7825.0    14.0  \n",
       "...                 ...            ...     ...  \n",
       "1920940163 1.0      1.0        36075.0     9.0  \n",
       "1920940194 1.0      3.0         8225.0    27.0  \n",
       "           1.0      2.0         8225.0    28.0  \n",
       "           1.0      1.0         8225.0    27.0  \n",
       "           1.0      4.0         8225.0    28.0  \n",
       "\n",
       "[88791 rows x 8 columns]"
      ],
      "text/html": "<div>\n<style scoped>\n    .dataframe tbody tr th:only-of-type {\n        vertical-align: middle;\n    }\n\n    .dataframe tbody tr th {\n        vertical-align: top;\n    }\n\n    .dataframe thead th {\n        text-align: right;\n    }\n</style>\n<table border=\"1\" class=\"dataframe\">\n  <thead>\n    <tr style=\"text-align: right;\">\n      <th></th>\n      <th></th>\n      <th>TDC_CHANNEL</th>\n      <th>BX_COUNTER</th>\n      <th>TDC_MEAS</th>\n      <th>TIME</th>\n      <th>DETECTOR</th>\n      <th>LAYER</th>\n      <th>TIME_PEDESTAL</th>\n      <th>CENTER</th>\n    </tr>\n    <tr>\n      <th>ORBIT_CNT</th>\n      <th>EVENT</th>\n      <th></th>\n      <th></th>\n      <th></th>\n      <th></th>\n      <th></th>\n      <th></th>\n      <th></th>\n      <th></th>\n    </tr>\n  </thead>\n  <tbody>\n    <tr>\n      <th rowspan=\"4\" valign=\"top\">1897417007</th>\n      <th>1.0</th>\n      <td>13.0</td>\n      <td>445.0</td>\n      <td>24.0</td>\n      <td>11145.000000</td>\n      <td>3.0</td>\n      <td>4.0</td>\n      <td>11350.0</td>\n      <td>8.0</td>\n    </tr>\n    <tr>\n      <th>1.0</th>\n      <td>14.0</td>\n      <td>450.0</td>\n      <td>9.0</td>\n      <td>11257.500000</td>\n      <td>3.0</td>\n      <td>2.0</td>\n      <td>11350.0</td>\n      <td>8.0</td>\n    </tr>\n    <tr>\n      <th>1.0</th>\n      <td>16.0</td>\n      <td>452.0</td>\n      <td>17.0</td>\n      <td>11314.166667</td>\n      <td>3.0</td>\n      <td>1.0</td>\n      <td>11350.0</td>\n      <td>7.0</td>\n    </tr>\n    <tr>\n      <th>1.0</th>\n      <td>15.0</td>\n      <td>458.0</td>\n      <td>9.0</td>\n      <td>11457.500000</td>\n      <td>3.0</td>\n      <td>3.0</td>\n      <td>11350.0</td>\n      <td>7.0</td>\n    </tr>\n    <tr>\n      <th>1897417267</th>\n      <th>1.0</th>\n      <td>25.0</td>\n      <td>300.0</td>\n      <td>27.0</td>\n      <td>7522.500000</td>\n      <td>2.0</td>\n      <td>4.0</td>\n      <td>7825.0</td>\n      <td>14.0</td>\n    </tr>\n    <tr>\n      <th>...</th>\n      <th>...</th>\n      <td>...</td>\n      <td>...</td>\n      <td>...</td>\n      <td>...</td>\n      <td>...</td>\n      <td>...</td>\n      <td>...</td>\n      <td>...</td>\n    </tr>\n    <tr>\n      <th>1920940163</th>\n      <th>1.0</th>\n      <td>20.0</td>\n      <td>1448.0</td>\n      <td>25.0</td>\n      <td>36220.833333</td>\n      <td>3.0</td>\n      <td>1.0</td>\n      <td>36075.0</td>\n      <td>9.0</td>\n    </tr>\n    <tr>\n      <th rowspan=\"4\" valign=\"top\">1920940194</th>\n      <th>1.0</th>\n      <td>55.0</td>\n      <td>325.0</td>\n      <td>4.0</td>\n      <td>8128.333333</td>\n      <td>3.0</td>\n      <td>3.0</td>\n      <td>8225.0</td>\n      <td>27.0</td>\n    </tr>\n    <tr>\n      <th>1.0</th>\n      <td>54.0</td>\n      <td>331.0</td>\n      <td>20.0</td>\n      <td>8291.666667</td>\n      <td>3.0</td>\n      <td>2.0</td>\n      <td>8225.0</td>\n      <td>28.0</td>\n    </tr>\n    <tr>\n      <th>1.0</th>\n      <td>56.0</td>\n      <td>327.0</td>\n      <td>22.0</td>\n      <td>8193.333333</td>\n      <td>3.0</td>\n      <td>1.0</td>\n      <td>8225.0</td>\n      <td>27.0</td>\n    </tr>\n    <tr>\n      <th>1.0</th>\n      <td>53.0</td>\n      <td>334.0</td>\n      <td>15.0</td>\n      <td>8362.500000</td>\n      <td>3.0</td>\n      <td>4.0</td>\n      <td>8225.0</td>\n      <td>28.0</td>\n    </tr>\n  </tbody>\n</table>\n<p>88791 rows × 8 columns</p>\n</div>"
     },
     "metadata": {},
     "execution_count": 113
    }
   ],
   "source": [
    "%%time\n",
    "df6 = df5.drop(\"COLUMN\",axis=1)\n",
    "\n",
    "for index,subframe in df6.groupby(df6.index) :\n",
    "    #indices_to_drop.append((subframe.loc[subframe.CENTER.diff().abs() > 1].index).to_flat_index()) #il multiindex dà problemi, lo salvo già \"piatto\"\n",
    "    #indices_to_drop.append((subframe.loc[subframe.CENTER.diff().abs() > 1].index).to_numpy()) \n",
    "    if (subframe.CENTER.diff().abs() > 1).any() : #veloce\n",
    "    #if np.count_nonzero(subframe.loc[subframe.CENTER.diff().abs() > 1]) > 0 : #lenta\n",
    "        df6.loc[index] = np.nan\n",
    "\n",
    "df6 = df6.dropna()\n",
    "df6"
   ]
  },
  {
   "source": [
    "# Parte 1"
   ],
   "cell_type": "markdown",
   "metadata": {}
  },
  {
   "cell_type": "code",
   "execution_count": 115,
   "metadata": {},
   "outputs": [
    {
     "output_type": "execute_result",
     "data": {
      "text/plain": [
       "                  TDC_CHANNEL  BX_COUNTER  TDC_MEAS          TIME  DETECTOR  \\\n",
       "ORBIT_CNT  EVENT                                                              \n",
       "1897417007 1.0           13.0       445.0      24.0  11145.000000       3.0   \n",
       "           1.0           14.0       450.0       9.0  11257.500000       3.0   \n",
       "           1.0           16.0       452.0      17.0  11314.166667       3.0   \n",
       "           1.0           15.0       458.0       9.0  11457.500000       3.0   \n",
       "1897417267 1.0           25.0       300.0      27.0   7522.500000       2.0   \n",
       "...                       ...         ...       ...           ...       ...   \n",
       "1920940163 1.0           20.0      1448.0      25.0  36220.833333       3.0   \n",
       "1920940194 1.0           55.0       325.0       4.0   8128.333333       3.0   \n",
       "           1.0           54.0       331.0      20.0   8291.666667       3.0   \n",
       "           1.0           56.0       327.0      22.0   8193.333333       3.0   \n",
       "           1.0           53.0       334.0      15.0   8362.500000       3.0   \n",
       "\n",
       "                  LAYER  TIME_PEDESTAL  CENTER  DRIFT_TIME          X  \n",
       "ORBIT_CNT  EVENT                                                       \n",
       "1897417007 1.0      4.0        11350.0     8.0  205.000000  11.038462  \n",
       "           1.0      2.0        11350.0     8.0   92.500000   4.980769  \n",
       "           1.0      1.0        11350.0     7.0   35.833333   1.929487  \n",
       "           1.0      3.0        11350.0     7.0  107.500000   5.788462  \n",
       "1897417267 1.0      4.0         7825.0    14.0  302.500000  16.288462  \n",
       "...                 ...            ...     ...         ...        ...  \n",
       "1920940163 1.0      1.0        36075.0     9.0  145.833333   7.852564  \n",
       "1920940194 1.0      3.0         8225.0    27.0   96.666667   5.205128  \n",
       "           1.0      2.0         8225.0    28.0   66.666667   3.589744  \n",
       "           1.0      1.0         8225.0    27.0   31.666667   1.705128  \n",
       "           1.0      4.0         8225.0    28.0  137.500000   7.403846  \n",
       "\n",
       "[88791 rows x 10 columns]"
      ],
      "text/html": "<div>\n<style scoped>\n    .dataframe tbody tr th:only-of-type {\n        vertical-align: middle;\n    }\n\n    .dataframe tbody tr th {\n        vertical-align: top;\n    }\n\n    .dataframe thead th {\n        text-align: right;\n    }\n</style>\n<table border=\"1\" class=\"dataframe\">\n  <thead>\n    <tr style=\"text-align: right;\">\n      <th></th>\n      <th></th>\n      <th>TDC_CHANNEL</th>\n      <th>BX_COUNTER</th>\n      <th>TDC_MEAS</th>\n      <th>TIME</th>\n      <th>DETECTOR</th>\n      <th>LAYER</th>\n      <th>TIME_PEDESTAL</th>\n      <th>CENTER</th>\n      <th>DRIFT_TIME</th>\n      <th>X</th>\n    </tr>\n    <tr>\n      <th>ORBIT_CNT</th>\n      <th>EVENT</th>\n      <th></th>\n      <th></th>\n      <th></th>\n      <th></th>\n      <th></th>\n      <th></th>\n      <th></th>\n      <th></th>\n      <th></th>\n      <th></th>\n    </tr>\n  </thead>\n  <tbody>\n    <tr>\n      <th rowspan=\"4\" valign=\"top\">1897417007</th>\n      <th>1.0</th>\n      <td>13.0</td>\n      <td>445.0</td>\n      <td>24.0</td>\n      <td>11145.000000</td>\n      <td>3.0</td>\n      <td>4.0</td>\n      <td>11350.0</td>\n      <td>8.0</td>\n      <td>205.000000</td>\n      <td>11.038462</td>\n    </tr>\n    <tr>\n      <th>1.0</th>\n      <td>14.0</td>\n      <td>450.0</td>\n      <td>9.0</td>\n      <td>11257.500000</td>\n      <td>3.0</td>\n      <td>2.0</td>\n      <td>11350.0</td>\n      <td>8.0</td>\n      <td>92.500000</td>\n      <td>4.980769</td>\n    </tr>\n    <tr>\n      <th>1.0</th>\n      <td>16.0</td>\n      <td>452.0</td>\n      <td>17.0</td>\n      <td>11314.166667</td>\n      <td>3.0</td>\n      <td>1.0</td>\n      <td>11350.0</td>\n      <td>7.0</td>\n      <td>35.833333</td>\n      <td>1.929487</td>\n    </tr>\n    <tr>\n      <th>1.0</th>\n      <td>15.0</td>\n      <td>458.0</td>\n      <td>9.0</td>\n      <td>11457.500000</td>\n      <td>3.0</td>\n      <td>3.0</td>\n      <td>11350.0</td>\n      <td>7.0</td>\n      <td>107.500000</td>\n      <td>5.788462</td>\n    </tr>\n    <tr>\n      <th>1897417267</th>\n      <th>1.0</th>\n      <td>25.0</td>\n      <td>300.0</td>\n      <td>27.0</td>\n      <td>7522.500000</td>\n      <td>2.0</td>\n      <td>4.0</td>\n      <td>7825.0</td>\n      <td>14.0</td>\n      <td>302.500000</td>\n      <td>16.288462</td>\n    </tr>\n    <tr>\n      <th>...</th>\n      <th>...</th>\n      <td>...</td>\n      <td>...</td>\n      <td>...</td>\n      <td>...</td>\n      <td>...</td>\n      <td>...</td>\n      <td>...</td>\n      <td>...</td>\n      <td>...</td>\n      <td>...</td>\n    </tr>\n    <tr>\n      <th>1920940163</th>\n      <th>1.0</th>\n      <td>20.0</td>\n      <td>1448.0</td>\n      <td>25.0</td>\n      <td>36220.833333</td>\n      <td>3.0</td>\n      <td>1.0</td>\n      <td>36075.0</td>\n      <td>9.0</td>\n      <td>145.833333</td>\n      <td>7.852564</td>\n    </tr>\n    <tr>\n      <th rowspan=\"4\" valign=\"top\">1920940194</th>\n      <th>1.0</th>\n      <td>55.0</td>\n      <td>325.0</td>\n      <td>4.0</td>\n      <td>8128.333333</td>\n      <td>3.0</td>\n      <td>3.0</td>\n      <td>8225.0</td>\n      <td>27.0</td>\n      <td>96.666667</td>\n      <td>5.205128</td>\n    </tr>\n    <tr>\n      <th>1.0</th>\n      <td>54.0</td>\n      <td>331.0</td>\n      <td>20.0</td>\n      <td>8291.666667</td>\n      <td>3.0</td>\n      <td>2.0</td>\n      <td>8225.0</td>\n      <td>28.0</td>\n      <td>66.666667</td>\n      <td>3.589744</td>\n    </tr>\n    <tr>\n      <th>1.0</th>\n      <td>56.0</td>\n      <td>327.0</td>\n      <td>22.0</td>\n      <td>8193.333333</td>\n      <td>3.0</td>\n      <td>1.0</td>\n      <td>8225.0</td>\n      <td>27.0</td>\n      <td>31.666667</td>\n      <td>1.705128</td>\n    </tr>\n    <tr>\n      <th>1.0</th>\n      <td>53.0</td>\n      <td>334.0</td>\n      <td>15.0</td>\n      <td>8362.500000</td>\n      <td>3.0</td>\n      <td>4.0</td>\n      <td>8225.0</td>\n      <td>28.0</td>\n      <td>137.500000</td>\n      <td>7.403846</td>\n    </tr>\n  </tbody>\n</table>\n<p>88791 rows × 10 columns</p>\n</div>"
     },
     "metadata": {},
     "execution_count": 115
    }
   ],
   "source": [
    "df = df6\n",
    "# ho già costruito il time pedestal e scartato gli eventi con drift time troppo grandi, mi basta aggiungere le colonne nuove\n",
    "df[\"DRIFT_TIME\"] = np.abs(df.TIME.values - df.TIME_PEDESTAL)\n",
    "#df[\"HOR_AMBIG_COORD\"] = 42/(2*390)*df.DRIFT_TIME\n",
    "df[\"X\"] = 42/(2*390)*df.DRIFT_TIME\n",
    "df"
   ]
  },
  {
   "source": [
    "# Parte 2"
   ],
   "cell_type": "markdown",
   "metadata": {}
  },
  {
   "cell_type": "code",
   "execution_count": 122,
   "metadata": {},
   "outputs": [
    {
     "output_type": "execute_result",
     "data": {
      "text/plain": [
       "                  LAYER          X  CENTER          XL          XR     Y\n",
       "ORBIT_CNT  EVENT                                                        \n",
       "1897417007 1.0      4.0  11.038462     8.0  156.961538  179.038462  45.5\n",
       "           1.0      2.0   4.980769     8.0  163.019231  172.980769  19.5\n",
       "           1.0      1.0   1.929487     7.0  145.070513  148.929487   6.5\n",
       "           1.0      3.0   5.788462     7.0  141.211538  152.788462  32.5\n",
       "1897417267 1.0      4.0  16.288462    14.0  277.711538  310.288462  45.5\n",
       "...                 ...        ...     ...         ...         ...   ...\n",
       "1920940163 1.0      1.0   7.852564     9.0  181.147436  196.852564   6.5\n",
       "1920940194 1.0      3.0   5.205128    27.0  561.794872  572.205128  32.5\n",
       "           1.0      2.0   3.589744    28.0  584.410256  591.589744  19.5\n",
       "           1.0      1.0   1.705128    27.0  565.294872  568.705128   6.5\n",
       "           1.0      4.0   7.403846    28.0  580.596154  595.403846  45.5\n",
       "\n",
       "[88791 rows x 6 columns]"
      ],
      "text/html": "<div>\n<style scoped>\n    .dataframe tbody tr th:only-of-type {\n        vertical-align: middle;\n    }\n\n    .dataframe tbody tr th {\n        vertical-align: top;\n    }\n\n    .dataframe thead th {\n        text-align: right;\n    }\n</style>\n<table border=\"1\" class=\"dataframe\">\n  <thead>\n    <tr style=\"text-align: right;\">\n      <th></th>\n      <th></th>\n      <th>LAYER</th>\n      <th>X</th>\n      <th>CENTER</th>\n      <th>XL</th>\n      <th>XR</th>\n      <th>Y</th>\n    </tr>\n    <tr>\n      <th>ORBIT_CNT</th>\n      <th>EVENT</th>\n      <th></th>\n      <th></th>\n      <th></th>\n      <th></th>\n      <th></th>\n      <th></th>\n    </tr>\n  </thead>\n  <tbody>\n    <tr>\n      <th rowspan=\"4\" valign=\"top\">1897417007</th>\n      <th>1.0</th>\n      <td>4.0</td>\n      <td>11.038462</td>\n      <td>8.0</td>\n      <td>156.961538</td>\n      <td>179.038462</td>\n      <td>45.5</td>\n    </tr>\n    <tr>\n      <th>1.0</th>\n      <td>2.0</td>\n      <td>4.980769</td>\n      <td>8.0</td>\n      <td>163.019231</td>\n      <td>172.980769</td>\n      <td>19.5</td>\n    </tr>\n    <tr>\n      <th>1.0</th>\n      <td>1.0</td>\n      <td>1.929487</td>\n      <td>7.0</td>\n      <td>145.070513</td>\n      <td>148.929487</td>\n      <td>6.5</td>\n    </tr>\n    <tr>\n      <th>1.0</th>\n      <td>3.0</td>\n      <td>5.788462</td>\n      <td>7.0</td>\n      <td>141.211538</td>\n      <td>152.788462</td>\n      <td>32.5</td>\n    </tr>\n    <tr>\n      <th>1897417267</th>\n      <th>1.0</th>\n      <td>4.0</td>\n      <td>16.288462</td>\n      <td>14.0</td>\n      <td>277.711538</td>\n      <td>310.288462</td>\n      <td>45.5</td>\n    </tr>\n    <tr>\n      <th>...</th>\n      <th>...</th>\n      <td>...</td>\n      <td>...</td>\n      <td>...</td>\n      <td>...</td>\n      <td>...</td>\n      <td>...</td>\n    </tr>\n    <tr>\n      <th>1920940163</th>\n      <th>1.0</th>\n      <td>1.0</td>\n      <td>7.852564</td>\n      <td>9.0</td>\n      <td>181.147436</td>\n      <td>196.852564</td>\n      <td>6.5</td>\n    </tr>\n    <tr>\n      <th rowspan=\"4\" valign=\"top\">1920940194</th>\n      <th>1.0</th>\n      <td>3.0</td>\n      <td>5.205128</td>\n      <td>27.0</td>\n      <td>561.794872</td>\n      <td>572.205128</td>\n      <td>32.5</td>\n    </tr>\n    <tr>\n      <th>1.0</th>\n      <td>2.0</td>\n      <td>3.589744</td>\n      <td>28.0</td>\n      <td>584.410256</td>\n      <td>591.589744</td>\n      <td>19.5</td>\n    </tr>\n    <tr>\n      <th>1.0</th>\n      <td>1.0</td>\n      <td>1.705128</td>\n      <td>27.0</td>\n      <td>565.294872</td>\n      <td>568.705128</td>\n      <td>6.5</td>\n    </tr>\n    <tr>\n      <th>1.0</th>\n      <td>4.0</td>\n      <td>7.403846</td>\n      <td>28.0</td>\n      <td>580.596154</td>\n      <td>595.403846</td>\n      <td>45.5</td>\n    </tr>\n  </tbody>\n</table>\n<p>88791 rows × 6 columns</p>\n</div>"
     },
     "metadata": {},
     "execution_count": 122
    }
   ],
   "source": [
    "#da center e X calcolo subito XR e XL! Inoltre butto le colonne che non mi servono più (cosa che avrei potuto fare molto prima)\n",
    "dx_halves = 21 #42/2 mm\n",
    "df = df[[\"LAYER\",\"X\",\"CENTER\"]]\n",
    "df[\"XL\"] = df.CENTER*dx_halves - df.X\n",
    "df[\"XR\"] = df.CENTER*dx_halves + df.X\n",
    "dy = 13 #altezza singolo rettangolo in mm\n",
    "df[\"Y\"] = dy * (df.LAYER-1/2)\n",
    "df"
   ]
  },
  {
   "cell_type": "code",
   "execution_count": 3,
   "metadata": {},
   "outputs": [],
   "source": [
    "# df = pd.read_csv(\"df_part_3.csv\")\n",
    "# df"
   ]
  },
  {
   "cell_type": "code",
   "execution_count": 125,
   "metadata": {},
   "outputs": [],
   "source": [
    "#@numba.jit(nopython=True,parallel=True)\n",
    "#per usare numba devo fare a meno di pandas completamente\n",
    "def solve_ambiguity(event):\n",
    "    combin = np.array(list(product(*event.loc[:, ['XR','XL']].to_numpy())))\n",
    "    # X e Y devono essere rispettivamente: X l'array di quattro elementi che esce fuori da \"vettore\" mentre Y la colonna del dataframe corrispondente all'evento che stiamo analizzando\n",
    "    r = np.zeros(combin.shape[0]) # voglio sedici coefficienti di correlazione lineare tra i quali soltanto uno sarà scelto per rappresentare la più appetibile retta dell'evento fisico analizzato\n",
    "    for i in range(combin.shape[0]) :\n",
    "        r[i] = np.corrcoef(combin[i],event.Y)[0,1] # perché r[i] è una matrice 2x2\n",
    "    event['X_BEST'] = combin[np.abs(r).argmax()]\n",
    "    return event"
   ]
  },
  {
   "cell_type": "code",
   "execution_count": 2,
   "metadata": {},
   "outputs": [],
   "source": [
    "# %%time\n",
    "# df1 = df.groupby(df.index).apply(solve_ambiguity) #mi permetto questo apply perché ho numba dalla mia. \n",
    "# #alternativa: vettorizzo quella funzione con numba.vectorize, ciclo sul groupby e gli passo le serie castate ad array\n",
    "# df"
   ]
  },
  {
   "cell_type": "code",
   "execution_count": 134,
   "metadata": {},
   "outputs": [
    {
     "output_type": "display_data",
     "data": {
      "text/plain": "array([179.03846154, 156.96153846])"
     },
     "metadata": {}
    },
    {
     "output_type": "display_data",
     "data": {
      "text/plain": "array([172.98076923, 163.01923077])"
     },
     "metadata": {}
    },
    {
     "output_type": "display_data",
     "data": {
      "text/plain": "array([148.92948718, 145.07051282])"
     },
     "metadata": {}
    },
    {
     "output_type": "display_data",
     "data": {
      "text/plain": "array([152.78846154, 141.21153846])"
     },
     "metadata": {}
    },
    {
     "output_type": "display_data",
     "data": {
      "text/plain": "array([310.28846154, 277.71153846])"
     },
     "metadata": {}
    },
    {
     "output_type": "display_data",
     "data": {
      "text/plain": "array([286.01282051, 259.98717949])"
     },
     "metadata": {}
    },
    {
     "output_type": "display_data",
     "data": {
      "text/plain": "array([300.64102564, 287.35897436])"
     },
     "metadata": {}
    },
    {
     "output_type": "display_data",
     "data": {
      "text/plain": "array([274.88461538, 271.11538462])"
     },
     "metadata": {}
    },
    {
     "output_type": "display_data",
     "data": {
      "text/plain": "array([144.48717949, 107.51282051])"
     },
     "metadata": {}
    },
    {
     "output_type": "display_data",
     "data": {
      "text/plain": "array([143.09615385, 108.90384615])"
     },
     "metadata": {}
    }
   ],
   "source": [
    "for index,subframe in df[:10].groupby(df[:10].index) :\n",
    "    display(*subframe.loc[:, ['XR','XL']].to_numpy())"
   ]
  },
  {
   "cell_type": "code",
   "execution_count": 137,
   "metadata": {},
   "outputs": [],
   "source": [
    "#vec = event.loc[:, ['XR','XL']].to_numpy()\n",
    "\n",
    "@numba.jit(nopython=True,parallel=True)\n",
    "def solve_ambiguity(vec):\n",
    "    combin = np.array(list(product(*vec))) #product andrebbe jittata a sua volta (numba non lo riconosce), ma se provo a farlo si ribella... \n",
    "    #TypeError: 'builtin_function_or_method' object is not subscriptable\n",
    "    # X e Y devono essere rispettivamente: X l'array di quattro elementi che esce fuori da \"vettore\" mentre Y la colonna del dataframe corrispondente all'evento che stiamo analizzando\n",
    "    r = np.zeros(combin.shape[0]) # voglio sedici coefficienti di correlazione lineare tra i quali soltanto uno sarà scelto per rappresentare la più appetibile retta dell'evento fisico analizzato\n",
    "    for i in range(combin.shape[0]) :\n",
    "        r[i] = np.corrcoef(combin[i],event.Y)[0,1] # perché r[i] è una matrice 2x2\n",
    "    return combin[np.abs(r).argmax()]"
   ]
  },
  {
   "cell_type": "code",
   "execution_count": 30,
   "metadata": {},
   "outputs": [
    {
     "output_type": "stream",
     "name": "stdout",
     "text": [
      "[ 0.6112087   0.41296031  0.65360258  0.47153376  0.7688928   0.53119631\n  0.80621643  0.59257883  0.04769967 -0.07288699  0.16983631  0.03527708\n  0.29672403  0.03109979  0.43572413  0.17617738]\n[179.03846154 163.01923077 145.07051282 152.78846154]\n"
     ]
    }
   ],
   "source": [
    "v = df[:4].loc[:, ['XR','XL']].to_numpy()\n",
    "vy = df[\"Y\"][:4].to_numpy()\n",
    "c = np.array(list(product(*v)))\n",
    "re = np.zeros(c.shape[0])\n",
    "for i in range(c.shape[0]) :\n",
    "    re[i] = np.corrcoef(c[i],vy)[0,1] # perché r[i] è una matrice 2x2\n",
    "print(re)\n",
    "print(c[np.abs(re).argmax()])"
   ]
  },
  {
   "cell_type": "code",
   "execution_count": 21,
   "metadata": {},
   "outputs": [
    {
     "output_type": "execute_result",
     "data": {
      "text/plain": [
       "array([45.5, 19.5,  6.5, 32.5])"
      ]
     },
     "metadata": {},
     "execution_count": 21
    }
   ],
   "source": [
    "df[\"Y\"][:4].to_numpy()"
   ]
  },
  {
   "cell_type": "code",
   "execution_count": 23,
   "metadata": {},
   "outputs": [],
   "source": [
    "# @numba.jit(nopython=True,parallel=True)\n",
    "# def f(x) :\n",
    "#     return np.array(list(product(*x)))\n",
    "# f(np.array([1,2]))"
   ]
  },
  {
   "cell_type": "code",
   "execution_count": 28,
   "metadata": {},
   "outputs": [],
   "source": [
    "# @numba.jit(nopython=True,parallel=True) \n",
    "# def prod_numba(x) :\n",
    "#     return product(*x)\n",
    "\n",
    "# prod_numba(np.array[1,2])"
   ]
  },
  {
   "cell_type": "code",
   "execution_count": 32,
   "metadata": {},
   "outputs": [],
   "source": [
    "#inutile\n",
    "\n",
    "# @numba.jit(nopython=True,parallel=True)\n",
    "# def find_best_comb(combin,ey) :\n",
    "#     r = np.zeros(combin.shape[0]) # voglio sedici coefficienti di correlazione lineare tra i quali soltanto uno sarà scelto per rappresentare la più appetibile retta dell'evento fisico analizzato\n",
    "#     for i in range(combin.shape[0]) :\n",
    "#         r[i] = np.corrcoef(combin[i],ey)[0,1] # perché r[i] è una matrice 2x2\n",
    "#     return combin[np.abs(r).argmax()]"
   ]
  },
  {
   "cell_type": "code",
   "execution_count": 38,
   "metadata": {},
   "outputs": [],
   "source": [
    "#inutile\n",
    "\n",
    "# def find_non_ambiguous_coord(event) :\n",
    "#     combin = np.array(list(product(*event.loc[:, ['XR','XL']].to_numpy())))\n",
    "#     return find_best_comb(combin,event.Y.to_numpy())"
   ]
  },
  {
   "cell_type": "code",
   "execution_count": 71,
   "metadata": {},
   "outputs": [],
   "source": [
    "#errore\n",
    "\n",
    "# df1 = df.copy()\n",
    "# for index,subframe in df1.groupby(df1.index) :\n",
    "#     df1.loc[index,\"X_BEST\"] = find_non_ambiguous_coord(subframe)\n",
    "\n",
    "# df1 #niente, dura troppo per i miei gusti"
   ]
  },
  {
   "cell_type": "code",
   "execution_count": 72,
   "metadata": {},
   "outputs": [],
   "source": [
    "#errore\n",
    "\n",
    "# def find_non_ambiguous_coord_apply(event) :\n",
    "#     combin = np.array(list(product(*event.loc[:, ['XR','XL']].to_numpy())))\n",
    "#     event[\"X_BEST\"] = find_best_comb(combin,event.Y.to_numpy())\n",
    "#     return event\n",
    "\n",
    "# df1 = df.copy().groupby(df.index).apply(find_non_ambiguous_coord_apply)\n",
    "# df1"
   ]
  },
  {
   "cell_type": "code",
   "execution_count": 70,
   "metadata": {},
   "outputs": [
    {
     "output_type": "execute_result",
     "data": {
      "text/plain": [
       "       index   ORBIT_CNT  EVENT  LAYER          X  CENTER          XL  \\\n",
       "0          0  1897417007    1.0    4.0  11.038462     8.0  156.961538   \n",
       "1          1  1897417007    1.0    2.0   4.980769     8.0  163.019231   \n",
       "2          2  1897417007    1.0    1.0   1.929487     7.0  145.070513   \n",
       "3          3  1897417007    1.0    3.0   5.788462     7.0  141.211538   \n",
       "4          4  1897417267    1.0    4.0  16.288462    14.0  277.711538   \n",
       "...      ...         ...    ...    ...        ...     ...         ...   \n",
       "88786  88786  1920940163    1.0    1.0   7.852564     9.0  181.147436   \n",
       "88787  88787  1920940194    1.0    3.0   5.205128    27.0  561.794872   \n",
       "88788  88788  1920940194    1.0    2.0   3.589744    28.0  584.410256   \n",
       "88789  88789  1920940194    1.0    1.0   1.705128    27.0  565.294872   \n",
       "88790  88790  1920940194    1.0    4.0   7.403846    28.0  580.596154   \n",
       "\n",
       "               XR     Y      X_BEST  \n",
       "0      179.038462  45.5  179.038462  \n",
       "1      172.980769  19.5  163.019231  \n",
       "2      148.929487   6.5  145.070513  \n",
       "3      152.788462  32.5  152.788462  \n",
       "4      310.288462  45.5  310.288462  \n",
       "...           ...   ...         ...  \n",
       "88786  196.852564   6.5  181.147436  \n",
       "88787  572.205128  32.5  572.205128  \n",
       "88788  591.589744  19.5  584.410256  \n",
       "88789  568.705128   6.5  565.294872  \n",
       "88790  595.403846  45.5  595.403846  \n",
       "\n",
       "[88791 rows x 10 columns]"
      ],
      "text/html": "<div>\n<style scoped>\n    .dataframe tbody tr th:only-of-type {\n        vertical-align: middle;\n    }\n\n    .dataframe tbody tr th {\n        vertical-align: top;\n    }\n\n    .dataframe thead th {\n        text-align: right;\n    }\n</style>\n<table border=\"1\" class=\"dataframe\">\n  <thead>\n    <tr style=\"text-align: right;\">\n      <th></th>\n      <th>index</th>\n      <th>ORBIT_CNT</th>\n      <th>EVENT</th>\n      <th>LAYER</th>\n      <th>X</th>\n      <th>CENTER</th>\n      <th>XL</th>\n      <th>XR</th>\n      <th>Y</th>\n      <th>X_BEST</th>\n    </tr>\n  </thead>\n  <tbody>\n    <tr>\n      <th>0</th>\n      <td>0</td>\n      <td>1897417007</td>\n      <td>1.0</td>\n      <td>4.0</td>\n      <td>11.038462</td>\n      <td>8.0</td>\n      <td>156.961538</td>\n      <td>179.038462</td>\n      <td>45.5</td>\n      <td>179.038462</td>\n    </tr>\n    <tr>\n      <th>1</th>\n      <td>1</td>\n      <td>1897417007</td>\n      <td>1.0</td>\n      <td>2.0</td>\n      <td>4.980769</td>\n      <td>8.0</td>\n      <td>163.019231</td>\n      <td>172.980769</td>\n      <td>19.5</td>\n      <td>163.019231</td>\n    </tr>\n    <tr>\n      <th>2</th>\n      <td>2</td>\n      <td>1897417007</td>\n      <td>1.0</td>\n      <td>1.0</td>\n      <td>1.929487</td>\n      <td>7.0</td>\n      <td>145.070513</td>\n      <td>148.929487</td>\n      <td>6.5</td>\n      <td>145.070513</td>\n    </tr>\n    <tr>\n      <th>3</th>\n      <td>3</td>\n      <td>1897417007</td>\n      <td>1.0</td>\n      <td>3.0</td>\n      <td>5.788462</td>\n      <td>7.0</td>\n      <td>141.211538</td>\n      <td>152.788462</td>\n      <td>32.5</td>\n      <td>152.788462</td>\n    </tr>\n    <tr>\n      <th>4</th>\n      <td>4</td>\n      <td>1897417267</td>\n      <td>1.0</td>\n      <td>4.0</td>\n      <td>16.288462</td>\n      <td>14.0</td>\n      <td>277.711538</td>\n      <td>310.288462</td>\n      <td>45.5</td>\n      <td>310.288462</td>\n    </tr>\n    <tr>\n      <th>...</th>\n      <td>...</td>\n      <td>...</td>\n      <td>...</td>\n      <td>...</td>\n      <td>...</td>\n      <td>...</td>\n      <td>...</td>\n      <td>...</td>\n      <td>...</td>\n      <td>...</td>\n    </tr>\n    <tr>\n      <th>88786</th>\n      <td>88786</td>\n      <td>1920940163</td>\n      <td>1.0</td>\n      <td>1.0</td>\n      <td>7.852564</td>\n      <td>9.0</td>\n      <td>181.147436</td>\n      <td>196.852564</td>\n      <td>6.5</td>\n      <td>181.147436</td>\n    </tr>\n    <tr>\n      <th>88787</th>\n      <td>88787</td>\n      <td>1920940194</td>\n      <td>1.0</td>\n      <td>3.0</td>\n      <td>5.205128</td>\n      <td>27.0</td>\n      <td>561.794872</td>\n      <td>572.205128</td>\n      <td>32.5</td>\n      <td>572.205128</td>\n    </tr>\n    <tr>\n      <th>88788</th>\n      <td>88788</td>\n      <td>1920940194</td>\n      <td>1.0</td>\n      <td>2.0</td>\n      <td>3.589744</td>\n      <td>28.0</td>\n      <td>584.410256</td>\n      <td>591.589744</td>\n      <td>19.5</td>\n      <td>584.410256</td>\n    </tr>\n    <tr>\n      <th>88789</th>\n      <td>88789</td>\n      <td>1920940194</td>\n      <td>1.0</td>\n      <td>1.0</td>\n      <td>1.705128</td>\n      <td>27.0</td>\n      <td>565.294872</td>\n      <td>568.705128</td>\n      <td>6.5</td>\n      <td>565.294872</td>\n    </tr>\n    <tr>\n      <th>88790</th>\n      <td>88790</td>\n      <td>1920940194</td>\n      <td>1.0</td>\n      <td>4.0</td>\n      <td>7.403846</td>\n      <td>28.0</td>\n      <td>580.596154</td>\n      <td>595.403846</td>\n      <td>45.5</td>\n      <td>595.403846</td>\n    </tr>\n  </tbody>\n</table>\n<p>88791 rows × 10 columns</p>\n</div>"
     },
     "metadata": {},
     "execution_count": 70
    }
   ],
   "source": [
    "#%%time\n",
    "def solve_ambiguity(event):\n",
    "    combin = np.array(list(product(*event.loc[:, ['XR','XL']].to_numpy())))\n",
    "    # X e Y devono essere rispettivamente: X l'array di quattro elementi che esce fuori da \"vettore\" mentre Y la colonna del dataframe corrispondente all'evento che stiamo analizzando\n",
    "    if combin.shape[1] != event.Y.shape[0] : # perché Xs è un array 16 x 4 elementi e a me interessa che matchi con il numero di elementi di Y cioè teoricamente 4 (oppure entrambi tre quando ci dovessero essere dei buchi)\n",
    "        print(\"X.shape and Y.shape don't match\")\n",
    "        return None \n",
    "    r = np.zeros(combin.shape[0]) # voglio sedici coefficienti di correlazione lineare tra i quali soltanto uno sarà scelto per rappresentare la più appetibile retta dell'evento fisico analizzato\n",
    "    for i in range(combin.shape[0]) :\n",
    "        r[i] = np.corrcoef(combin[i],event.Y)[0,1] # perché r[i] è una matrice 2x2\n",
    "    event['X_BEST'] = combin[np.abs(r).argmax()]\n",
    "    return event\n",
    "\n",
    "df1v = df.reset_index().groupby([\"ORBIT_CNT\",\"EVENT\"], group_keys=False).apply(solve_ambiguity) #SENZA RESET INDEX Dà SEMPRE XR PER QUALCHE MOTIVO... BOH\n",
    "\n",
    "df1v"
   ]
  },
  {
   "cell_type": "code",
   "execution_count": 73,
   "metadata": {},
   "outputs": [
    {
     "output_type": "execute_result",
     "data": {
      "text/plain": [
       "       index   ORBIT_CNT  EVENT  LAYER          X  CENTER          XL  \\\n",
       "1          1  1897417007    1.0    2.0   4.980769     8.0  163.019231   \n",
       "2          2  1897417007    1.0    1.0   1.929487     7.0  145.070513   \n",
       "5          5  1897417267    1.0    1.0  13.012821    13.0  259.987179   \n",
       "6          6  1897417267    1.0    2.0   6.641026    14.0  287.358974   \n",
       "9          9  1897417422    1.0    2.0  17.096154     6.0  108.903846   \n",
       "...      ...         ...    ...    ...        ...     ...         ...   \n",
       "88782  88782  1920940144    1.0    1.0   2.602564     3.0   60.397436   \n",
       "88784  88784  1920940163    1.0    2.0   2.647436    10.0  207.352564   \n",
       "88786  88786  1920940163    1.0    1.0   7.852564     9.0  181.147436   \n",
       "88788  88788  1920940194    1.0    2.0   3.589744    28.0  584.410256   \n",
       "88789  88789  1920940194    1.0    1.0   1.705128    27.0  565.294872   \n",
       "\n",
       "               XR     Y      X_BEST  \n",
       "1      172.980769  19.5  163.019231  \n",
       "2      148.929487   6.5  145.070513  \n",
       "5      286.012821   6.5  259.987179  \n",
       "6      300.641026  19.5  287.358974  \n",
       "9      143.096154  19.5  108.903846  \n",
       "...           ...   ...         ...  \n",
       "88782   65.602564   6.5   60.397436  \n",
       "88784  212.647436  19.5  207.352564  \n",
       "88786  196.852564   6.5  181.147436  \n",
       "88788  591.589744  19.5  584.410256  \n",
       "88789  568.705128   6.5  565.294872  \n",
       "\n",
       "[44481 rows x 10 columns]"
      ],
      "text/html": "<div>\n<style scoped>\n    .dataframe tbody tr th:only-of-type {\n        vertical-align: middle;\n    }\n\n    .dataframe tbody tr th {\n        vertical-align: top;\n    }\n\n    .dataframe thead th {\n        text-align: right;\n    }\n</style>\n<table border=\"1\" class=\"dataframe\">\n  <thead>\n    <tr style=\"text-align: right;\">\n      <th></th>\n      <th>index</th>\n      <th>ORBIT_CNT</th>\n      <th>EVENT</th>\n      <th>LAYER</th>\n      <th>X</th>\n      <th>CENTER</th>\n      <th>XL</th>\n      <th>XR</th>\n      <th>Y</th>\n      <th>X_BEST</th>\n    </tr>\n  </thead>\n  <tbody>\n    <tr>\n      <th>1</th>\n      <td>1</td>\n      <td>1897417007</td>\n      <td>1.0</td>\n      <td>2.0</td>\n      <td>4.980769</td>\n      <td>8.0</td>\n      <td>163.019231</td>\n      <td>172.980769</td>\n      <td>19.5</td>\n      <td>163.019231</td>\n    </tr>\n    <tr>\n      <th>2</th>\n      <td>2</td>\n      <td>1897417007</td>\n      <td>1.0</td>\n      <td>1.0</td>\n      <td>1.929487</td>\n      <td>7.0</td>\n      <td>145.070513</td>\n      <td>148.929487</td>\n      <td>6.5</td>\n      <td>145.070513</td>\n    </tr>\n    <tr>\n      <th>5</th>\n      <td>5</td>\n      <td>1897417267</td>\n      <td>1.0</td>\n      <td>1.0</td>\n      <td>13.012821</td>\n      <td>13.0</td>\n      <td>259.987179</td>\n      <td>286.012821</td>\n      <td>6.5</td>\n      <td>259.987179</td>\n    </tr>\n    <tr>\n      <th>6</th>\n      <td>6</td>\n      <td>1897417267</td>\n      <td>1.0</td>\n      <td>2.0</td>\n      <td>6.641026</td>\n      <td>14.0</td>\n      <td>287.358974</td>\n      <td>300.641026</td>\n      <td>19.5</td>\n      <td>287.358974</td>\n    </tr>\n    <tr>\n      <th>9</th>\n      <td>9</td>\n      <td>1897417422</td>\n      <td>1.0</td>\n      <td>2.0</td>\n      <td>17.096154</td>\n      <td>6.0</td>\n      <td>108.903846</td>\n      <td>143.096154</td>\n      <td>19.5</td>\n      <td>108.903846</td>\n    </tr>\n    <tr>\n      <th>...</th>\n      <td>...</td>\n      <td>...</td>\n      <td>...</td>\n      <td>...</td>\n      <td>...</td>\n      <td>...</td>\n      <td>...</td>\n      <td>...</td>\n      <td>...</td>\n      <td>...</td>\n    </tr>\n    <tr>\n      <th>88782</th>\n      <td>88782</td>\n      <td>1920940144</td>\n      <td>1.0</td>\n      <td>1.0</td>\n      <td>2.602564</td>\n      <td>3.0</td>\n      <td>60.397436</td>\n      <td>65.602564</td>\n      <td>6.5</td>\n      <td>60.397436</td>\n    </tr>\n    <tr>\n      <th>88784</th>\n      <td>88784</td>\n      <td>1920940163</td>\n      <td>1.0</td>\n      <td>2.0</td>\n      <td>2.647436</td>\n      <td>10.0</td>\n      <td>207.352564</td>\n      <td>212.647436</td>\n      <td>19.5</td>\n      <td>207.352564</td>\n    </tr>\n    <tr>\n      <th>88786</th>\n      <td>88786</td>\n      <td>1920940163</td>\n      <td>1.0</td>\n      <td>1.0</td>\n      <td>7.852564</td>\n      <td>9.0</td>\n      <td>181.147436</td>\n      <td>196.852564</td>\n      <td>6.5</td>\n      <td>181.147436</td>\n    </tr>\n    <tr>\n      <th>88788</th>\n      <td>88788</td>\n      <td>1920940194</td>\n      <td>1.0</td>\n      <td>2.0</td>\n      <td>3.589744</td>\n      <td>28.0</td>\n      <td>584.410256</td>\n      <td>591.589744</td>\n      <td>19.5</td>\n      <td>584.410256</td>\n    </tr>\n    <tr>\n      <th>88789</th>\n      <td>88789</td>\n      <td>1920940194</td>\n      <td>1.0</td>\n      <td>1.0</td>\n      <td>1.705128</td>\n      <td>27.0</td>\n      <td>565.294872</td>\n      <td>568.705128</td>\n      <td>6.5</td>\n      <td>565.294872</td>\n    </tr>\n  </tbody>\n</table>\n<p>44481 rows × 10 columns</p>\n</div>"
     },
     "metadata": {},
     "execution_count": 73
    }
   ],
   "source": [
    "df1v.loc[df1v.XL == df1v.X_BEST] #meglio"
   ]
  },
  {
   "cell_type": "code",
   "execution_count": 74,
   "metadata": {},
   "outputs": [],
   "source": [
    "#df1v.to_csv(\"df1v.csv\")"
   ]
  },
  {
   "cell_type": "code",
   "execution_count": 43,
   "metadata": {},
   "outputs": [
    {
     "output_type": "stream",
     "name": "stdout",
     "text": [
      "Wall time: 1min 39s\n"
     ]
    },
    {
     "output_type": "execute_result",
     "data": {
      "text/plain": [
       "        ORBIT_CNT  EVENT  LAYER          X  CENTER          XL          XR  \\\n",
       "0      1897417007    1.0    4.0  11.038462     8.0  156.961538  179.038462   \n",
       "1      1897417007    1.0    2.0   4.980769     8.0  163.019231  172.980769   \n",
       "2      1897417007    1.0    1.0   1.929487     7.0  145.070513  148.929487   \n",
       "3      1897417007    1.0    3.0   5.788462     7.0  141.211538  152.788462   \n",
       "4      1897417267    1.0    4.0  16.288462    14.0  277.711538  310.288462   \n",
       "...           ...    ...    ...        ...     ...         ...         ...   \n",
       "88786  1920940163    1.0    1.0   7.852564     9.0  181.147436  196.852564   \n",
       "88787  1920940194    1.0    3.0   5.205128    27.0  561.794872  572.205128   \n",
       "88788  1920940194    1.0    2.0   3.589744    28.0  584.410256  591.589744   \n",
       "88789  1920940194    1.0    1.0   1.705128    27.0  565.294872  568.705128   \n",
       "88790  1920940194    1.0    4.0   7.403846    28.0  580.596154  595.403846   \n",
       "\n",
       "          Y      X_BEST  \n",
       "0      45.5  179.038462  \n",
       "1      19.5  172.980769  \n",
       "2       6.5  148.929487  \n",
       "3      32.5  152.788462  \n",
       "4      45.5  310.288462  \n",
       "...     ...         ...  \n",
       "88786   6.5  196.852564  \n",
       "88787  32.5  572.205128  \n",
       "88788  19.5  591.589744  \n",
       "88789   6.5  568.705128  \n",
       "88790  45.5  595.403846  \n",
       "\n",
       "[88791 rows x 9 columns]"
      ],
      "text/html": "<div>\n<style scoped>\n    .dataframe tbody tr th:only-of-type {\n        vertical-align: middle;\n    }\n\n    .dataframe tbody tr th {\n        vertical-align: top;\n    }\n\n    .dataframe thead th {\n        text-align: right;\n    }\n</style>\n<table border=\"1\" class=\"dataframe\">\n  <thead>\n    <tr style=\"text-align: right;\">\n      <th></th>\n      <th>ORBIT_CNT</th>\n      <th>EVENT</th>\n      <th>LAYER</th>\n      <th>X</th>\n      <th>CENTER</th>\n      <th>XL</th>\n      <th>XR</th>\n      <th>Y</th>\n      <th>X_BEST</th>\n    </tr>\n  </thead>\n  <tbody>\n    <tr>\n      <th>0</th>\n      <td>1897417007</td>\n      <td>1.0</td>\n      <td>4.0</td>\n      <td>11.038462</td>\n      <td>8.0</td>\n      <td>156.961538</td>\n      <td>179.038462</td>\n      <td>45.5</td>\n      <td>179.038462</td>\n    </tr>\n    <tr>\n      <th>1</th>\n      <td>1897417007</td>\n      <td>1.0</td>\n      <td>2.0</td>\n      <td>4.980769</td>\n      <td>8.0</td>\n      <td>163.019231</td>\n      <td>172.980769</td>\n      <td>19.5</td>\n      <td>172.980769</td>\n    </tr>\n    <tr>\n      <th>2</th>\n      <td>1897417007</td>\n      <td>1.0</td>\n      <td>1.0</td>\n      <td>1.929487</td>\n      <td>7.0</td>\n      <td>145.070513</td>\n      <td>148.929487</td>\n      <td>6.5</td>\n      <td>148.929487</td>\n    </tr>\n    <tr>\n      <th>3</th>\n      <td>1897417007</td>\n      <td>1.0</td>\n      <td>3.0</td>\n      <td>5.788462</td>\n      <td>7.0</td>\n      <td>141.211538</td>\n      <td>152.788462</td>\n      <td>32.5</td>\n      <td>152.788462</td>\n    </tr>\n    <tr>\n      <th>4</th>\n      <td>1897417267</td>\n      <td>1.0</td>\n      <td>4.0</td>\n      <td>16.288462</td>\n      <td>14.0</td>\n      <td>277.711538</td>\n      <td>310.288462</td>\n      <td>45.5</td>\n      <td>310.288462</td>\n    </tr>\n    <tr>\n      <th>...</th>\n      <td>...</td>\n      <td>...</td>\n      <td>...</td>\n      <td>...</td>\n      <td>...</td>\n      <td>...</td>\n      <td>...</td>\n      <td>...</td>\n      <td>...</td>\n    </tr>\n    <tr>\n      <th>88786</th>\n      <td>1920940163</td>\n      <td>1.0</td>\n      <td>1.0</td>\n      <td>7.852564</td>\n      <td>9.0</td>\n      <td>181.147436</td>\n      <td>196.852564</td>\n      <td>6.5</td>\n      <td>196.852564</td>\n    </tr>\n    <tr>\n      <th>88787</th>\n      <td>1920940194</td>\n      <td>1.0</td>\n      <td>3.0</td>\n      <td>5.205128</td>\n      <td>27.0</td>\n      <td>561.794872</td>\n      <td>572.205128</td>\n      <td>32.5</td>\n      <td>572.205128</td>\n    </tr>\n    <tr>\n      <th>88788</th>\n      <td>1920940194</td>\n      <td>1.0</td>\n      <td>2.0</td>\n      <td>3.589744</td>\n      <td>28.0</td>\n      <td>584.410256</td>\n      <td>591.589744</td>\n      <td>19.5</td>\n      <td>591.589744</td>\n    </tr>\n    <tr>\n      <th>88789</th>\n      <td>1920940194</td>\n      <td>1.0</td>\n      <td>1.0</td>\n      <td>1.705128</td>\n      <td>27.0</td>\n      <td>565.294872</td>\n      <td>568.705128</td>\n      <td>6.5</td>\n      <td>568.705128</td>\n    </tr>\n    <tr>\n      <th>88790</th>\n      <td>1920940194</td>\n      <td>1.0</td>\n      <td>4.0</td>\n      <td>7.403846</td>\n      <td>28.0</td>\n      <td>580.596154</td>\n      <td>595.403846</td>\n      <td>45.5</td>\n      <td>595.403846</td>\n    </tr>\n  </tbody>\n</table>\n<p>88791 rows × 9 columns</p>\n</div>"
     },
     "metadata": {},
     "execution_count": 43
    }
   ],
   "source": [
    "#NOTA IMPORTANTE: questa cella ha qualche errore perché restituisce sempre XR anziché il vero X_BEST (almeno stando all'altro documento), e non ho voglia di sistemarla. Per questo motivo e per il fatto che come spiegato subito sotto non ci sono guadagni di prestazioni abbandono questa strada e torno ad usare apply\n",
    "\n",
    "# %%time #1m 39s, praticamente le stesse prestazioni di apply (e certo, fa la stessa cosa... non c'è vettorizzazione o parallelizzazione o precompilazione)\n",
    "# df1 = df.copy() \n",
    "# df1[\"X_BEST\"] = np.nan\n",
    "\n",
    "# for index,subframe in df1.groupby(df1.index) : #LA COLPA è QUI, MEGLIO CONTINUARE AD USARE APPLY!\n",
    "#     combin = np.array(list(product(*subframe.loc[:, ['XR','XL']].to_numpy())))\n",
    "#     r = np.zeros(combin.shape[0])\n",
    "#     for i in range(combin.shape[0]) :\n",
    "#         r[i] = np.corrcoef(combin[i],subframe.Y)[0,1]\n",
    "#     df1.loc[index,\"X_BEST\"] = combin[np.abs(r).argmax()]\n",
    "\n",
    "# df1"
   ]
  },
  {
   "cell_type": "code",
   "execution_count": 48,
   "metadata": {},
   "outputs": [],
   "source": [
    "# %%time #Wall time: 3min 13s  ahi ahi ahi!\n",
    "# df2 = df.copy() \n",
    "# df2[\"X_BEST\"] = np.nan\n",
    "\n",
    "# for index,subframe in df2.groupby(df2.index) :\n",
    "#     combin = np.array(list(product(*subframe.loc[:, ['XR','XL']].to_numpy())))\n",
    "#     df2.loc[index,\"X_BEST\"] = find_best_comb(combin,subframe.Y.to_numpy()) #con numba\n",
    "\n",
    "# df2"
   ]
  },
  {
   "cell_type": "code",
   "execution_count": 47,
   "metadata": {},
   "outputs": [],
   "source": [
    "#np.allclose(df1,df2) #True"
   ]
  },
  {
   "cell_type": "code",
   "execution_count": 50,
   "metadata": {},
   "outputs": [
    {
     "output_type": "stream",
     "name": "stdout",
     "text": [
      "Wall time: 1min 21s\n"
     ]
    },
    {
     "output_type": "execute_result",
     "data": {
      "text/plain": [
       "        ORBIT_CNT  EVENT  LAYER          X  CENTER          XL          XR  \\\n",
       "0      1897417007    1.0    4.0  11.038462     8.0  156.961538  179.038462   \n",
       "1      1897417007    1.0    2.0   4.980769     8.0  163.019231  172.980769   \n",
       "2      1897417007    1.0    1.0   1.929487     7.0  145.070513  148.929487   \n",
       "3      1897417007    1.0    3.0   5.788462     7.0  141.211538  152.788462   \n",
       "4      1897417267    1.0    4.0  16.288462    14.0  277.711538  310.288462   \n",
       "...           ...    ...    ...        ...     ...         ...         ...   \n",
       "88786  1920940163    1.0    1.0   7.852564     9.0  181.147436  196.852564   \n",
       "88787  1920940194    1.0    3.0   5.205128    27.0  561.794872  572.205128   \n",
       "88788  1920940194    1.0    2.0   3.589744    28.0  584.410256  591.589744   \n",
       "88789  1920940194    1.0    1.0   1.705128    27.0  565.294872  568.705128   \n",
       "88790  1920940194    1.0    4.0   7.403846    28.0  580.596154  595.403846   \n",
       "\n",
       "          Y      X_BEST   M   Q  \n",
       "0      45.5  179.038462 NaN NaN  \n",
       "1      19.5  172.980769 NaN NaN  \n",
       "2       6.5  148.929487 NaN NaN  \n",
       "3      32.5  152.788462 NaN NaN  \n",
       "4      45.5  310.288462 NaN NaN  \n",
       "...     ...         ...  ..  ..  \n",
       "88786   6.5  196.852564 NaN NaN  \n",
       "88787  32.5  572.205128 NaN NaN  \n",
       "88788  19.5  591.589744 NaN NaN  \n",
       "88789   6.5  568.705128 NaN NaN  \n",
       "88790  45.5  595.403846 NaN NaN  \n",
       "\n",
       "[88791 rows x 11 columns]"
      ],
      "text/html": "<div>\n<style scoped>\n    .dataframe tbody tr th:only-of-type {\n        vertical-align: middle;\n    }\n\n    .dataframe tbody tr th {\n        vertical-align: top;\n    }\n\n    .dataframe thead th {\n        text-align: right;\n    }\n</style>\n<table border=\"1\" class=\"dataframe\">\n  <thead>\n    <tr style=\"text-align: right;\">\n      <th></th>\n      <th>ORBIT_CNT</th>\n      <th>EVENT</th>\n      <th>LAYER</th>\n      <th>X</th>\n      <th>CENTER</th>\n      <th>XL</th>\n      <th>XR</th>\n      <th>Y</th>\n      <th>X_BEST</th>\n      <th>M</th>\n      <th>Q</th>\n    </tr>\n  </thead>\n  <tbody>\n    <tr>\n      <th>0</th>\n      <td>1897417007</td>\n      <td>1.0</td>\n      <td>4.0</td>\n      <td>11.038462</td>\n      <td>8.0</td>\n      <td>156.961538</td>\n      <td>179.038462</td>\n      <td>45.5</td>\n      <td>179.038462</td>\n      <td>NaN</td>\n      <td>NaN</td>\n    </tr>\n    <tr>\n      <th>1</th>\n      <td>1897417007</td>\n      <td>1.0</td>\n      <td>2.0</td>\n      <td>4.980769</td>\n      <td>8.0</td>\n      <td>163.019231</td>\n      <td>172.980769</td>\n      <td>19.5</td>\n      <td>172.980769</td>\n      <td>NaN</td>\n      <td>NaN</td>\n    </tr>\n    <tr>\n      <th>2</th>\n      <td>1897417007</td>\n      <td>1.0</td>\n      <td>1.0</td>\n      <td>1.929487</td>\n      <td>7.0</td>\n      <td>145.070513</td>\n      <td>148.929487</td>\n      <td>6.5</td>\n      <td>148.929487</td>\n      <td>NaN</td>\n      <td>NaN</td>\n    </tr>\n    <tr>\n      <th>3</th>\n      <td>1897417007</td>\n      <td>1.0</td>\n      <td>3.0</td>\n      <td>5.788462</td>\n      <td>7.0</td>\n      <td>141.211538</td>\n      <td>152.788462</td>\n      <td>32.5</td>\n      <td>152.788462</td>\n      <td>NaN</td>\n      <td>NaN</td>\n    </tr>\n    <tr>\n      <th>4</th>\n      <td>1897417267</td>\n      <td>1.0</td>\n      <td>4.0</td>\n      <td>16.288462</td>\n      <td>14.0</td>\n      <td>277.711538</td>\n      <td>310.288462</td>\n      <td>45.5</td>\n      <td>310.288462</td>\n      <td>NaN</td>\n      <td>NaN</td>\n    </tr>\n    <tr>\n      <th>...</th>\n      <td>...</td>\n      <td>...</td>\n      <td>...</td>\n      <td>...</td>\n      <td>...</td>\n      <td>...</td>\n      <td>...</td>\n      <td>...</td>\n      <td>...</td>\n      <td>...</td>\n      <td>...</td>\n    </tr>\n    <tr>\n      <th>88786</th>\n      <td>1920940163</td>\n      <td>1.0</td>\n      <td>1.0</td>\n      <td>7.852564</td>\n      <td>9.0</td>\n      <td>181.147436</td>\n      <td>196.852564</td>\n      <td>6.5</td>\n      <td>196.852564</td>\n      <td>NaN</td>\n      <td>NaN</td>\n    </tr>\n    <tr>\n      <th>88787</th>\n      <td>1920940194</td>\n      <td>1.0</td>\n      <td>3.0</td>\n      <td>5.205128</td>\n      <td>27.0</td>\n      <td>561.794872</td>\n      <td>572.205128</td>\n      <td>32.5</td>\n      <td>572.205128</td>\n      <td>NaN</td>\n      <td>NaN</td>\n    </tr>\n    <tr>\n      <th>88788</th>\n      <td>1920940194</td>\n      <td>1.0</td>\n      <td>2.0</td>\n      <td>3.589744</td>\n      <td>28.0</td>\n      <td>584.410256</td>\n      <td>591.589744</td>\n      <td>19.5</td>\n      <td>591.589744</td>\n      <td>NaN</td>\n      <td>NaN</td>\n    </tr>\n    <tr>\n      <th>88789</th>\n      <td>1920940194</td>\n      <td>1.0</td>\n      <td>1.0</td>\n      <td>1.705128</td>\n      <td>27.0</td>\n      <td>565.294872</td>\n      <td>568.705128</td>\n      <td>6.5</td>\n      <td>568.705128</td>\n      <td>NaN</td>\n      <td>NaN</td>\n    </tr>\n    <tr>\n      <th>88790</th>\n      <td>1920940194</td>\n      <td>1.0</td>\n      <td>4.0</td>\n      <td>7.403846</td>\n      <td>28.0</td>\n      <td>580.596154</td>\n      <td>595.403846</td>\n      <td>45.5</td>\n      <td>595.403846</td>\n      <td>NaN</td>\n      <td>NaN</td>\n    </tr>\n  </tbody>\n</table>\n<p>88791 rows × 11 columns</p>\n</div>"
     },
     "metadata": {},
     "execution_count": 50
    }
   ],
   "source": [
    "%%time\n",
    "df2 = df1.copy()\n",
    "for index,subframe in df2.groupby(df2.index) :\n",
    "    res = linregress(x=subframe['X_BEST'].to_numpy(),y=subframe['Y'].to_numpy()) #qui non c'è che vettorizzare e quasi sicuramente numba peggiorerebbe la situazione\n",
    "    df2.loc[index,'M'] = res.slope\n",
    "    df2.loc[index,'Q'] = res.intercept\n",
    "\n",
    "df2"
   ]
  },
  {
   "cell_type": "code",
   "execution_count": 67,
   "metadata": {},
   "outputs": [
    {
     "output_type": "execute_result",
     "data": {
      "text/plain": [
       "Empty DataFrame\n",
       "Columns: [ORBIT_CNT, EVENT, LAYER, X, CENTER, XL, XR, Y, X_BEST, M, Q]\n",
       "Index: []"
      ],
      "text/html": "<div>\n<style scoped>\n    .dataframe tbody tr th:only-of-type {\n        vertical-align: middle;\n    }\n\n    .dataframe tbody tr th {\n        vertical-align: top;\n    }\n\n    .dataframe thead th {\n        text-align: right;\n    }\n</style>\n<table border=\"1\" class=\"dataframe\">\n  <thead>\n    <tr style=\"text-align: right;\">\n      <th></th>\n      <th>ORBIT_CNT</th>\n      <th>EVENT</th>\n      <th>LAYER</th>\n      <th>X</th>\n      <th>CENTER</th>\n      <th>XL</th>\n      <th>XR</th>\n      <th>Y</th>\n      <th>X_BEST</th>\n      <th>M</th>\n      <th>Q</th>\n    </tr>\n  </thead>\n  <tbody>\n  </tbody>\n</table>\n</div>"
     },
     "metadata": {},
     "execution_count": 67
    }
   ],
   "source": [
    "df2.loc[df2.XL == df2.X_BEST].loc[df2.X != 0]"
   ]
  },
  {
   "cell_type": "code",
   "execution_count": 58,
   "metadata": {},
   "outputs": [
    {
     "output_type": "stream",
     "name": "stdout",
     "text": [
      "[179.03846154]\nnan\nnan\n"
     ]
    }
   ],
   "source": [
    "for index,subframe in df2[:1].groupby(df2[:1].index) :\n",
    "    print(subframe.X_BEST.to_numpy())\n",
    "    # print(\"x:\",subframe['X_BEST'].to_numpy())\n",
    "    # print(\"y:\",subframe['Y'].to_numpy())\n",
    "    #res = linregress(x=subframe['X_BEST'].to_numpy(),y=subframe['Y'].to_numpy()) \n",
    "    print(res.slope)\n",
    "    print(res.intercept)"
   ]
  },
  {
   "cell_type": "code",
   "execution_count": 51,
   "metadata": {},
   "outputs": [
    {
     "output_type": "stream",
     "name": "stdout",
     "text": [
      "Wall time: 1min 29s\n"
     ]
    },
    {
     "output_type": "execute_result",
     "data": {
      "text/plain": [
       "        ORBIT_CNT  EVENT  LAYER          X  CENTER          XL          XR  \\\n",
       "0      1897417007    1.0    4.0  11.038462     8.0  156.961538  179.038462   \n",
       "1      1897417007    1.0    2.0   4.980769     8.0  163.019231  172.980769   \n",
       "2      1897417007    1.0    1.0   1.929487     7.0  145.070513  148.929487   \n",
       "3      1897417007    1.0    3.0   5.788462     7.0  141.211538  152.788462   \n",
       "4      1897417267    1.0    4.0  16.288462    14.0  277.711538  310.288462   \n",
       "...           ...    ...    ...        ...     ...         ...         ...   \n",
       "88786  1920940163    1.0    1.0   7.852564     9.0  181.147436  196.852564   \n",
       "88787  1920940194    1.0    3.0   5.205128    27.0  561.794872  572.205128   \n",
       "88788  1920940194    1.0    2.0   3.589744    28.0  584.410256  591.589744   \n",
       "88789  1920940194    1.0    1.0   1.705128    27.0  565.294872  568.705128   \n",
       "88790  1920940194    1.0    4.0   7.403846    28.0  580.596154  595.403846   \n",
       "\n",
       "          Y      X_BEST   M   Q  \n",
       "0      45.5  179.038462 NaN NaN  \n",
       "1      19.5  172.980769 NaN NaN  \n",
       "2       6.5  148.929487 NaN NaN  \n",
       "3      32.5  152.788462 NaN NaN  \n",
       "4      45.5  310.288462 NaN NaN  \n",
       "...     ...         ...  ..  ..  \n",
       "88786   6.5  196.852564 NaN NaN  \n",
       "88787  32.5  572.205128 NaN NaN  \n",
       "88788  19.5  591.589744 NaN NaN  \n",
       "88789   6.5  568.705128 NaN NaN  \n",
       "88790  45.5  595.403846 NaN NaN  \n",
       "\n",
       "[88791 rows x 11 columns]"
      ],
      "text/html": "<div>\n<style scoped>\n    .dataframe tbody tr th:only-of-type {\n        vertical-align: middle;\n    }\n\n    .dataframe tbody tr th {\n        vertical-align: top;\n    }\n\n    .dataframe thead th {\n        text-align: right;\n    }\n</style>\n<table border=\"1\" class=\"dataframe\">\n  <thead>\n    <tr style=\"text-align: right;\">\n      <th></th>\n      <th>ORBIT_CNT</th>\n      <th>EVENT</th>\n      <th>LAYER</th>\n      <th>X</th>\n      <th>CENTER</th>\n      <th>XL</th>\n      <th>XR</th>\n      <th>Y</th>\n      <th>X_BEST</th>\n      <th>M</th>\n      <th>Q</th>\n    </tr>\n  </thead>\n  <tbody>\n    <tr>\n      <th>0</th>\n      <td>1897417007</td>\n      <td>1.0</td>\n      <td>4.0</td>\n      <td>11.038462</td>\n      <td>8.0</td>\n      <td>156.961538</td>\n      <td>179.038462</td>\n      <td>45.5</td>\n      <td>179.038462</td>\n      <td>NaN</td>\n      <td>NaN</td>\n    </tr>\n    <tr>\n      <th>1</th>\n      <td>1897417007</td>\n      <td>1.0</td>\n      <td>2.0</td>\n      <td>4.980769</td>\n      <td>8.0</td>\n      <td>163.019231</td>\n      <td>172.980769</td>\n      <td>19.5</td>\n      <td>172.980769</td>\n      <td>NaN</td>\n      <td>NaN</td>\n    </tr>\n    <tr>\n      <th>2</th>\n      <td>1897417007</td>\n      <td>1.0</td>\n      <td>1.0</td>\n      <td>1.929487</td>\n      <td>7.0</td>\n      <td>145.070513</td>\n      <td>148.929487</td>\n      <td>6.5</td>\n      <td>148.929487</td>\n      <td>NaN</td>\n      <td>NaN</td>\n    </tr>\n    <tr>\n      <th>3</th>\n      <td>1897417007</td>\n      <td>1.0</td>\n      <td>3.0</td>\n      <td>5.788462</td>\n      <td>7.0</td>\n      <td>141.211538</td>\n      <td>152.788462</td>\n      <td>32.5</td>\n      <td>152.788462</td>\n      <td>NaN</td>\n      <td>NaN</td>\n    </tr>\n    <tr>\n      <th>4</th>\n      <td>1897417267</td>\n      <td>1.0</td>\n      <td>4.0</td>\n      <td>16.288462</td>\n      <td>14.0</td>\n      <td>277.711538</td>\n      <td>310.288462</td>\n      <td>45.5</td>\n      <td>310.288462</td>\n      <td>NaN</td>\n      <td>NaN</td>\n    </tr>\n    <tr>\n      <th>...</th>\n      <td>...</td>\n      <td>...</td>\n      <td>...</td>\n      <td>...</td>\n      <td>...</td>\n      <td>...</td>\n      <td>...</td>\n      <td>...</td>\n      <td>...</td>\n      <td>...</td>\n      <td>...</td>\n    </tr>\n    <tr>\n      <th>88786</th>\n      <td>1920940163</td>\n      <td>1.0</td>\n      <td>1.0</td>\n      <td>7.852564</td>\n      <td>9.0</td>\n      <td>181.147436</td>\n      <td>196.852564</td>\n      <td>6.5</td>\n      <td>196.852564</td>\n      <td>NaN</td>\n      <td>NaN</td>\n    </tr>\n    <tr>\n      <th>88787</th>\n      <td>1920940194</td>\n      <td>1.0</td>\n      <td>3.0</td>\n      <td>5.205128</td>\n      <td>27.0</td>\n      <td>561.794872</td>\n      <td>572.205128</td>\n      <td>32.5</td>\n      <td>572.205128</td>\n      <td>NaN</td>\n      <td>NaN</td>\n    </tr>\n    <tr>\n      <th>88788</th>\n      <td>1920940194</td>\n      <td>1.0</td>\n      <td>2.0</td>\n      <td>3.589744</td>\n      <td>28.0</td>\n      <td>584.410256</td>\n      <td>591.589744</td>\n      <td>19.5</td>\n      <td>591.589744</td>\n      <td>NaN</td>\n      <td>NaN</td>\n    </tr>\n    <tr>\n      <th>88789</th>\n      <td>1920940194</td>\n      <td>1.0</td>\n      <td>1.0</td>\n      <td>1.705128</td>\n      <td>27.0</td>\n      <td>565.294872</td>\n      <td>568.705128</td>\n      <td>6.5</td>\n      <td>568.705128</td>\n      <td>NaN</td>\n      <td>NaN</td>\n    </tr>\n    <tr>\n      <th>88790</th>\n      <td>1920940194</td>\n      <td>1.0</td>\n      <td>4.0</td>\n      <td>7.403846</td>\n      <td>28.0</td>\n      <td>580.596154</td>\n      <td>595.403846</td>\n      <td>45.5</td>\n      <td>595.403846</td>\n      <td>NaN</td>\n      <td>NaN</td>\n    </tr>\n  </tbody>\n</table>\n<p>88791 rows × 11 columns</p>\n</div>"
     },
     "metadata": {},
     "execution_count": 51
    }
   ],
   "source": [
    "%%time #prestazioni identiche (mi pare ovvio, fanno la stessa cosa..!)\n",
    "def meq(event):\n",
    "    res = linregress(x=event['X_BEST'].to_numpy(),y=event['Y'].to_numpy()) #anche qui non c'è che vettorizzare, solo parallelizzare\n",
    "    event['M'] = res.slope\n",
    "    event['Q'] = res.intercept\n",
    "    return event\n",
    "\n",
    "df2 = df1.groupby(df1.index).apply(meq)\n",
    "df2"
   ]
  },
  {
   "cell_type": "code",
   "execution_count": null,
   "metadata": {},
   "outputs": [],
   "source": [
    "delta_x = 42/(2*390)*(50)\n",
    "\n",
    "\n",
    "\n",
    "(np.abs(event.X_BEST - (event.Y-event.Q)/event.M)).max() < delta_x"
   ]
  },
  {
   "cell_type": "code",
   "execution_count": 76,
   "metadata": {},
   "outputs": [
    {
     "output_type": "display_data",
     "data": {
      "text/plain": "    ORBIT_CNT  EVENT  LAYER          X  CENTER          XL          XR     Y\n0  1897417007    1.0    4.0  11.038462     8.0  156.961538  179.038462  45.5",
      "text/html": "<div>\n<style scoped>\n    .dataframe tbody tr th:only-of-type {\n        vertical-align: middle;\n    }\n\n    .dataframe tbody tr th {\n        vertical-align: top;\n    }\n\n    .dataframe thead th {\n        text-align: right;\n    }\n</style>\n<table border=\"1\" class=\"dataframe\">\n  <thead>\n    <tr style=\"text-align: right;\">\n      <th></th>\n      <th>ORBIT_CNT</th>\n      <th>EVENT</th>\n      <th>LAYER</th>\n      <th>X</th>\n      <th>CENTER</th>\n      <th>XL</th>\n      <th>XR</th>\n      <th>Y</th>\n    </tr>\n  </thead>\n  <tbody>\n    <tr>\n      <th>0</th>\n      <td>1897417007</td>\n      <td>1.0</td>\n      <td>4.0</td>\n      <td>11.038462</td>\n      <td>8.0</td>\n      <td>156.961538</td>\n      <td>179.038462</td>\n      <td>45.5</td>\n    </tr>\n  </tbody>\n</table>\n</div>"
     },
     "metadata": {}
    },
    {
     "output_type": "display_data",
     "data": {
      "text/plain": "    ORBIT_CNT  EVENT  LAYER         X  CENTER          XL          XR     Y\n1  1897417007    1.0    2.0  4.980769     8.0  163.019231  172.980769  19.5",
      "text/html": "<div>\n<style scoped>\n    .dataframe tbody tr th:only-of-type {\n        vertical-align: middle;\n    }\n\n    .dataframe tbody tr th {\n        vertical-align: top;\n    }\n\n    .dataframe thead th {\n        text-align: right;\n    }\n</style>\n<table border=\"1\" class=\"dataframe\">\n  <thead>\n    <tr style=\"text-align: right;\">\n      <th></th>\n      <th>ORBIT_CNT</th>\n      <th>EVENT</th>\n      <th>LAYER</th>\n      <th>X</th>\n      <th>CENTER</th>\n      <th>XL</th>\n      <th>XR</th>\n      <th>Y</th>\n    </tr>\n  </thead>\n  <tbody>\n    <tr>\n      <th>1</th>\n      <td>1897417007</td>\n      <td>1.0</td>\n      <td>2.0</td>\n      <td>4.980769</td>\n      <td>8.0</td>\n      <td>163.019231</td>\n      <td>172.980769</td>\n      <td>19.5</td>\n    </tr>\n  </tbody>\n</table>\n</div>"
     },
     "metadata": {}
    },
    {
     "output_type": "display_data",
     "data": {
      "text/plain": "    ORBIT_CNT  EVENT  LAYER         X  CENTER          XL          XR    Y\n2  1897417007    1.0    1.0  1.929487     7.0  145.070513  148.929487  6.5",
      "text/html": "<div>\n<style scoped>\n    .dataframe tbody tr th:only-of-type {\n        vertical-align: middle;\n    }\n\n    .dataframe tbody tr th {\n        vertical-align: top;\n    }\n\n    .dataframe thead th {\n        text-align: right;\n    }\n</style>\n<table border=\"1\" class=\"dataframe\">\n  <thead>\n    <tr style=\"text-align: right;\">\n      <th></th>\n      <th>ORBIT_CNT</th>\n      <th>EVENT</th>\n      <th>LAYER</th>\n      <th>X</th>\n      <th>CENTER</th>\n      <th>XL</th>\n      <th>XR</th>\n      <th>Y</th>\n    </tr>\n  </thead>\n  <tbody>\n    <tr>\n      <th>2</th>\n      <td>1897417007</td>\n      <td>1.0</td>\n      <td>1.0</td>\n      <td>1.929487</td>\n      <td>7.0</td>\n      <td>145.070513</td>\n      <td>148.929487</td>\n      <td>6.5</td>\n    </tr>\n  </tbody>\n</table>\n</div>"
     },
     "metadata": {}
    },
    {
     "output_type": "display_data",
     "data": {
      "text/plain": "    ORBIT_CNT  EVENT  LAYER         X  CENTER          XL          XR     Y\n3  1897417007    1.0    3.0  5.788462     7.0  141.211538  152.788462  32.5",
      "text/html": "<div>\n<style scoped>\n    .dataframe tbody tr th:only-of-type {\n        vertical-align: middle;\n    }\n\n    .dataframe tbody tr th {\n        vertical-align: top;\n    }\n\n    .dataframe thead th {\n        text-align: right;\n    }\n</style>\n<table border=\"1\" class=\"dataframe\">\n  <thead>\n    <tr style=\"text-align: right;\">\n      <th></th>\n      <th>ORBIT_CNT</th>\n      <th>EVENT</th>\n      <th>LAYER</th>\n      <th>X</th>\n      <th>CENTER</th>\n      <th>XL</th>\n      <th>XR</th>\n      <th>Y</th>\n    </tr>\n  </thead>\n  <tbody>\n    <tr>\n      <th>3</th>\n      <td>1897417007</td>\n      <td>1.0</td>\n      <td>3.0</td>\n      <td>5.788462</td>\n      <td>7.0</td>\n      <td>141.211538</td>\n      <td>152.788462</td>\n      <td>32.5</td>\n    </tr>\n  </tbody>\n</table>\n</div>"
     },
     "metadata": {}
    },
    {
     "output_type": "display_data",
     "data": {
      "text/plain": "    ORBIT_CNT  EVENT  LAYER          X  CENTER          XL          XR     Y\n4  1897417267    1.0    4.0  16.288462    14.0  277.711538  310.288462  45.5",
      "text/html": "<div>\n<style scoped>\n    .dataframe tbody tr th:only-of-type {\n        vertical-align: middle;\n    }\n\n    .dataframe tbody tr th {\n        vertical-align: top;\n    }\n\n    .dataframe thead th {\n        text-align: right;\n    }\n</style>\n<table border=\"1\" class=\"dataframe\">\n  <thead>\n    <tr style=\"text-align: right;\">\n      <th></th>\n      <th>ORBIT_CNT</th>\n      <th>EVENT</th>\n      <th>LAYER</th>\n      <th>X</th>\n      <th>CENTER</th>\n      <th>XL</th>\n      <th>XR</th>\n      <th>Y</th>\n    </tr>\n  </thead>\n  <tbody>\n    <tr>\n      <th>4</th>\n      <td>1897417267</td>\n      <td>1.0</td>\n      <td>4.0</td>\n      <td>16.288462</td>\n      <td>14.0</td>\n      <td>277.711538</td>\n      <td>310.288462</td>\n      <td>45.5</td>\n    </tr>\n  </tbody>\n</table>\n</div>"
     },
     "metadata": {}
    },
    {
     "output_type": "display_data",
     "data": {
      "text/plain": "    ORBIT_CNT  EVENT  LAYER          X  CENTER          XL          XR    Y\n5  1897417267    1.0    1.0  13.012821    13.0  259.987179  286.012821  6.5",
      "text/html": "<div>\n<style scoped>\n    .dataframe tbody tr th:only-of-type {\n        vertical-align: middle;\n    }\n\n    .dataframe tbody tr th {\n        vertical-align: top;\n    }\n\n    .dataframe thead th {\n        text-align: right;\n    }\n</style>\n<table border=\"1\" class=\"dataframe\">\n  <thead>\n    <tr style=\"text-align: right;\">\n      <th></th>\n      <th>ORBIT_CNT</th>\n      <th>EVENT</th>\n      <th>LAYER</th>\n      <th>X</th>\n      <th>CENTER</th>\n      <th>XL</th>\n      <th>XR</th>\n      <th>Y</th>\n    </tr>\n  </thead>\n  <tbody>\n    <tr>\n      <th>5</th>\n      <td>1897417267</td>\n      <td>1.0</td>\n      <td>1.0</td>\n      <td>13.012821</td>\n      <td>13.0</td>\n      <td>259.987179</td>\n      <td>286.012821</td>\n      <td>6.5</td>\n    </tr>\n  </tbody>\n</table>\n</div>"
     },
     "metadata": {}
    },
    {
     "output_type": "display_data",
     "data": {
      "text/plain": "    ORBIT_CNT  EVENT  LAYER         X  CENTER          XL          XR     Y\n6  1897417267    1.0    2.0  6.641026    14.0  287.358974  300.641026  19.5",
      "text/html": "<div>\n<style scoped>\n    .dataframe tbody tr th:only-of-type {\n        vertical-align: middle;\n    }\n\n    .dataframe tbody tr th {\n        vertical-align: top;\n    }\n\n    .dataframe thead th {\n        text-align: right;\n    }\n</style>\n<table border=\"1\" class=\"dataframe\">\n  <thead>\n    <tr style=\"text-align: right;\">\n      <th></th>\n      <th>ORBIT_CNT</th>\n      <th>EVENT</th>\n      <th>LAYER</th>\n      <th>X</th>\n      <th>CENTER</th>\n      <th>XL</th>\n      <th>XR</th>\n      <th>Y</th>\n    </tr>\n  </thead>\n  <tbody>\n    <tr>\n      <th>6</th>\n      <td>1897417267</td>\n      <td>1.0</td>\n      <td>2.0</td>\n      <td>6.641026</td>\n      <td>14.0</td>\n      <td>287.358974</td>\n      <td>300.641026</td>\n      <td>19.5</td>\n    </tr>\n  </tbody>\n</table>\n</div>"
     },
     "metadata": {}
    },
    {
     "output_type": "display_data",
     "data": {
      "text/plain": "    ORBIT_CNT  EVENT  LAYER         X  CENTER          XL          XR     Y\n7  1897417267    1.0    3.0  1.884615    13.0  271.115385  274.884615  32.5",
      "text/html": "<div>\n<style scoped>\n    .dataframe tbody tr th:only-of-type {\n        vertical-align: middle;\n    }\n\n    .dataframe tbody tr th {\n        vertical-align: top;\n    }\n\n    .dataframe thead th {\n        text-align: right;\n    }\n</style>\n<table border=\"1\" class=\"dataframe\">\n  <thead>\n    <tr style=\"text-align: right;\">\n      <th></th>\n      <th>ORBIT_CNT</th>\n      <th>EVENT</th>\n      <th>LAYER</th>\n      <th>X</th>\n      <th>CENTER</th>\n      <th>XL</th>\n      <th>XR</th>\n      <th>Y</th>\n    </tr>\n  </thead>\n  <tbody>\n    <tr>\n      <th>7</th>\n      <td>1897417267</td>\n      <td>1.0</td>\n      <td>3.0</td>\n      <td>1.884615</td>\n      <td>13.0</td>\n      <td>271.115385</td>\n      <td>274.884615</td>\n      <td>32.5</td>\n    </tr>\n  </tbody>\n</table>\n</div>"
     },
     "metadata": {}
    },
    {
     "output_type": "display_data",
     "data": {
      "text/plain": "    ORBIT_CNT  EVENT  LAYER          X  CENTER          XL          XR     Y\n8  1897417422    1.0    4.0  18.487179     6.0  107.512821  144.487179  45.5",
      "text/html": "<div>\n<style scoped>\n    .dataframe tbody tr th:only-of-type {\n        vertical-align: middle;\n    }\n\n    .dataframe tbody tr th {\n        vertical-align: top;\n    }\n\n    .dataframe thead th {\n        text-align: right;\n    }\n</style>\n<table border=\"1\" class=\"dataframe\">\n  <thead>\n    <tr style=\"text-align: right;\">\n      <th></th>\n      <th>ORBIT_CNT</th>\n      <th>EVENT</th>\n      <th>LAYER</th>\n      <th>X</th>\n      <th>CENTER</th>\n      <th>XL</th>\n      <th>XR</th>\n      <th>Y</th>\n    </tr>\n  </thead>\n  <tbody>\n    <tr>\n      <th>8</th>\n      <td>1897417422</td>\n      <td>1.0</td>\n      <td>4.0</td>\n      <td>18.487179</td>\n      <td>6.0</td>\n      <td>107.512821</td>\n      <td>144.487179</td>\n      <td>45.5</td>\n    </tr>\n  </tbody>\n</table>\n</div>"
     },
     "metadata": {}
    },
    {
     "output_type": "display_data",
     "data": {
      "text/plain": "    ORBIT_CNT  EVENT  LAYER          X  CENTER          XL          XR     Y\n9  1897417422    1.0    2.0  17.096154     6.0  108.903846  143.096154  19.5",
      "text/html": "<div>\n<style scoped>\n    .dataframe tbody tr th:only-of-type {\n        vertical-align: middle;\n    }\n\n    .dataframe tbody tr th {\n        vertical-align: top;\n    }\n\n    .dataframe thead th {\n        text-align: right;\n    }\n</style>\n<table border=\"1\" class=\"dataframe\">\n  <thead>\n    <tr style=\"text-align: right;\">\n      <th></th>\n      <th>ORBIT_CNT</th>\n      <th>EVENT</th>\n      <th>LAYER</th>\n      <th>X</th>\n      <th>CENTER</th>\n      <th>XL</th>\n      <th>XR</th>\n      <th>Y</th>\n    </tr>\n  </thead>\n  <tbody>\n    <tr>\n      <th>9</th>\n      <td>1897417422</td>\n      <td>1.0</td>\n      <td>2.0</td>\n      <td>17.096154</td>\n      <td>6.0</td>\n      <td>108.903846</td>\n      <td>143.096154</td>\n      <td>19.5</td>\n    </tr>\n  </tbody>\n</table>\n</div>"
     },
     "metadata": {}
    }
   ],
   "source": [
    "for index,subframe in df[:10].groupby(df[:10].index) :\n",
    "    display(subframe)"
   ]
  },
  {
   "cell_type": "code",
   "execution_count": 78,
   "metadata": {},
   "outputs": [
    {
     "output_type": "display_data",
     "data": {
      "text/plain": "   index   ORBIT_CNT  EVENT  LAYER          X  CENTER          XL          XR  \\\n0      0  1897417007    1.0    4.0  11.038462     8.0  156.961538  179.038462   \n1      1  1897417007    1.0    2.0   4.980769     8.0  163.019231  172.980769   \n2      2  1897417007    1.0    1.0   1.929487     7.0  145.070513  148.929487   \n3      3  1897417007    1.0    3.0   5.788462     7.0  141.211538  152.788462   \n\n      Y  \n0  45.5  \n1  19.5  \n2   6.5  \n3  32.5  ",
      "text/html": "<div>\n<style scoped>\n    .dataframe tbody tr th:only-of-type {\n        vertical-align: middle;\n    }\n\n    .dataframe tbody tr th {\n        vertical-align: top;\n    }\n\n    .dataframe thead th {\n        text-align: right;\n    }\n</style>\n<table border=\"1\" class=\"dataframe\">\n  <thead>\n    <tr style=\"text-align: right;\">\n      <th></th>\n      <th>index</th>\n      <th>ORBIT_CNT</th>\n      <th>EVENT</th>\n      <th>LAYER</th>\n      <th>X</th>\n      <th>CENTER</th>\n      <th>XL</th>\n      <th>XR</th>\n      <th>Y</th>\n    </tr>\n  </thead>\n  <tbody>\n    <tr>\n      <th>0</th>\n      <td>0</td>\n      <td>1897417007</td>\n      <td>1.0</td>\n      <td>4.0</td>\n      <td>11.038462</td>\n      <td>8.0</td>\n      <td>156.961538</td>\n      <td>179.038462</td>\n      <td>45.5</td>\n    </tr>\n    <tr>\n      <th>1</th>\n      <td>1</td>\n      <td>1897417007</td>\n      <td>1.0</td>\n      <td>2.0</td>\n      <td>4.980769</td>\n      <td>8.0</td>\n      <td>163.019231</td>\n      <td>172.980769</td>\n      <td>19.5</td>\n    </tr>\n    <tr>\n      <th>2</th>\n      <td>2</td>\n      <td>1897417007</td>\n      <td>1.0</td>\n      <td>1.0</td>\n      <td>1.929487</td>\n      <td>7.0</td>\n      <td>145.070513</td>\n      <td>148.929487</td>\n      <td>6.5</td>\n    </tr>\n    <tr>\n      <th>3</th>\n      <td>3</td>\n      <td>1897417007</td>\n      <td>1.0</td>\n      <td>3.0</td>\n      <td>5.788462</td>\n      <td>7.0</td>\n      <td>141.211538</td>\n      <td>152.788462</td>\n      <td>32.5</td>\n    </tr>\n  </tbody>\n</table>\n</div>"
     },
     "metadata": {}
    },
    {
     "output_type": "display_data",
     "data": {
      "text/plain": "   index   ORBIT_CNT  EVENT  LAYER          X  CENTER          XL          XR  \\\n4      4  1897417267    1.0    4.0  16.288462    14.0  277.711538  310.288462   \n5      5  1897417267    1.0    1.0  13.012821    13.0  259.987179  286.012821   \n6      6  1897417267    1.0    2.0   6.641026    14.0  287.358974  300.641026   \n7      7  1897417267    1.0    3.0   1.884615    13.0  271.115385  274.884615   \n\n      Y  \n4  45.5  \n5   6.5  \n6  19.5  \n7  32.5  ",
      "text/html": "<div>\n<style scoped>\n    .dataframe tbody tr th:only-of-type {\n        vertical-align: middle;\n    }\n\n    .dataframe tbody tr th {\n        vertical-align: top;\n    }\n\n    .dataframe thead th {\n        text-align: right;\n    }\n</style>\n<table border=\"1\" class=\"dataframe\">\n  <thead>\n    <tr style=\"text-align: right;\">\n      <th></th>\n      <th>index</th>\n      <th>ORBIT_CNT</th>\n      <th>EVENT</th>\n      <th>LAYER</th>\n      <th>X</th>\n      <th>CENTER</th>\n      <th>XL</th>\n      <th>XR</th>\n      <th>Y</th>\n    </tr>\n  </thead>\n  <tbody>\n    <tr>\n      <th>4</th>\n      <td>4</td>\n      <td>1897417267</td>\n      <td>1.0</td>\n      <td>4.0</td>\n      <td>16.288462</td>\n      <td>14.0</td>\n      <td>277.711538</td>\n      <td>310.288462</td>\n      <td>45.5</td>\n    </tr>\n    <tr>\n      <th>5</th>\n      <td>5</td>\n      <td>1897417267</td>\n      <td>1.0</td>\n      <td>1.0</td>\n      <td>13.012821</td>\n      <td>13.0</td>\n      <td>259.987179</td>\n      <td>286.012821</td>\n      <td>6.5</td>\n    </tr>\n    <tr>\n      <th>6</th>\n      <td>6</td>\n      <td>1897417267</td>\n      <td>1.0</td>\n      <td>2.0</td>\n      <td>6.641026</td>\n      <td>14.0</td>\n      <td>287.358974</td>\n      <td>300.641026</td>\n      <td>19.5</td>\n    </tr>\n    <tr>\n      <th>7</th>\n      <td>7</td>\n      <td>1897417267</td>\n      <td>1.0</td>\n      <td>3.0</td>\n      <td>1.884615</td>\n      <td>13.0</td>\n      <td>271.115385</td>\n      <td>274.884615</td>\n      <td>32.5</td>\n    </tr>\n  </tbody>\n</table>\n</div>"
     },
     "metadata": {}
    },
    {
     "output_type": "display_data",
     "data": {
      "text/plain": "   index   ORBIT_CNT  EVENT  LAYER          X  CENTER          XL          XR  \\\n8      8  1897417422    1.0    4.0  18.487179     6.0  107.512821  144.487179   \n9      9  1897417422    1.0    2.0  17.096154     6.0  108.903846  143.096154   \n\n      Y  \n8  45.5  \n9  19.5  ",
      "text/html": "<div>\n<style scoped>\n    .dataframe tbody tr th:only-of-type {\n        vertical-align: middle;\n    }\n\n    .dataframe tbody tr th {\n        vertical-align: top;\n    }\n\n    .dataframe thead th {\n        text-align: right;\n    }\n</style>\n<table border=\"1\" class=\"dataframe\">\n  <thead>\n    <tr style=\"text-align: right;\">\n      <th></th>\n      <th>index</th>\n      <th>ORBIT_CNT</th>\n      <th>EVENT</th>\n      <th>LAYER</th>\n      <th>X</th>\n      <th>CENTER</th>\n      <th>XL</th>\n      <th>XR</th>\n      <th>Y</th>\n    </tr>\n  </thead>\n  <tbody>\n    <tr>\n      <th>8</th>\n      <td>8</td>\n      <td>1897417422</td>\n      <td>1.0</td>\n      <td>4.0</td>\n      <td>18.487179</td>\n      <td>6.0</td>\n      <td>107.512821</td>\n      <td>144.487179</td>\n      <td>45.5</td>\n    </tr>\n    <tr>\n      <th>9</th>\n      <td>9</td>\n      <td>1897417422</td>\n      <td>1.0</td>\n      <td>2.0</td>\n      <td>17.096154</td>\n      <td>6.0</td>\n      <td>108.903846</td>\n      <td>143.096154</td>\n      <td>19.5</td>\n    </tr>\n  </tbody>\n</table>\n</div>"
     },
     "metadata": {}
    }
   ],
   "source": [
    "for index,subframe in df.reset_index()[:10].groupby([\"ORBIT_CNT\",\"EVENT\"],group_keys=False) :\n",
    "    display(subframe)"
   ]
  }
 ]
}