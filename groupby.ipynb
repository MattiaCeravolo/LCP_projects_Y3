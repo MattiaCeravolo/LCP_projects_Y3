{
 "metadata": {
  "language_info": {
   "codemirror_mode": {
    "name": "ipython",
    "version": 3
   },
   "file_extension": ".py",
   "mimetype": "text/x-python",
   "name": "python",
   "nbconvert_exporter": "python",
   "pygments_lexer": "ipython3",
   "version": "3.8.6-final"
  },
  "orig_nbformat": 2,
  "kernelspec": {
   "name": "python3",
   "display_name": "Python 3",
   "language": "python"
  }
 },
 "nbformat": 4,
 "nbformat_minor": 2,
 "cells": [
  {
   "source": [
    "### Prova con due groupby "
   ],
   "cell_type": "markdown",
   "metadata": {}
  },
  {
   "cell_type": "code",
   "execution_count": 1,
   "metadata": {},
   "outputs": [],
   "source": [
    "import pandas as pd\n",
    "import numpy as np\n",
    "import timeit as t\n",
    "import matplotlib.pyplot as plt\n",
    "import matplotlib.patches as patches\n",
    "from scipy import optimize"
   ]
  },
  {
   "cell_type": "code",
   "execution_count": 2,
   "metadata": {},
   "outputs": [
    {
     "output_type": "execute_result",
     "data": {
      "text/plain": [
       "         TDC_CHANNEL   ORBIT_CNT  BX_COUNTER  TDC_MEAS          TIME  \\\n",
       "0                116  1897414884      1533.0      24.0  38345.000000   \n",
       "1                 71  1897414887      1650.0      21.0  41267.500000   \n",
       "2                 67  1897414914       980.0       8.0  24506.666667   \n",
       "3                 70  1897414922      1287.0       8.0  32181.666667   \n",
       "4                 57  1897414922      2162.0      22.0  54068.333333   \n",
       "...              ...         ...         ...       ...           ...   \n",
       "1292121          139  1920940255      2514.0       0.0  62850.000000   \n",
       "1292122           35  1920940255      2512.0      16.0  62813.333333   \n",
       "1292123           37  1920940255      2513.0       5.0  62829.166667   \n",
       "1292124          105  1920940255      2510.0      17.0  62764.166667   \n",
       "1292125           36         192         NaN       NaN           NaN   \n",
       "\n",
       "         DETECTOR  LAYER  \n",
       "0             4.0      1  \n",
       "1             4.0      3  \n",
       "2             4.0      3  \n",
       "3             4.0      2  \n",
       "4             1.0      4  \n",
       "...           ...    ...  \n",
       "1292121       0.0      0  \n",
       "1292122       3.0      3  \n",
       "1292123       3.0      4  \n",
       "1292124       4.0      4  \n",
       "1292125       3.0      1  \n",
       "\n",
       "[1292126 rows x 7 columns]"
      ],
      "text/html": "<div>\n<style scoped>\n    .dataframe tbody tr th:only-of-type {\n        vertical-align: middle;\n    }\n\n    .dataframe tbody tr th {\n        vertical-align: top;\n    }\n\n    .dataframe thead th {\n        text-align: right;\n    }\n</style>\n<table border=\"1\" class=\"dataframe\">\n  <thead>\n    <tr style=\"text-align: right;\">\n      <th></th>\n      <th>TDC_CHANNEL</th>\n      <th>ORBIT_CNT</th>\n      <th>BX_COUNTER</th>\n      <th>TDC_MEAS</th>\n      <th>TIME</th>\n      <th>DETECTOR</th>\n      <th>LAYER</th>\n    </tr>\n  </thead>\n  <tbody>\n    <tr>\n      <th>0</th>\n      <td>116</td>\n      <td>1897414884</td>\n      <td>1533.0</td>\n      <td>24.0</td>\n      <td>38345.000000</td>\n      <td>4.0</td>\n      <td>1</td>\n    </tr>\n    <tr>\n      <th>1</th>\n      <td>71</td>\n      <td>1897414887</td>\n      <td>1650.0</td>\n      <td>21.0</td>\n      <td>41267.500000</td>\n      <td>4.0</td>\n      <td>3</td>\n    </tr>\n    <tr>\n      <th>2</th>\n      <td>67</td>\n      <td>1897414914</td>\n      <td>980.0</td>\n      <td>8.0</td>\n      <td>24506.666667</td>\n      <td>4.0</td>\n      <td>3</td>\n    </tr>\n    <tr>\n      <th>3</th>\n      <td>70</td>\n      <td>1897414922</td>\n      <td>1287.0</td>\n      <td>8.0</td>\n      <td>32181.666667</td>\n      <td>4.0</td>\n      <td>2</td>\n    </tr>\n    <tr>\n      <th>4</th>\n      <td>57</td>\n      <td>1897414922</td>\n      <td>2162.0</td>\n      <td>22.0</td>\n      <td>54068.333333</td>\n      <td>1.0</td>\n      <td>4</td>\n    </tr>\n    <tr>\n      <th>...</th>\n      <td>...</td>\n      <td>...</td>\n      <td>...</td>\n      <td>...</td>\n      <td>...</td>\n      <td>...</td>\n      <td>...</td>\n    </tr>\n    <tr>\n      <th>1292121</th>\n      <td>139</td>\n      <td>1920940255</td>\n      <td>2514.0</td>\n      <td>0.0</td>\n      <td>62850.000000</td>\n      <td>0.0</td>\n      <td>0</td>\n    </tr>\n    <tr>\n      <th>1292122</th>\n      <td>35</td>\n      <td>1920940255</td>\n      <td>2512.0</td>\n      <td>16.0</td>\n      <td>62813.333333</td>\n      <td>3.0</td>\n      <td>3</td>\n    </tr>\n    <tr>\n      <th>1292123</th>\n      <td>37</td>\n      <td>1920940255</td>\n      <td>2513.0</td>\n      <td>5.0</td>\n      <td>62829.166667</td>\n      <td>3.0</td>\n      <td>4</td>\n    </tr>\n    <tr>\n      <th>1292124</th>\n      <td>105</td>\n      <td>1920940255</td>\n      <td>2510.0</td>\n      <td>17.0</td>\n      <td>62764.166667</td>\n      <td>4.0</td>\n      <td>4</td>\n    </tr>\n    <tr>\n      <th>1292125</th>\n      <td>36</td>\n      <td>192</td>\n      <td>NaN</td>\n      <td>NaN</td>\n      <td>NaN</td>\n      <td>3.0</td>\n      <td>1</td>\n    </tr>\n  </tbody>\n</table>\n<p>1292126 rows × 7 columns</p>\n</div>"
     },
     "metadata": {},
     "execution_count": 2
    }
   ],
   "source": [
    "dataset=pd.read_csv(\"data_000000.txt\")\n",
    "dataset['TIME']=dataset['BX_COUNTER']*25 + dataset['TDC_MEAS']*25/30 \n",
    "fpga=dataset['FPGA']==1 \n",
    "channel=(dataset['TDC_CHANNEL']>64)&(dataset['TDC_CHANNEL']<=128) \n",
    "trigger=dataset['TDC_CHANNEL'] == 139 \n",
    "\n",
    "detectors=[~fpga&~channel,~fpga&channel,fpga&~channel,fpga&channel] \n",
    "for i in range(len(detectors)) : \n",
    "    dataset.loc[detectors[i],'DETECTOR']=i+1 \n",
    "dataset.loc[trigger,'DETECTOR']=0 \n",
    "rest = dataset['TDC_CHANNEL']%4 \n",
    "dic_replace = {0:1, 2:2, 3:3, 1:4}\n",
    "dataset['LAYER']= rest\n",
    "dataset['LAYER'].replace(dic_replace, inplace=True)\n",
    "dataset.loc[trigger,'LAYER']=0 \n",
    "dataset = dataset.drop(['HEAD','FPGA'],axis=1) \n",
    "dataset"
   ]
  },
  {
   "cell_type": "code",
   "execution_count": 3,
   "metadata": {},
   "outputs": [
    {
     "output_type": "execute_result",
     "data": {
      "text/plain": [
       "False"
      ]
     },
     "metadata": {},
     "execution_count": 3
    }
   ],
   "source": [
    "dataset['TDC_CHANNEL'].any()==137 and dataset['TDC_CHANNEL'].any()==138\n",
    "# sono stati eliminati tutti i trigger associati agli scintillatori"
   ]
  },
  {
   "cell_type": "code",
   "execution_count": 4,
   "metadata": {},
   "outputs": [
    {
     "output_type": "execute_result",
     "data": {
      "text/plain": [
       "{192: [1292125], 1897414884: [0], 1897414887: [1], 1897414914: [2], 1897414922: [3, 4], 1897414934: [5, 6, 7, 8, 9, 10, 11], 1897414940: [12], 1897414952: [13], 1897414956: [14], 1897414964: [15], 1897414976: [16, 17], 1897414996: [18, 19], 1897415018: [20], 1897415055: [21], 1897415058: [22, 23], 1897415068: [24, 25, 26], 1897415077: [27], 1897415080: [28], 1897415082: [29], 1897415091: [30], 1897415099: [31, 32], 1897415110: [33, 34], 1897415118: [35], 1897415128: [36, 37], 1897415130: [38], 1897415131: [39], 1897415134: [40], 1897415137: [41], 1897415144: [42], 1897415145: [43], 1897415150: [44], 1897415154: [45], 1897415157: [46], 1897415160: [47], 1897415171: [48], 1897415176: [49], 1897415182: [50], 1897415194: [51], 1897415199: [52], 1897415202: [53], 1897415204: [54], 1897415207: [55, 56], 1897415227: [57], 1897415240: [58], 1897415247: [59], 1897415251: [60], 1897415254: [61, 62], 1897415269: [63], 1897415290: [64], 1897415293: [65], 1897415294: [66], 1897415295: [67], 1897415300: [68, 69], 1897415301: [70, 71, 72, 73, 74], 1897415351: [75], 1897415364: [76, 77, 78], 1897415373: [79], 1897415389: [80], 1897415394: [81], 1897415395: [82], 1897415399: [83], 1897415418: [84], 1897415425: [85, 86, 87, 88, 89], 1897415435: [90, 91], 1897415463: [92, 93], 1897415466: [94, 95], 1897415472: [96], 1897415475: [97, 98, 99], 1897415482: [100, 101], 1897415493: [102, 103], 1897415496: [104], 1897415504: [105, 106], 1897415508: [107], 1897415520: [108, 109, 110], 1897415524: [111], 1897415544: [112, 113, 114, 115, 116], 1897415554: [117], 1897415558: [118], 1897415560: [119], 1897415569: [120], 1897415572: [121], 1897415578: [122, 123], 1897415582: [124], 1897415589: [125], 1897415610: [126], 1897415613: [127], 1897415615: [128], 1897415620: [129], 1897415629: [130], 1897415638: [131], 1897415642: [132], 1897415667: [133, 134, 135, 136, 137], 1897415674: [138, 139, 140, 141, 142, 143], 1897415675: [144], 1897415676: [145], 1897415682: [146, 147], 1897415683: [148], 1897415684: [149], 1897415692: [150], 1897415702: [151], ...}"
      ]
     },
     "metadata": {},
     "execution_count": 4
    }
   ],
   "source": [
    "dataset.groupby(['ORBIT_CNT']).groups"
   ]
  },
  {
   "cell_type": "code",
   "execution_count": 27,
   "metadata": {},
   "outputs": [
    {
     "output_type": "execute_result",
     "data": {
      "text/plain": [
       "         TDC_CHANNEL   ORBIT_CNT  BX_COUNTER  TDC_MEAS          TIME  \\\n",
       "1292117          102  1920940255      2510.0      22.0  62768.333333   \n",
       "1292119          106  1920940255      2507.0      24.0  62695.000000   \n",
       "1292120          101  1920940255      2510.0      14.0  62761.666667   \n",
       "1292124          105  1920940255      2510.0      17.0  62764.166667   \n",
       "\n",
       "         DETECTOR  LAYER  \n",
       "1292117       4.0      2  \n",
       "1292119       4.0      2  \n",
       "1292120       4.0      4  \n",
       "1292124       4.0      4  "
      ],
      "text/html": "<div>\n<style scoped>\n    .dataframe tbody tr th:only-of-type {\n        vertical-align: middle;\n    }\n\n    .dataframe tbody tr th {\n        vertical-align: top;\n    }\n\n    .dataframe thead th {\n        text-align: right;\n    }\n</style>\n<table border=\"1\" class=\"dataframe\">\n  <thead>\n    <tr style=\"text-align: right;\">\n      <th></th>\n      <th>TDC_CHANNEL</th>\n      <th>ORBIT_CNT</th>\n      <th>BX_COUNTER</th>\n      <th>TDC_MEAS</th>\n      <th>TIME</th>\n      <th>DETECTOR</th>\n      <th>LAYER</th>\n    </tr>\n  </thead>\n  <tbody>\n    <tr>\n      <th>1292117</th>\n      <td>102</td>\n      <td>1920940255</td>\n      <td>2510.0</td>\n      <td>22.0</td>\n      <td>62768.333333</td>\n      <td>4.0</td>\n      <td>2</td>\n    </tr>\n    <tr>\n      <th>1292119</th>\n      <td>106</td>\n      <td>1920940255</td>\n      <td>2507.0</td>\n      <td>24.0</td>\n      <td>62695.000000</td>\n      <td>4.0</td>\n      <td>2</td>\n    </tr>\n    <tr>\n      <th>1292120</th>\n      <td>101</td>\n      <td>1920940255</td>\n      <td>2510.0</td>\n      <td>14.0</td>\n      <td>62761.666667</td>\n      <td>4.0</td>\n      <td>4</td>\n    </tr>\n    <tr>\n      <th>1292124</th>\n      <td>105</td>\n      <td>1920940255</td>\n      <td>2510.0</td>\n      <td>17.0</td>\n      <td>62764.166667</td>\n      <td>4.0</td>\n      <td>4</td>\n    </tr>\n  </tbody>\n</table>\n</div>"
     },
     "metadata": {},
     "execution_count": 27
    }
   ],
   "source": [
    "#dataset.groupby(['ORBIT_CNT']).get_group('1897414934') #è lentissimo\n",
    "prova = dataset.loc[dataset.groupby(['ORBIT_CNT']).groups.get(1920940255)] # questo ha detector diversi, vediamo di selezionare soltanto quelli che compaiono più volte\n",
    "prova = prova.drop(prova[prova['DETECTOR']==0].index)  \n",
    "indici = prova[prova['DETECTOR']!=(prova.DETECTOR.mode().values)[0]].index\n",
    "prova = prova.drop(indici)\n",
    "prova"
   ]
  },
  {
   "cell_type": "code",
   "execution_count": 30,
   "metadata": {},
   "outputs": [],
   "source": [
    "# DECIDO DI FARE UN GROUPBY PER ORBITE VISTA LA RARITA' DEL PASSAGGIO DI PARTICELLE \n",
    "# elimino gruppi di orbite con meno di tre hits \n",
    "# un'altra cosa prima\n",
    "# def clean(group):\n",
    "#     group1=group.drop(group[group['DETECTOR']==0].index)     \n",
    "#     detector=group1.DETECTOR.mode().values \n",
    "#     indices=group1[group1['DETECTOR']!=detector[0]].index \n",
    "#     group=group.drop(indices) \n",
    "#     return group\n",
    "# filtered1=dataset.groupby(['ORBIT_CNT'],group_keys=False)\\\n",
    "#                     .apply(clean)\\\n",
    "#                     .dropna()\\\n",
    "#                     .reset_index()\\\n",
    "#                     .drop(['index'],axis=1)\n",
    "def cut(group):\n",
    "    if group.shape[0]>2: return group\n",
    "    else: return None                         \n",
    "filtered1=dataset.groupby(['ORBIT_CNT'],group_keys=False)\\\n",
    "                    .apply(cut)\\\n",
    "                    .dropna()\\\n",
    "                    .reset_index()\\\n",
    "                    .drop(['index'],axis=1)\n",
    "# elimino i gruppi di orbite prima senza trigger activation e poi con più di una trigger activation, motivo per il quale non mi aspetto più detector dentro uno stesso evento               \n",
    "def trigger(group):\n",
    "    if (group['DETECTOR']!=0).all(): return None\n",
    "    else: return group                                    \n",
    "filtered2=filtered1.groupby(['ORBIT_CNT'],group_keys=False)\\\n",
    "                    .apply(trigger)\\\n",
    "                    .dropna()\\\n",
    "                    .reset_index()\\\n",
    "                    .drop(['index'],axis=1)\n",
    "\n",
    "def multiple_orbits(group):\n",
    "    if group[group['DETECTOR']==0].shape[0]>1: return None\n",
    "    else: return group                                     \n",
    "filtered3=filtered2.groupby(['ORBIT_CNT'],group_keys=False)\\\n",
    "                    .apply(multiple_orbits)\\\n",
    "                    .dropna()\\\n",
    "                    .reset_index()\\\n",
    "                    .drop(['index'],axis=1)\n",
    "# analizzo gruppo per gruppo quanti detector compaiono e mantengo soltanto quelle hits associate al detector che compare il maggior numero di volte. Questo cut andrebbe fatto prima di quello in cui selezioniamo i gruppi con più di tre hits perchè se eliminiamo da un gruppo delle hits corrispondenti ad un detector in minoranza allora potrebbe capitare che il gruppo rimanente contenga meno di tre hits, perchè erano più di tre ma comprese quelle del detector eliminato!\n",
    "def clean(group):\n",
    "   #group1=group.drop(group[group['DETECTOR']==0].index)     \n",
    "   detector=group.DETECTOR.mode().values \n",
    "   indices=group[group1['DETECTOR']!=detector[0]].index \n",
    "   group=group.drop(indices) \n",
    "   return group\n",
    "filtered4=filtered3.groupby(['ORBIT_CNT'],group_keys=False)\\\n",
    "                   .apply(clean)\\\n",
    "                   .dropna()\\\n",
    "                   .reset_index()\\\n",
    "                   .drop(['index'],axis=1)"
   ]
  },
  {
   "cell_type": "code",
   "execution_count": 31,
   "metadata": {},
   "outputs": [
    {
     "output_type": "execute_result",
     "data": {
      "text/plain": [
       "(503050, 7)"
      ]
     },
     "metadata": {},
     "execution_count": 31
    }
   ],
   "source": [
    "filtered4.shape"
   ]
  },
  {
   "cell_type": "code",
   "execution_count": 32,
   "metadata": {},
   "outputs": [],
   "source": [
    "filtered5 = filtered4.groupby(['ORBIT_CNT'],group_keys=False)\\\n",
    "                    .apply(cut)\\\n",
    "                    .dropna()\\\n",
    "                    .reset_index()\\\n",
    "                    .drop(['index'],axis=1)"
   ]
  },
  {
   "cell_type": "code",
   "execution_count": 33,
   "metadata": {},
   "outputs": [
    {
     "output_type": "execute_result",
     "data": {
      "text/plain": [
       "(503044, 7)"
      ]
     },
     "metadata": {},
     "execution_count": 33
    }
   ],
   "source": [
    "filtered5.shape"
   ]
  },
  {
   "cell_type": "code",
   "execution_count": 36,
   "metadata": {},
   "outputs": [],
   "source": [
    "def clean1(group):\n",
    "   #group1=group.drop(group[group['DETECTOR']==0].index)     \n",
    "   detector=group.DETECTOR.mode().values \n",
    "   indices=group[group['DETECTOR']!=detector[0]].index \n",
    "   group=group.drop(indices) \n",
    "   return group\n",
    "ua = dataset.groupby(['ORBIT_CNT'],group_keys=False)\\\n",
    "                    .apply(clean1)\\\n",
    "                    .dropna()\\\n",
    "                    .reset_index()\\\n",
    "                    .drop(['index'],axis=1)\n",
    "# IL PROBLEMA DI APPLICARE PRIMA CLEAN STA PROPRIO NELLA FUNZIONE PERCHE' CI SONO AD ESEMPIO EVENTI CHE CONTENGONO SOLTANTO L'ATTIVAZIONE DI TRIGGER E QUINDI APPENA LA ELIMINO NASCE UN PROBLEMA ALLORA: CAMBIO FUNZIONE CLEAN IN MODO CHE IN OGNI GRUPPO CI SIA SEMPRE ALMENO UNA HIT E QUINDI UN DETECTOR DA SCEGLIERE COME PREFERITO. (HO SOLTANTO ELIMINATO LA RIGA CON IL DROP DEI TRIGGER NELLA FUNZIONE CLEAN DI PARTENZA)\n"
   ]
  },
  {
   "cell_type": "code",
   "execution_count": 38,
   "metadata": {},
   "outputs": [],
   "source": [
    "ua1 = ua.groupby(['ORBIT_CNT'],group_keys=False)\\\n",
    "                    .apply(cut)\\\n",
    "                    .dropna()\\\n",
    "                    .reset_index()\\\n",
    "                    .drop(['index'],axis=1)"
   ]
  },
  {
   "cell_type": "code",
   "execution_count": 39,
   "metadata": {},
   "outputs": [
    {
     "output_type": "execute_result",
     "data": {
      "text/plain": [
       "(533413, 7)"
      ]
     },
     "metadata": {},
     "execution_count": 39
    }
   ],
   "source": [
    "ua1.shape"
   ]
  },
  {
   "cell_type": "code",
   "execution_count": 41,
   "metadata": {},
   "outputs": [
    {
     "output_type": "execute_result",
     "data": {
      "text/plain": [
       "        TDC_CHANNEL     ORBIT_CNT  BX_COUNTER  TDC_MEAS          TIME  \\\n",
       "533409        102.0  1.920940e+09      2510.0      22.0  62768.333333   \n",
       "533410        106.0  1.920940e+09      2507.0      24.0  62695.000000   \n",
       "533411        101.0  1.920940e+09      2510.0      14.0  62761.666667   \n",
       "533412        105.0  1.920940e+09      2510.0      17.0  62764.166667   \n",
       "\n",
       "        DETECTOR  LAYER  \n",
       "533409       4.0    2.0  \n",
       "533410       4.0    2.0  \n",
       "533411       4.0    4.0  \n",
       "533412       4.0    4.0  "
      ],
      "text/html": "<div>\n<style scoped>\n    .dataframe tbody tr th:only-of-type {\n        vertical-align: middle;\n    }\n\n    .dataframe tbody tr th {\n        vertical-align: top;\n    }\n\n    .dataframe thead th {\n        text-align: right;\n    }\n</style>\n<table border=\"1\" class=\"dataframe\">\n  <thead>\n    <tr style=\"text-align: right;\">\n      <th></th>\n      <th>TDC_CHANNEL</th>\n      <th>ORBIT_CNT</th>\n      <th>BX_COUNTER</th>\n      <th>TDC_MEAS</th>\n      <th>TIME</th>\n      <th>DETECTOR</th>\n      <th>LAYER</th>\n    </tr>\n  </thead>\n  <tbody>\n    <tr>\n      <th>533409</th>\n      <td>102.0</td>\n      <td>1.920940e+09</td>\n      <td>2510.0</td>\n      <td>22.0</td>\n      <td>62768.333333</td>\n      <td>4.0</td>\n      <td>2.0</td>\n    </tr>\n    <tr>\n      <th>533410</th>\n      <td>106.0</td>\n      <td>1.920940e+09</td>\n      <td>2507.0</td>\n      <td>24.0</td>\n      <td>62695.000000</td>\n      <td>4.0</td>\n      <td>2.0</td>\n    </tr>\n    <tr>\n      <th>533411</th>\n      <td>101.0</td>\n      <td>1.920940e+09</td>\n      <td>2510.0</td>\n      <td>14.0</td>\n      <td>62761.666667</td>\n      <td>4.0</td>\n      <td>4.0</td>\n    </tr>\n    <tr>\n      <th>533412</th>\n      <td>105.0</td>\n      <td>1.920940e+09</td>\n      <td>2510.0</td>\n      <td>17.0</td>\n      <td>62764.166667</td>\n      <td>4.0</td>\n      <td>4.0</td>\n    </tr>\n  </tbody>\n</table>\n</div>"
     },
     "metadata": {},
     "execution_count": 41
    }
   ],
   "source": [
    "ua1.loc[ua1.groupby(['ORBIT_CNT']).groups.get(1920940255)]"
   ]
  },
  {
   "cell_type": "code",
   "execution_count": null,
   "metadata": {},
   "outputs": [],
   "source": []
  }
 ]
}