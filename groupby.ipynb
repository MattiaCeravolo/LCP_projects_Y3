{
 "metadata": {
  "language_info": {
   "codemirror_mode": {
    "name": "ipython",
    "version": 3
   },
   "file_extension": ".py",
   "mimetype": "text/x-python",
   "name": "python",
   "nbconvert_exporter": "python",
   "pygments_lexer": "ipython3",
   "version": "3.8.6-final"
  },
  "orig_nbformat": 2,
  "kernelspec": {
   "name": "python3",
   "display_name": "Python 3",
   "language": "python"
  }
 },
 "nbformat": 4,
 "nbformat_minor": 2,
 "cells": [
  {
   "source": [
    "### Prova con due groupby "
   ],
   "cell_type": "markdown",
   "metadata": {}
  },
  {
   "cell_type": "code",
   "execution_count": 1,
   "metadata": {},
   "outputs": [],
   "source": [
    "import pandas as pd\n",
    "import numpy as np\n",
    "import timeit as t\n",
    "import matplotlib.pyplot as plt\n",
    "import matplotlib.patches as patches\n",
    "from scipy import optimize"
   ]
  },
  {
   "cell_type": "code",
   "execution_count": 2,
   "metadata": {},
   "outputs": [
    {
     "output_type": "execute_result",
     "data": {
      "text/plain": [
       "         TDC_CHANNEL   ORBIT_CNT  BX_COUNTER  TDC_MEAS          TIME  \\\n",
       "0                116  1897414884      1533.0      24.0  38345.000000   \n",
       "1                 71  1897414887      1650.0      21.0  41267.500000   \n",
       "2                 67  1897414914       980.0       8.0  24506.666667   \n",
       "3                 70  1897414922      1287.0       8.0  32181.666667   \n",
       "4                 57  1897414922      2162.0      22.0  54068.333333   \n",
       "...              ...         ...         ...       ...           ...   \n",
       "1292121          139  1920940255      2514.0       0.0  62850.000000   \n",
       "1292122           35  1920940255      2512.0      16.0  62813.333333   \n",
       "1292123           37  1920940255      2513.0       5.0  62829.166667   \n",
       "1292124          105  1920940255      2510.0      17.0  62764.166667   \n",
       "1292125           36         192         NaN       NaN           NaN   \n",
       "\n",
       "         DETECTOR  LAYER  \n",
       "0             4.0      1  \n",
       "1             4.0      3  \n",
       "2             4.0      3  \n",
       "3             4.0      2  \n",
       "4             1.0      4  \n",
       "...           ...    ...  \n",
       "1292121       0.0      0  \n",
       "1292122       3.0      3  \n",
       "1292123       3.0      4  \n",
       "1292124       4.0      4  \n",
       "1292125       3.0      1  \n",
       "\n",
       "[1292126 rows x 7 columns]"
      ],
      "text/html": "<div>\n<style scoped>\n    .dataframe tbody tr th:only-of-type {\n        vertical-align: middle;\n    }\n\n    .dataframe tbody tr th {\n        vertical-align: top;\n    }\n\n    .dataframe thead th {\n        text-align: right;\n    }\n</style>\n<table border=\"1\" class=\"dataframe\">\n  <thead>\n    <tr style=\"text-align: right;\">\n      <th></th>\n      <th>TDC_CHANNEL</th>\n      <th>ORBIT_CNT</th>\n      <th>BX_COUNTER</th>\n      <th>TDC_MEAS</th>\n      <th>TIME</th>\n      <th>DETECTOR</th>\n      <th>LAYER</th>\n    </tr>\n  </thead>\n  <tbody>\n    <tr>\n      <th>0</th>\n      <td>116</td>\n      <td>1897414884</td>\n      <td>1533.0</td>\n      <td>24.0</td>\n      <td>38345.000000</td>\n      <td>4.0</td>\n      <td>1</td>\n    </tr>\n    <tr>\n      <th>1</th>\n      <td>71</td>\n      <td>1897414887</td>\n      <td>1650.0</td>\n      <td>21.0</td>\n      <td>41267.500000</td>\n      <td>4.0</td>\n      <td>3</td>\n    </tr>\n    <tr>\n      <th>2</th>\n      <td>67</td>\n      <td>1897414914</td>\n      <td>980.0</td>\n      <td>8.0</td>\n      <td>24506.666667</td>\n      <td>4.0</td>\n      <td>3</td>\n    </tr>\n    <tr>\n      <th>3</th>\n      <td>70</td>\n      <td>1897414922</td>\n      <td>1287.0</td>\n      <td>8.0</td>\n      <td>32181.666667</td>\n      <td>4.0</td>\n      <td>2</td>\n    </tr>\n    <tr>\n      <th>4</th>\n      <td>57</td>\n      <td>1897414922</td>\n      <td>2162.0</td>\n      <td>22.0</td>\n      <td>54068.333333</td>\n      <td>1.0</td>\n      <td>4</td>\n    </tr>\n    <tr>\n      <th>...</th>\n      <td>...</td>\n      <td>...</td>\n      <td>...</td>\n      <td>...</td>\n      <td>...</td>\n      <td>...</td>\n      <td>...</td>\n    </tr>\n    <tr>\n      <th>1292121</th>\n      <td>139</td>\n      <td>1920940255</td>\n      <td>2514.0</td>\n      <td>0.0</td>\n      <td>62850.000000</td>\n      <td>0.0</td>\n      <td>0</td>\n    </tr>\n    <tr>\n      <th>1292122</th>\n      <td>35</td>\n      <td>1920940255</td>\n      <td>2512.0</td>\n      <td>16.0</td>\n      <td>62813.333333</td>\n      <td>3.0</td>\n      <td>3</td>\n    </tr>\n    <tr>\n      <th>1292123</th>\n      <td>37</td>\n      <td>1920940255</td>\n      <td>2513.0</td>\n      <td>5.0</td>\n      <td>62829.166667</td>\n      <td>3.0</td>\n      <td>4</td>\n    </tr>\n    <tr>\n      <th>1292124</th>\n      <td>105</td>\n      <td>1920940255</td>\n      <td>2510.0</td>\n      <td>17.0</td>\n      <td>62764.166667</td>\n      <td>4.0</td>\n      <td>4</td>\n    </tr>\n    <tr>\n      <th>1292125</th>\n      <td>36</td>\n      <td>192</td>\n      <td>NaN</td>\n      <td>NaN</td>\n      <td>NaN</td>\n      <td>3.0</td>\n      <td>1</td>\n    </tr>\n  </tbody>\n</table>\n<p>1292126 rows × 7 columns</p>\n</div>"
     },
     "metadata": {},
     "execution_count": 2
    }
   ],
   "source": [
    "dataset=pd.read_csv(\"data_000000.txt\")\n",
    "dataset['TIME']=dataset['BX_COUNTER']*25 + dataset['TDC_MEAS']*25/30 \n",
    "fpga=dataset['FPGA']==1 \n",
    "channel=(dataset['TDC_CHANNEL']>64)&(dataset['TDC_CHANNEL']<=128) \n",
    "trigger=dataset['TDC_CHANNEL'] == 139 \n",
    "\n",
    "detectors=[~fpga&~channel,~fpga&channel,fpga&~channel,fpga&channel] \n",
    "for i in range(len(detectors)) : \n",
    "    dataset.loc[detectors[i],'DETECTOR']=i+1 \n",
    "dataset.loc[trigger,'DETECTOR']=0 \n",
    "rest = dataset['TDC_CHANNEL']%4 \n",
    "dic_replace = {0:1, 2:2, 3:3, 1:4}\n",
    "dataset['LAYER']= rest\n",
    "dataset['LAYER'].replace(dic_replace, inplace=True)\n",
    "dataset.loc[trigger,'LAYER']=0 \n",
    "dataset = dataset.drop(['HEAD','FPGA'],axis=1) \n",
    "dataset"
   ]
  },
  {
   "cell_type": "code",
   "execution_count": 3,
   "metadata": {},
   "outputs": [
    {
     "output_type": "execute_result",
     "data": {
      "text/plain": [
       "False"
      ]
     },
     "metadata": {},
     "execution_count": 3
    }
   ],
   "source": [
    "dataset['TDC_CHANNEL'].any()==137 and dataset['TDC_CHANNEL'].any()==138\n",
    "# sono stati eliminati tutti i trigger associati agli scintillatori"
   ]
  },
  {
   "cell_type": "code",
   "execution_count": 4,
   "metadata": {},
   "outputs": [
    {
     "output_type": "execute_result",
     "data": {
      "text/plain": [
       "{192: [1292125], 1897414884: [0], 1897414887: [1], 1897414914: [2], 1897414922: [3, 4], 1897414934: [5, 6, 7, 8, 9, 10, 11], 1897414940: [12], 1897414952: [13], 1897414956: [14], 1897414964: [15], 1897414976: [16, 17], 1897414996: [18, 19], 1897415018: [20], 1897415055: [21], 1897415058: [22, 23], 1897415068: [24, 25, 26], 1897415077: [27], 1897415080: [28], 1897415082: [29], 1897415091: [30], 1897415099: [31, 32], 1897415110: [33, 34], 1897415118: [35], 1897415128: [36, 37], 1897415130: [38], 1897415131: [39], 1897415134: [40], 1897415137: [41], 1897415144: [42], 1897415145: [43], 1897415150: [44], 1897415154: [45], 1897415157: [46], 1897415160: [47], 1897415171: [48], 1897415176: [49], 1897415182: [50], 1897415194: [51], 1897415199: [52], 1897415202: [53], 1897415204: [54], 1897415207: [55, 56], 1897415227: [57], 1897415240: [58], 1897415247: [59], 1897415251: [60], 1897415254: [61, 62], 1897415269: [63], 1897415290: [64], 1897415293: [65], 1897415294: [66], 1897415295: [67], 1897415300: [68, 69], 1897415301: [70, 71, 72, 73, 74], 1897415351: [75], 1897415364: [76, 77, 78], 1897415373: [79], 1897415389: [80], 1897415394: [81], 1897415395: [82], 1897415399: [83], 1897415418: [84], 1897415425: [85, 86, 87, 88, 89], 1897415435: [90, 91], 1897415463: [92, 93], 1897415466: [94, 95], 1897415472: [96], 1897415475: [97, 98, 99], 1897415482: [100, 101], 1897415493: [102, 103], 1897415496: [104], 1897415504: [105, 106], 1897415508: [107], 1897415520: [108, 109, 110], 1897415524: [111], 1897415544: [112, 113, 114, 115, 116], 1897415554: [117], 1897415558: [118], 1897415560: [119], 1897415569: [120], 1897415572: [121], 1897415578: [122, 123], 1897415582: [124], 1897415589: [125], 1897415610: [126], 1897415613: [127], 1897415615: [128], 1897415620: [129], 1897415629: [130], 1897415638: [131], 1897415642: [132], 1897415667: [133, 134, 135, 136, 137], 1897415674: [138, 139, 140, 141, 142, 143], 1897415675: [144], 1897415676: [145], 1897415682: [146, 147], 1897415683: [148], 1897415684: [149], 1897415692: [150], 1897415702: [151], ...}"
      ]
     },
     "metadata": {},
     "execution_count": 4
    }
   ],
   "source": [
    "dataset.groupby(['ORBIT_CNT']).groups"
   ]
  },
  {
   "cell_type": "code",
   "execution_count": 27,
   "metadata": {},
   "outputs": [
    {
     "output_type": "execute_result",
     "data": {
      "text/plain": [
       "         TDC_CHANNEL   ORBIT_CNT  BX_COUNTER  TDC_MEAS          TIME  \\\n",
       "1292117          102  1920940255      2510.0      22.0  62768.333333   \n",
       "1292119          106  1920940255      2507.0      24.0  62695.000000   \n",
       "1292120          101  1920940255      2510.0      14.0  62761.666667   \n",
       "1292124          105  1920940255      2510.0      17.0  62764.166667   \n",
       "\n",
       "         DETECTOR  LAYER  \n",
       "1292117       4.0      2  \n",
       "1292119       4.0      2  \n",
       "1292120       4.0      4  \n",
       "1292124       4.0      4  "
      ],
      "text/html": "<div>\n<style scoped>\n    .dataframe tbody tr th:only-of-type {\n        vertical-align: middle;\n    }\n\n    .dataframe tbody tr th {\n        vertical-align: top;\n    }\n\n    .dataframe thead th {\n        text-align: right;\n    }\n</style>\n<table border=\"1\" class=\"dataframe\">\n  <thead>\n    <tr style=\"text-align: right;\">\n      <th></th>\n      <th>TDC_CHANNEL</th>\n      <th>ORBIT_CNT</th>\n      <th>BX_COUNTER</th>\n      <th>TDC_MEAS</th>\n      <th>TIME</th>\n      <th>DETECTOR</th>\n      <th>LAYER</th>\n    </tr>\n  </thead>\n  <tbody>\n    <tr>\n      <th>1292117</th>\n      <td>102</td>\n      <td>1920940255</td>\n      <td>2510.0</td>\n      <td>22.0</td>\n      <td>62768.333333</td>\n      <td>4.0</td>\n      <td>2</td>\n    </tr>\n    <tr>\n      <th>1292119</th>\n      <td>106</td>\n      <td>1920940255</td>\n      <td>2507.0</td>\n      <td>24.0</td>\n      <td>62695.000000</td>\n      <td>4.0</td>\n      <td>2</td>\n    </tr>\n    <tr>\n      <th>1292120</th>\n      <td>101</td>\n      <td>1920940255</td>\n      <td>2510.0</td>\n      <td>14.0</td>\n      <td>62761.666667</td>\n      <td>4.0</td>\n      <td>4</td>\n    </tr>\n    <tr>\n      <th>1292124</th>\n      <td>105</td>\n      <td>1920940255</td>\n      <td>2510.0</td>\n      <td>17.0</td>\n      <td>62764.166667</td>\n      <td>4.0</td>\n      <td>4</td>\n    </tr>\n  </tbody>\n</table>\n</div>"
     },
     "metadata": {},
     "execution_count": 27
    }
   ],
   "source": [
    "#dataset.groupby(['ORBIT_CNT']).get_group('1897414934') #è lentissimo\n",
    "prova = dataset.loc[dataset.groupby(['ORBIT_CNT']).groups.get(1920940255)] # questo ha detector diversi, vediamo di selezionare soltanto quelli che compaiono più volte\n",
    "prova = prova.drop(prova[prova['DETECTOR']==0].index)  \n",
    "indici = prova[prova['DETECTOR']!=(prova.DETECTOR.mode().values)[0]].index\n",
    "prova = prova.drop(indici)\n",
    "prova"
   ]
  },
  {
   "cell_type": "code",
   "execution_count": 30,
   "metadata": {},
   "outputs": [],
   "source": [
    "# DECIDO DI FARE UN GROUPBY PER ORBITE VISTA LA RARITA' DEL PASSAGGIO DI PARTICELLE \n",
    "# elimino gruppi di orbite con meno di tre hits \n",
    "# un'altra cosa prima\n",
    "# def clean(group):\n",
    "#     group1=group.drop(group[group['DETECTOR']==0].index)     \n",
    "#     detector=group1.DETECTOR.mode().values \n",
    "#     indices=group1[group1['DETECTOR']!=detector[0]].index \n",
    "#     group=group.drop(indices) \n",
    "#     return group\n",
    "# filtered1=dataset.groupby(['ORBIT_CNT'],group_keys=False)\\\n",
    "#                     .apply(clean)\\\n",
    "#                     .dropna()\\\n",
    "#                     .reset_index()\\\n",
    "#                     .drop(['index'],axis=1)\n",
    "def cut(group):\n",
    "    if group.shape[0]>2: return group\n",
    "    else: return None                         \n",
    "filtered1=dataset.groupby(['ORBIT_CNT'],group_keys=False)\\\n",
    "                    .apply(cut)\\\n",
    "                    .dropna()\\\n",
    "                    .reset_index()\\\n",
    "                    .drop(['index'],axis=1)\n",
    "# elimino i gruppi di orbite prima senza trigger activation e poi con più di una trigger activation, motivo per il quale non mi aspetto più detector dentro uno stesso evento               \n",
    "def trigger(group):\n",
    "    if (group['DETECTOR']!=0).all(): return None\n",
    "    else: return group                                    \n",
    "filtered2=filtered1.groupby(['ORBIT_CNT'],group_keys=False)\\\n",
    "                    .apply(trigger)\\\n",
    "                    .dropna()\\\n",
    "                    .reset_index()\\\n",
    "                    .drop(['index'],axis=1)\n",
    "\n",
    "def multiple_orbits(group):\n",
    "    if group[group['DETECTOR']==0].shape[0]>1: return None\n",
    "    else: return group                                     \n",
    "filtered3=filtered2.groupby(['ORBIT_CNT'],group_keys=False)\\\n",
    "                    .apply(multiple_orbits)\\\n",
    "                    .dropna()\\\n",
    "                    .reset_index()\\\n",
    "                    .drop(['index'],axis=1)\n",
    "# analizzo gruppo per gruppo quanti detector compaiono e mantengo soltanto quelle hits associate al detector che compare il maggior numero di volte. Questo cut andrebbe fatto prima di quello in cui selezioniamo i gruppi con più di tre hits perchè se eliminiamo da un gruppo delle hits corrispondenti ad un detector in minoranza allora potrebbe capitare che il gruppo rimanente contenga meno di tre hits, perchè erano più di tre ma comprese quelle del detector eliminato!\n",
    "def clean(group):\n",
    "   #group1=group.drop(group[group['DETECTOR']==0].index)     \n",
    "   detector=group.DETECTOR.mode().values \n",
    "   indices=group[group1['DETECTOR']!=detector[0]].index \n",
    "   group=group.drop(indices) \n",
    "   return group\n",
    "filtered4=filtered3.groupby(['ORBIT_CNT'],group_keys=False)\\\n",
    "                   .apply(clean)\\\n",
    "                   .dropna()\\\n",
    "                   .reset_index()\\\n",
    "                   .drop(['index'],axis=1)"
   ]
  },
  {
   "cell_type": "code",
   "execution_count": 64,
   "metadata": {},
   "outputs": [
    {
     "output_type": "execute_result",
     "data": {
      "text/plain": [
       "(503044, 7)"
      ]
     },
     "metadata": {},
     "execution_count": 64
    }
   ],
   "source": [
    "filtered5 = filtered4.groupby(['ORBIT_CNT'],group_keys=False)\\\n",
    "                    .apply(cut)\\\n",
    "                    .dropna()\\\n",
    "                    .reset_index()\\\n",
    "                    .drop(['index'],axis=1)\n",
    "filtered5.shape"
   ]
  },
  {
   "cell_type": "code",
   "execution_count": 72,
   "metadata": {},
   "outputs": [
    {
     "output_type": "execute_result",
     "data": {
      "text/plain": [
       "ORBIT_CNT     LAYER\n",
       "1.897415e+09  0.0      1\n",
       "              1.0      1\n",
       "              2.0      2\n",
       "              3.0      1\n",
       "              4.0      2\n",
       "                      ..\n",
       "1.920940e+09  3.0      1\n",
       "              4.0      1\n",
       "              0.0      1\n",
       "              2.0      2\n",
       "              4.0      2\n",
       "Length: 429077, dtype: int64"
      ]
     },
     "metadata": {},
     "execution_count": 72
    }
   ],
   "source": [
    "filtered5.groupby(['ORBIT_CNT', 'LAYER']).size()"
   ]
  },
  {
   "cell_type": "code",
   "execution_count": 82,
   "metadata": {},
   "outputs": [
    {
     "output_type": "execute_result",
     "data": {
      "text/plain": [
       "{1897414934.0: [0, 1, 2, 3, 4, 5, 6], 1897415301.0: [7, 8, 9, 10, 11], 1897415425.0: [12, 13, 14, 15, 16], 1897415544.0: [17, 18, 19, 20, 21], 1897415674.0: [22, 23, 24, 25, 26, 27], 1897416153.0: [28, 29, 30, 31, 32], 1897416210.0: [33, 34, 35, 36, 37, 38, 39], 1897416292.0: [40, 41, 42, 43, 44, 45], 1897416358.0: [46, 47, 48, 49, 50], 1897416399.0: [51, 52, 53, 54, 55], 1897416540.0: [56, 57, 58, 59, 60], 1897416573.0: [61, 62, 63, 64, 65], 1897416591.0: [66, 67, 68, 69, 70, 71, 72], 1897416624.0: [73, 74, 75, 76, 77], 1897416718.0: [78, 79, 80, 81, 82], 1897416923.0: [83, 84, 85, 86, 87], 1897417007.0: [88, 89, 90, 91, 92], 1897417046.0: [93, 94, 95, 96, 97, 98, 99, 100, 101, 102, 103, 104, 105, 106, 107, 108, 109, 110, 111], 1897417112.0: [112, 113, 114, 115, 116], 1897417122.0: [117, 118, 119, 120, 121, 122, 123], 1897417188.0: [124, 125, 126, 127, 128], 1897417267.0: [129, 130, 131, 132, 133], 1897417422.0: [134, 135, 136, 137, 138], 1897417670.0: [139, 140, 141, 142, 143], 1897417854.0: [144, 145, 146, 147, 148], 1897417876.0: [149, 150, 151, 152, 153], 1897417883.0: [154, 155, 156, 157, 158], 1897417971.0: [159, 160, 161, 162, 163], 1897418018.0: [164, 165, 166, 167, 168, 169], 1897418146.0: [170, 171, 172, 173, 174, 175, 176, 177], 1897418258.0: [178, 179, 180, 181, 182], 1897418271.0: [183, 184, 185, 186, 187], 1897418311.0: [188, 189, 190, 191, 192, 193, 194, 195, 196, 197, 198], 1897418327.0: [199, 200, 201, 202, 203], 1897418583.0: [204, 205, 206, 207, 208], 1897418589.0: [209, 210, 211, 212, 213], 1897418779.0: [214, 215, 216, 217, 218], 1897418843.0: [219, 220, 221, 222, 223], 1897419083.0: [224, 225, 226, 227, 228], 1897419088.0: [229, 230, 231, 232, 233], 1897419113.0: [234, 235, 236, 237, 238, 239, 240], 1897419230.0: [241, 242, 243, 244, 245], 1897419231.0: [246, 247, 248, 249, 250], 1897419330.0: [251, 252, 253, 254, 255], 1897419428.0: [256, 257, 258, 259, 260, 261], 1897419564.0: [262, 263, 264, 265, 266], 1897419610.0: [267, 268, 269, 270, 271, 272, 273], 1897419630.0: [274, 275, 276, 277, 278], 1897419755.0: [279, 280, 281, 282, 283, 284, 285], 1897419801.0: [286, 287, 288, 289, 290], 1897420006.0: [291, 292, 293, 294, 295], 1897420186.0: [296, 297, 298, 299, 300], 1897420200.0: [301, 302, 303, 304, 305], 1897420213.0: [306, 307, 308, 309, 310], 1897420247.0: [311, 312, 313, 314, 315], 1897420345.0: [316, 317, 318, 319, 320], 1897420384.0: [321, 322, 323, 324, 325, 326], 1897420442.0: [327, 328, 329, 330, 331], 1897420535.0: [332, 333, 334, 335, 336], 1897420540.0: [337, 338, 339, 340, 341], 1897421066.0: [342, 343, 344, 345, 346, 347], 1897421321.0: [348, 349, 350, 351, 352], 1897421514.0: [353, 354, 355, 356, 357], 1897421576.0: [358, 359, 360, 361, 362], 1897421897.0: [363, 364, 365, 366, 367], 1897422199.0: [368, 369, 370, 371, 372], 1897422304.0: [373, 374, 375, 376, 377, 378], 1897422380.0: [379, 380, 381, 382, 383, 384], 1897422469.0: [385, 386, 387, 388, 389], 1897422499.0: [390, 391, 392, 393, 394, 395], 1897422570.0: [396, 397, 398, 399, 400, 401], 1897422621.0: [402, 403, 404, 405, 406], 1897422627.0: [407, 408, 409, 410, 411], 1897422662.0: [412, 413, 414, 415, 416], 1897422669.0: [417, 418, 419, 420, 421], 1897422968.0: [422, 423, 424, 425, 426], 1897423124.0: [427, 428, 429, 430, 431, 432], 1897423397.0: [433, 434, 435, 436, 437], 1897423480.0: [438, 439, 440, 441, 442], 1897423485.0: [443, 444, 445, 446, 447], 1897423541.0: [448, 449, 450, 451, 452], 1897423627.0: [453, 454, 455, 456, 457], 1897423863.0: [458, 459, 460, 461, 462], 1897423896.0: [463, 464, 465, 466, 467], 1897424059.0: [468, 469, 470, 471, 472], 1897424787.0: [473, 474, 475, 476, 477], 1897425006.0: [478, 479, 480, 481, 482], 1897425012.0: [483, 484, 485, 486, 487], 1897425108.0: [488, 489, 490, 491, 492, 493, 494, 495, 496, 497, 498, 499, 500, 501, 502], 1897425175.0: [503, 504, 505, 506, 507], 1897425311.0: [508, 509, 510, 511, 512], 1897425590.0: [513, 514, 515, 516, 517], 1897425714.0: [518, 519, 520], 1897425826.0: [521, 522, 523, 524, 525, 526], 1897426211.0: [527, 528, 529, 530, 531, 532, 533], 1897426231.0: [534, 535, 536, 537, 538, 539, 540], 1897426330.0: [541, 542, 543, 544, 545], 1897426444.0: [546, 547, 548, 549, 550], 1897426457.0: [551, 552, 553, 554, 555], 1897426790.0: [556, 557, 558, 559, 560], ...}"
      ]
     },
     "metadata": {},
     "execution_count": 82
    }
   ],
   "source": [
    "filtered5.groupby(['ORBIT_CNT']).groups"
   ]
  },
  {
   "cell_type": "code",
   "execution_count": 104,
   "metadata": {},
   "outputs": [],
   "source": [
    "def elimina(group):\n",
    "    # voglio ch enel gruppo prenda la colonna layer e controlli se ci sono elementi che spuntano più di una volta \n",
    "    if len(group['LAYER']) != len(set(group['LAYER'])): return None \n",
    "    else: return group \n",
    "filtered6 = filtered5.groupby(['ORBIT_CNT'],group_keys=False)\\\n",
    "                    .apply(elimina)\\\n",
    "                    .dropna()\\\n",
    "                    .reset_index()\\\n",
    "                    .drop(['index'],axis=1)\n",
    "\n",
    "#filtered6 = filtered5.groupby(['LAYER','ORBIT_CNT']).filter(lambda x: len(x) == 1)\n",
    "# io voglio eliminare l'intero gruppo di orbit e non di layer "
   ]
  },
  {
   "cell_type": "code",
   "execution_count": 108,
   "metadata": {},
   "outputs": [
    {
     "output_type": "execute_result",
     "data": {
      "text/plain": [
       "   TDC_CHANNEL     ORBIT_CNT  BX_COUNTER  TDC_MEAS     TIME  DETECTOR  LAYER\n",
       "0         86.0  1.897415e+09      2802.0      27.0  70072.5       2.0    2.0\n",
       "1         87.0  1.897415e+09      2798.0       9.0  69957.5       2.0    3.0\n",
       "2        139.0  1.897415e+09      2812.0       0.0  70300.0       0.0    0.0\n",
       "3         88.0  1.897415e+09      2810.0      24.0  70270.0       2.0    1.0\n",
       "4         89.0  1.897415e+09      2807.0      27.0  70197.5       2.0    4.0"
      ],
      "text/html": "<div>\n<style scoped>\n    .dataframe tbody tr th:only-of-type {\n        vertical-align: middle;\n    }\n\n    .dataframe tbody tr th {\n        vertical-align: top;\n    }\n\n    .dataframe thead th {\n        text-align: right;\n    }\n</style>\n<table border=\"1\" class=\"dataframe\">\n  <thead>\n    <tr style=\"text-align: right;\">\n      <th></th>\n      <th>TDC_CHANNEL</th>\n      <th>ORBIT_CNT</th>\n      <th>BX_COUNTER</th>\n      <th>TDC_MEAS</th>\n      <th>TIME</th>\n      <th>DETECTOR</th>\n      <th>LAYER</th>\n    </tr>\n  </thead>\n  <tbody>\n    <tr>\n      <th>0</th>\n      <td>86.0</td>\n      <td>1.897415e+09</td>\n      <td>2802.0</td>\n      <td>27.0</td>\n      <td>70072.5</td>\n      <td>2.0</td>\n      <td>2.0</td>\n    </tr>\n    <tr>\n      <th>1</th>\n      <td>87.0</td>\n      <td>1.897415e+09</td>\n      <td>2798.0</td>\n      <td>9.0</td>\n      <td>69957.5</td>\n      <td>2.0</td>\n      <td>3.0</td>\n    </tr>\n    <tr>\n      <th>2</th>\n      <td>139.0</td>\n      <td>1.897415e+09</td>\n      <td>2812.0</td>\n      <td>0.0</td>\n      <td>70300.0</td>\n      <td>0.0</td>\n      <td>0.0</td>\n    </tr>\n    <tr>\n      <th>3</th>\n      <td>88.0</td>\n      <td>1.897415e+09</td>\n      <td>2810.0</td>\n      <td>24.0</td>\n      <td>70270.0</td>\n      <td>2.0</td>\n      <td>1.0</td>\n    </tr>\n    <tr>\n      <th>4</th>\n      <td>89.0</td>\n      <td>1.897415e+09</td>\n      <td>2807.0</td>\n      <td>27.0</td>\n      <td>70197.5</td>\n      <td>2.0</td>\n      <td>4.0</td>\n    </tr>\n  </tbody>\n</table>\n</div>"
     },
     "metadata": {},
     "execution_count": 108
    }
   ],
   "source": [
    "prov = filtered6.loc[filtered6.groupby(['ORBIT_CNT']).groups.get(1897415301.0)]\n",
    "prov  # è un dataframe e voglio cercare una condizione per cui ci sono elementi ripetuti "
   ]
  },
  {
   "cell_type": "code",
   "execution_count": null,
   "metadata": {},
   "outputs": [],
   "source": []
  }
 ]
}